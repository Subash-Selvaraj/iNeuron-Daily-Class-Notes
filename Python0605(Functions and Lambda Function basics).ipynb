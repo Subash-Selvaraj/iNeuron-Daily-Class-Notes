{
 "cells": [
  {
   "cell_type": "code",
   "execution_count": 1,
   "id": "2363642a",
   "metadata": {},
   "outputs": [],
   "source": [
    "#funtion\n",
    "def test(a,b):\n",
    "    return a+b"
   ]
  },
  {
   "cell_type": "code",
   "execution_count": 3,
   "id": "8d4d6fca",
   "metadata": {},
   "outputs": [
    {
     "data": {
      "text/plain": [
       "10"
      ]
     },
     "execution_count": 3,
     "metadata": {},
     "output_type": "execute_result"
    }
   ],
   "source": [
    "test(4,6)"
   ]
  },
  {
   "cell_type": "code",
   "execution_count": 7,
   "id": "8e0206b6",
   "metadata": {},
   "outputs": [
    {
     "data": {
      "text/plain": [
       "'subashselvaraj'"
      ]
     },
     "execution_count": 7,
     "metadata": {},
     "output_type": "execute_result"
    }
   ],
   "source": [
    "test(\"subash\",\"selvaraj\")"
   ]
  },
  {
   "cell_type": "code",
   "execution_count": 8,
   "id": "ea472a25",
   "metadata": {},
   "outputs": [
    {
     "data": {
      "text/plain": [
       "13"
      ]
     },
     "execution_count": 8,
     "metadata": {},
     "output_type": "execute_result"
    }
   ],
   "source": [
    "test(a=5,b=8)"
   ]
  },
  {
   "cell_type": "code",
   "execution_count": 10,
   "id": "2b1031a3",
   "metadata": {},
   "outputs": [
    {
     "data": {
      "text/plain": [
       "122"
      ]
     },
     "execution_count": 10,
     "metadata": {},
     "output_type": "execute_result"
    }
   ],
   "source": [
    "test(b=89,a=33)"
   ]
  },
  {
   "cell_type": "code",
   "execution_count": 15,
   "id": "5e0febdd",
   "metadata": {},
   "outputs": [],
   "source": [
    "def test(a,b):\n",
    "    'this is my function for concatination or addition' #docstring\n",
    "    return a+b"
   ]
  },
  {
   "cell_type": "code",
   "execution_count": 16,
   "id": "52577132",
   "metadata": {},
   "outputs": [
    {
     "data": {
      "text/plain": [
       "9"
      ]
     },
     "execution_count": 16,
     "metadata": {},
     "output_type": "execute_result"
    }
   ],
   "source": [
    "test(4,5)"
   ]
  },
  {
   "cell_type": "code",
   "execution_count": 17,
   "id": "ce38a5eb",
   "metadata": {},
   "outputs": [],
   "source": [
    "def test1(a,b,c,d,e):\n",
    "    return a,b,c,d,e"
   ]
  },
  {
   "cell_type": "code",
   "execution_count": 22,
   "id": "3c278013",
   "metadata": {},
   "outputs": [
    {
     "ename": "TypeError",
     "evalue": "test1() takes 5 positional arguments but 6 were given",
     "output_type": "error",
     "traceback": [
      "\u001b[1;31m---------------------------------------------------------------------------\u001b[0m",
      "\u001b[1;31mTypeError\u001b[0m                                 Traceback (most recent call last)",
      "Input \u001b[1;32mIn [22]\u001b[0m, in \u001b[0;36m<cell line: 1>\u001b[1;34m()\u001b[0m\n\u001b[1;32m----> 1\u001b[0m \u001b[43mtest1\u001b[49m\u001b[43m(\u001b[49m\u001b[38;5;241;43m3\u001b[39;49m\u001b[43m,\u001b[49m\u001b[38;5;241;43m4\u001b[39;49m\u001b[43m,\u001b[49m\u001b[38;5;241;43m5\u001b[39;49m\u001b[43m,\u001b[49m\u001b[38;5;241;43m6\u001b[39;49m\u001b[43m,\u001b[49m\u001b[38;5;241;43m7\u001b[39;49m\u001b[43m,\u001b[49m\u001b[38;5;241;43m7\u001b[39;49m\u001b[43m)\u001b[49m\n",
      "\u001b[1;31mTypeError\u001b[0m: test1() takes 5 positional arguments but 6 were given"
     ]
    }
   ],
   "source": [
    "test1(3,4,5,6,7,7) #we have to provide only number of inputs which is defined in function"
   ]
  },
  {
   "cell_type": "code",
   "execution_count": 23,
   "id": "5db42097",
   "metadata": {},
   "outputs": [
    {
     "data": {
      "text/plain": [
       "(3, 4, 5, 6, 7)"
      ]
     },
     "execution_count": 23,
     "metadata": {},
     "output_type": "execute_result"
    }
   ],
   "source": [
    "test1(3,4,5,6,7)"
   ]
  },
  {
   "cell_type": "code",
   "execution_count": 24,
   "id": "1b753d3e",
   "metadata": {},
   "outputs": [],
   "source": [
    "def test3(*a): #this will provide any number of paramaters based on given input\n",
    "    return a"
   ]
  },
  {
   "cell_type": "code",
   "execution_count": 26,
   "id": "da9cba70",
   "metadata": {},
   "outputs": [
    {
     "data": {
      "text/plain": [
       "(99, 22)"
      ]
     },
     "execution_count": 26,
     "metadata": {},
     "output_type": "execute_result"
    }
   ],
   "source": [
    "test3(99,22) "
   ]
  },
  {
   "cell_type": "code",
   "execution_count": 27,
   "id": "2604e078",
   "metadata": {},
   "outputs": [
    {
     "data": {
      "text/plain": [
       "(22.44, 55, 2, 4, 2, 42, 32, 42, 4242, 32, 3)"
      ]
     },
     "execution_count": 27,
     "metadata": {},
     "output_type": "execute_result"
    }
   ],
   "source": [
    "test3(22.44,55,2,4,2,42,32,42,4242,32,3)"
   ]
  },
  {
   "cell_type": "code",
   "execution_count": 29,
   "id": "1221d42e",
   "metadata": {},
   "outputs": [
    {
     "data": {
      "text/plain": [
       "(28,\n",
       " 3,\n",
       " 4,\n",
       " 5,\n",
       " 6,\n",
       " 7,\n",
       " 4,\n",
       " 6,\n",
       " 7,\n",
       " 4,\n",
       " 56,\n",
       " 6,\n",
       " 3,\n",
       " 6,\n",
       " 424535,\n",
       " 342,\n",
       " 4,\n",
       " 5,\n",
       " 3,\n",
       " [332, 5, 52, 5, 2523, 5])"
      ]
     },
     "execution_count": 29,
     "metadata": {},
     "output_type": "execute_result"
    }
   ],
   "source": [
    "test3(28,3,4,5,6,7,4,6,7,4,56,6,3,6,424535,342,4,5,3,[332,5,52,5,2523,5])"
   ]
  },
  {
   "cell_type": "code",
   "execution_count": 31,
   "id": "c67890c2",
   "metadata": {},
   "outputs": [],
   "source": [
    "def test5(*a): \n",
    "    l=[]\n",
    "    for i in a:\n",
    "        l.append(i) #extracting the data from given inputs and append the new list\n",
    "    return l"
   ]
  },
  {
   "cell_type": "code",
   "execution_count": 33,
   "id": "a0c3a6ba",
   "metadata": {},
   "outputs": [
    {
     "data": {
      "text/plain": [
       "[12, 4, 2, 3, 4, 2, 34, 4, 3, 4, 4, 3, 4, 2, 4, 2, [4, 3, 4, 3, 4, 2242, 34]]"
      ]
     },
     "execution_count": 33,
     "metadata": {},
     "output_type": "execute_result"
    }
   ],
   "source": [
    "test5(12,4,2,3,4,2,34,4,3,4,4,3,4,2,4,2,[4,3,4,3,4,2242,34])"
   ]
  },
  {
   "cell_type": "code",
   "execution_count": 34,
   "id": "79da2dcc",
   "metadata": {},
   "outputs": [],
   "source": [
    "def test7(*m,a,b,c,d,e):\n",
    "    return m, a,b,c,d,e"
   ]
  },
  {
   "cell_type": "code",
   "execution_count": 39,
   "id": "b398bf9b",
   "metadata": {},
   "outputs": [
    {
     "data": {
      "text/plain": [
       "((4, 5, 6, 7, 8, 4, 8, 8, 9, 9, 4, 4, 2), 67, 34, 54, 76, 67)"
      ]
     },
     "execution_count": 39,
     "metadata": {},
     "output_type": "execute_result"
    }
   ],
   "source": [
    "test7(4,5,6,7,8,4,8,8,9,9,4,4,2,a=67,b=34,c=54,d=76,e=67)"
   ]
  },
  {
   "cell_type": "code",
   "execution_count": 40,
   "id": "069056f4",
   "metadata": {},
   "outputs": [],
   "source": [
    "def test8(**subash):\n",
    "    return subash"
   ]
  },
  {
   "cell_type": "code",
   "execution_count": 41,
   "id": "b1e8670a",
   "metadata": {},
   "outputs": [
    {
     "ename": "TypeError",
     "evalue": "test8() takes 0 positional arguments but 4 were given",
     "output_type": "error",
     "traceback": [
      "\u001b[1;31m---------------------------------------------------------------------------\u001b[0m",
      "\u001b[1;31mTypeError\u001b[0m                                 Traceback (most recent call last)",
      "Input \u001b[1;32mIn [41]\u001b[0m, in \u001b[0;36m<cell line: 1>\u001b[1;34m()\u001b[0m\n\u001b[1;32m----> 1\u001b[0m \u001b[43mtest8\u001b[49m\u001b[43m(\u001b[49m\u001b[38;5;241;43m4\u001b[39;49m\u001b[43m,\u001b[49m\u001b[38;5;241;43m5\u001b[39;49m\u001b[43m,\u001b[49m\u001b[38;5;241;43m6\u001b[39;49m\u001b[43m,\u001b[49m\u001b[38;5;241;43m6\u001b[39;49m\u001b[43m)\u001b[49m\n",
      "\u001b[1;31mTypeError\u001b[0m: test8() takes 0 positional arguments but 4 were given"
     ]
    }
   ],
   "source": [
    "test8(4,5,6,6)"
   ]
  },
  {
   "cell_type": "code",
   "execution_count": 42,
   "id": "7bffca5c",
   "metadata": {},
   "outputs": [],
   "source": [
    "def test8(**subash):\n",
    "    return subash"
   ]
  },
  {
   "cell_type": "code",
   "execution_count": 46,
   "id": "100797eb",
   "metadata": {},
   "outputs": [
    {
     "data": {
      "text/plain": [
       "{'b': 4, 'c': 5, 'd': 6, 'e': 6, 'n': [3, 4, 56, 7, 8, 96, 6]}"
      ]
     },
     "execution_count": 46,
     "metadata": {},
     "output_type": "execute_result"
    }
   ],
   "source": [
    "test8(b=4,c=5,d=6,e=6,n=[3,4,56,7,8,96,6])"
   ]
  },
  {
   "cell_type": "code",
   "execution_count": 55,
   "id": "7913d75c",
   "metadata": {},
   "outputs": [],
   "source": [
    "def test9(*m,**s):\n",
    "    return m,s"
   ]
  },
  {
   "cell_type": "code",
   "execution_count": 58,
   "id": "d8226ee1",
   "metadata": {},
   "outputs": [
    {
     "data": {
      "text/plain": [
       "((345, 45, 56, 5, 6, 56), {'b': 4, 'c': 7, 'g': 9})"
      ]
     },
     "execution_count": 58,
     "metadata": {},
     "output_type": "execute_result"
    }
   ],
   "source": [
    "test9(345,45,56,5,6,56,b=4,c=7,g=9)"
   ]
  },
  {
   "cell_type": "code",
   "execution_count": 66,
   "id": "624897ef",
   "metadata": {},
   "outputs": [],
   "source": [
    "def test10(*m):\n",
    "    n=0\n",
    "    for i in m:\n",
    "        if type(i)==int:\n",
    "            n=n+i\n",
    "    return n"
   ]
  },
  {
   "cell_type": "code",
   "execution_count": 67,
   "id": "8ea92a54",
   "metadata": {},
   "outputs": [
    {
     "data": {
      "text/plain": [
       "31"
      ]
     },
     "execution_count": 67,
     "metadata": {},
     "output_type": "execute_result"
    }
   ],
   "source": [
    "test10(2,3,4,5,5,6,6)"
   ]
  },
  {
   "cell_type": "code",
   "execution_count": 79,
   "id": "46b5cdb1",
   "metadata": {},
   "outputs": [],
   "source": [
    "def test11(*m):\n",
    "    n=1\n",
    "    for i in m:\n",
    "        if type(i)==int:\n",
    "            n=n*i\n",
    "    return n"
   ]
  },
  {
   "cell_type": "code",
   "execution_count": 80,
   "id": "671c9089",
   "metadata": {},
   "outputs": [
    {
     "data": {
      "text/plain": [
       "3507840"
      ]
     },
     "execution_count": 80,
     "metadata": {},
     "output_type": "execute_result"
    }
   ],
   "source": [
    "test11(4,5,6,6,7,87,8)"
   ]
  },
  {
   "cell_type": "markdown",
   "id": "92c5eee4",
   "metadata": {},
   "source": [
    "#### Lambda"
   ]
  },
  {
   "cell_type": "code",
   "execution_count": 82,
   "id": "5f451b53",
   "metadata": {},
   "outputs": [],
   "source": [
    "n=lambda a,b:a+b"
   ]
  },
  {
   "cell_type": "code",
   "execution_count": 84,
   "id": "788f3ed7",
   "metadata": {},
   "outputs": [
    {
     "data": {
      "text/plain": [
       "9"
      ]
     },
     "execution_count": 84,
     "metadata": {},
     "output_type": "execute_result"
    }
   ],
   "source": [
    "n(4,5)"
   ]
  },
  {
   "cell_type": "code",
   "execution_count": 85,
   "id": "8d0a9367",
   "metadata": {},
   "outputs": [],
   "source": [
    "def test5(a,b):\n",
    "    return a+b"
   ]
  },
  {
   "cell_type": "code",
   "execution_count": 86,
   "id": "67ad984c",
   "metadata": {},
   "outputs": [
    {
     "data": {
      "text/plain": [
       "9"
      ]
     },
     "execution_count": 86,
     "metadata": {},
     "output_type": "execute_result"
    }
   ],
   "source": [
    "test5(4,5)"
   ]
  },
  {
   "cell_type": "code",
   "execution_count": 87,
   "id": "18b388f9",
   "metadata": {},
   "outputs": [],
   "source": [
    "def test5(a,b):\n",
    "    return a+b"
   ]
  },
  {
   "cell_type": "code",
   "execution_count": 88,
   "id": "a751a77d",
   "metadata": {},
   "outputs": [
    {
     "data": {
      "text/plain": [
       "9"
      ]
     },
     "execution_count": 88,
     "metadata": {},
     "output_type": "execute_result"
    }
   ],
   "source": [
    "test(4,5)"
   ]
  },
  {
   "cell_type": "code",
   "execution_count": 89,
   "id": "12f3bac8",
   "metadata": {},
   "outputs": [
    {
     "data": {
      "text/plain": [
       "66"
      ]
     },
     "execution_count": 89,
     "metadata": {},
     "output_type": "execute_result"
    }
   ],
   "source": [
    "n(23,43)"
   ]
  },
  {
   "cell_type": "code",
   "execution_count": 93,
   "id": "1acce988",
   "metadata": {},
   "outputs": [],
   "source": [
    "d = lambda *subash:subash"
   ]
  },
  {
   "cell_type": "code",
   "execution_count": 94,
   "id": "d667df64",
   "metadata": {},
   "outputs": [
    {
     "data": {
      "text/plain": [
       "(4, 5, 6, 7, 7, 8, 9)"
      ]
     },
     "execution_count": 94,
     "metadata": {},
     "output_type": "execute_result"
    }
   ],
   "source": [
    "d(4,5,6,7,7,8,9)"
   ]
  },
  {
   "cell_type": "markdown",
   "id": "1ed3738f",
   "metadata": {},
   "source": [
    "#### Comprehension operations"
   ]
  },
  {
   "cell_type": "code",
   "execution_count": 97,
   "id": "aecf6b28",
   "metadata": {},
   "outputs": [],
   "source": [
    "t = (3,4,5,6,6,7,8,9,3) #change this to list"
   ]
  },
  {
   "cell_type": "code",
   "execution_count": 99,
   "id": "27b23c3a",
   "metadata": {},
   "outputs": [],
   "source": [
    "l=[]\n",
    "for i in t:\n",
    "    l.append(i)"
   ]
  },
  {
   "cell_type": "code",
   "execution_count": 100,
   "id": "19807663",
   "metadata": {},
   "outputs": [
    {
     "data": {
      "text/plain": [
       "[3, 4, 5, 6, 6, 7, 8, 9, 3]"
      ]
     },
     "execution_count": 100,
     "metadata": {},
     "output_type": "execute_result"
    }
   ],
   "source": [
    "l"
   ]
  },
  {
   "cell_type": "code",
   "execution_count": 101,
   "id": "65411ae5",
   "metadata": {},
   "outputs": [],
   "source": [
    "#List comprehension"
   ]
  },
  {
   "cell_type": "code",
   "execution_count": 105,
   "id": "bb4c75f7",
   "metadata": {},
   "outputs": [
    {
     "data": {
      "text/plain": [
       "[3, 4, 5, 6, 6, 7, 8, 9, 3]"
      ]
     },
     "execution_count": 105,
     "metadata": {},
     "output_type": "execute_result"
    }
   ],
   "source": [
    "[i for i in t] #first declaration is return thing which we want to print(i)"
   ]
  },
  {
   "cell_type": "code",
   "execution_count": 107,
   "id": "4404fe96",
   "metadata": {},
   "outputs": [],
   "source": [
    "s = \"subash\""
   ]
  },
  {
   "cell_type": "code",
   "execution_count": 108,
   "id": "ab7aa43a",
   "metadata": {},
   "outputs": [
    {
     "data": {
      "text/plain": [
       "['s', 'u', 'b', 'a', 's', 'h']"
      ]
     },
     "execution_count": 108,
     "metadata": {},
     "output_type": "execute_result"
    }
   ],
   "source": [
    "[i for i in s]"
   ]
  },
  {
   "cell_type": "code",
   "execution_count": 116,
   "id": "b4b05c5b",
   "metadata": {},
   "outputs": [
    {
     "data": {
      "text/plain": [
       "[0, 1, 4, 9, 16, 25, 36, 49, 64, 81]"
      ]
     },
     "execution_count": 116,
     "metadata": {},
     "output_type": "execute_result"
    }
   ],
   "source": [
    "[i*i for i in range(10)]"
   ]
  },
  {
   "cell_type": "code",
   "execution_count": 120,
   "id": "85533381",
   "metadata": {},
   "outputs": [
    {
     "data": {
      "text/plain": [
       "[0, 1, 4, 9, 16, 25, 36, 49, 64, 81]"
      ]
     },
     "execution_count": 120,
     "metadata": {},
     "output_type": "execute_result"
    }
   ],
   "source": [
    "#square of the range\n",
    "[i**2 for i in range(10)]"
   ]
  },
  {
   "cell_type": "code",
   "execution_count": 122,
   "id": "2277c3e0",
   "metadata": {},
   "outputs": [],
   "source": [
    "l = lambda *x: [i for i in x] #using lambda function and return the input values in list "
   ]
  },
  {
   "cell_type": "code",
   "execution_count": 124,
   "id": "e934b53a",
   "metadata": {},
   "outputs": [
    {
     "data": {
      "text/plain": [
       "[4, 5, 6, 7, 8, 9]"
      ]
     },
     "execution_count": 124,
     "metadata": {},
     "output_type": "execute_result"
    }
   ],
   "source": [
    "l(4,5,6,7,8,9)"
   ]
  },
  {
   "cell_type": "code",
   "execution_count": 127,
   "id": "2e824442",
   "metadata": {},
   "outputs": [],
   "source": [
    "l=  lambda*x:[i**2 for i in x] #square of the given number"
   ]
  },
  {
   "cell_type": "code",
   "execution_count": 130,
   "id": "acf08adf",
   "metadata": {},
   "outputs": [
    {
     "data": {
      "text/plain": [
       "[9, 16, 25, 36, 36]"
      ]
     },
     "execution_count": 130,
     "metadata": {},
     "output_type": "execute_result"
    }
   ],
   "source": [
    "l(3,4,5,6,6)"
   ]
  },
  {
   "cell_type": "code",
   "execution_count": 131,
   "id": "0d853ff5",
   "metadata": {},
   "outputs": [
    {
     "ename": "NameError",
     "evalue": "name 'test14' is not defined",
     "output_type": "error",
     "traceback": [
      "\u001b[1;31m---------------------------------------------------------------------------\u001b[0m",
      "\u001b[1;31mNameError\u001b[0m                                 Traceback (most recent call last)",
      "Input \u001b[1;32mIn [131]\u001b[0m, in \u001b[0;36m<cell line: 1>\u001b[1;34m()\u001b[0m\n\u001b[1;32m----> 1\u001b[0m \u001b[43mtest14\u001b[49m(a\u001b[38;5;241m=\u001b[39m\u001b[38;5;241m7\u001b[39m,b\u001b[38;5;241m=\u001b[39m\u001b[38;5;124m\"\u001b[39m\u001b[38;5;124msubash\u001b[39m\u001b[38;5;124m\"\u001b[39m,c\u001b[38;5;241m=\u001b[39m\u001b[38;5;241m345\u001b[39m,d\u001b[38;5;241m=\u001b[39m\u001b[38;5;124m\"\u001b[39m\u001b[38;5;124msubash\u001b[39m\u001b[38;5;124m\"\u001b[39m,l\u001b[38;5;241m=\u001b[39m[\u001b[38;5;241m2\u001b[39m,\u001b[38;5;241m3\u001b[39m,\u001b[38;5;241m4\u001b[39m,\u001b[38;5;241m45\u001b[39m,\u001b[38;5;124m\"\u001b[39m\u001b[38;5;124msubash\u001b[39m\u001b[38;5;124m\"\u001b[39m])\n",
      "\u001b[1;31mNameError\u001b[0m: name 'test14' is not defined"
     ]
    }
   ],
   "source": [
    "test14(a=7,b=\"subash\",c=345,d=\"subash\",l=[2,3,4,45,\"subash\"])"
   ]
  },
  {
   "cell_type": "code",
   "execution_count": 149,
   "id": "7e7702b0",
   "metadata": {},
   "outputs": [],
   "source": [
    "#take the count of all string from the given input\n",
    "def test14(**args): # double * is for purpose to give the multiple different type of inputs\n",
    "    count= 0\n",
    "    for i in args.values():\n",
    "        if type(i)==str or type(i)==list:\n",
    "            count+=1\n",
    "    return count"
   ]
  },
  {
   "cell_type": "code",
   "execution_count": 150,
   "id": "6a756304",
   "metadata": {},
   "outputs": [
    {
     "data": {
      "text/plain": [
       "3"
      ]
     },
     "execution_count": 150,
     "metadata": {},
     "output_type": "execute_result"
    }
   ],
   "source": [
    "test14(a=7,b=\"subash\",c=345,d=\"subash\",l=[2,3,4,45,\"subash\"])"
   ]
  },
  {
   "cell_type": "code",
   "execution_count": 155,
   "id": "9dd95813",
   "metadata": {},
   "outputs": [],
   "source": [
    "#return the data in list type\n",
    "def test15(**a):\n",
    "    return list(a.values())"
   ]
  },
  {
   "cell_type": "code",
   "execution_count": 156,
   "id": "985f6d0c",
   "metadata": {},
   "outputs": [
    {
     "data": {
      "text/plain": [
       "[7, 'subash', 345, 'subash', [2, 3, 4, 45, 'subash']]"
      ]
     },
     "execution_count": 156,
     "metadata": {},
     "output_type": "execute_result"
    }
   ],
   "source": [
    "test15(a=7,b=\"subash\",c=345,d=\"subash\",l=[2,3,4,45,\"subash\"])"
   ]
  },
  {
   "cell_type": "raw",
   "id": "ccd8eb5b",
   "metadata": {},
   "source": [
    "q1=try to print a prime number in between 1 to 1000\n",
    "q2=try to write a function which is equivalent to print function in python\n",
    "q3=try to write a function which is a replace of list append,extend and opo function\n",
    "q4=try to write a lambda function which can return a concatination of all the string that we will pass\n",
    "q5=try to write lambda function which can return list of square of all the data betwwn1-100\n",
    "q6=try to write a 10 different different example of lambda function with a coice of yours\n",
    "q7=try to writw a function which can perform a read operation from txt file"
   ]
  },
  {
   "cell_type": "markdown",
   "id": "518ae056",
   "metadata": {},
   "source": [
    "#### q1=try to print a prime number in between 1 to 1000\n"
   ]
  },
  {
   "cell_type": "code",
   "execution_count": 8,
   "id": "99aeb45b",
   "metadata": {},
   "outputs": [
    {
     "name": "stdout",
     "output_type": "stream",
     "text": [
      "2\n",
      "3\n",
      "5\n",
      "7\n",
      "11\n",
      "13\n",
      "17\n",
      "19\n",
      "23\n",
      "29\n",
      "31\n",
      "37\n",
      "41\n",
      "43\n",
      "47\n",
      "53\n",
      "59\n",
      "61\n",
      "67\n",
      "71\n",
      "73\n",
      "79\n",
      "83\n",
      "89\n",
      "97\n",
      "101\n",
      "103\n",
      "107\n",
      "109\n",
      "113\n",
      "127\n",
      "131\n",
      "137\n",
      "139\n",
      "149\n",
      "151\n",
      "157\n",
      "163\n",
      "167\n",
      "173\n",
      "179\n",
      "181\n",
      "191\n",
      "193\n",
      "197\n",
      "199\n",
      "211\n",
      "223\n",
      "227\n",
      "229\n",
      "233\n",
      "239\n",
      "241\n",
      "251\n",
      "257\n",
      "263\n",
      "269\n",
      "271\n",
      "277\n",
      "281\n",
      "283\n",
      "293\n",
      "307\n",
      "311\n",
      "313\n",
      "317\n",
      "331\n",
      "337\n",
      "347\n",
      "349\n",
      "353\n",
      "359\n",
      "367\n",
      "373\n",
      "379\n",
      "383\n",
      "389\n",
      "397\n",
      "401\n",
      "409\n",
      "419\n",
      "421\n",
      "431\n",
      "433\n",
      "439\n",
      "443\n",
      "449\n",
      "457\n",
      "461\n",
      "463\n",
      "467\n",
      "479\n",
      "487\n",
      "491\n",
      "499\n",
      "503\n",
      "509\n",
      "521\n",
      "523\n",
      "541\n",
      "547\n",
      "557\n",
      "563\n",
      "569\n",
      "571\n",
      "577\n",
      "587\n",
      "593\n",
      "599\n",
      "601\n",
      "607\n",
      "613\n",
      "617\n",
      "619\n",
      "631\n",
      "641\n",
      "643\n",
      "647\n",
      "653\n",
      "659\n",
      "661\n",
      "673\n",
      "677\n",
      "683\n",
      "691\n",
      "701\n",
      "709\n",
      "719\n",
      "727\n",
      "733\n",
      "739\n",
      "743\n",
      "751\n",
      "757\n",
      "761\n",
      "769\n",
      "773\n",
      "787\n",
      "797\n",
      "809\n",
      "811\n",
      "821\n",
      "823\n",
      "827\n",
      "829\n",
      "839\n",
      "853\n",
      "857\n",
      "859\n",
      "863\n",
      "877\n",
      "881\n",
      "883\n",
      "887\n",
      "907\n",
      "911\n",
      "919\n",
      "929\n",
      "937\n",
      "941\n",
      "947\n",
      "953\n",
      "967\n",
      "971\n",
      "977\n",
      "983\n",
      "991\n",
      "997\n"
     ]
    }
   ],
   "source": [
    "for i in range (1,1000):  \n",
    "    if i > 1:  \n",
    "        for j in range (2, i):  \n",
    "            if (i % j) == 0:  \n",
    "                break  \n",
    "        else:  \n",
    "            print (i)  "
   ]
  },
  {
   "cell_type": "markdown",
   "id": "cf440c17",
   "metadata": {},
   "source": [
    "#### q2=try to write a function which is equivalent to print function in python"
   ]
  },
  {
   "cell_type": "code",
   "execution_count": 71,
   "id": "1a48aa59",
   "metadata": {},
   "outputs": [],
   "source": [
    "def fun():\n",
    "    return \"subash\""
   ]
  },
  {
   "cell_type": "code",
   "execution_count": 72,
   "id": "6386572f",
   "metadata": {},
   "outputs": [
    {
     "data": {
      "text/plain": [
       "'subash'"
      ]
     },
     "execution_count": 72,
     "metadata": {},
     "output_type": "execute_result"
    }
   ],
   "source": [
    "fun()"
   ]
  },
  {
   "cell_type": "markdown",
   "id": "34c5fed5",
   "metadata": {},
   "source": [
    "#### try to write a function which is a replace of list append,extend and pop function"
   ]
  },
  {
   "cell_type": "code",
   "execution_count": 73,
   "id": "ec5ae47f",
   "metadata": {},
   "outputs": [],
   "source": [
    "lst = [1,2,3,4,5]"
   ]
  },
  {
   "cell_type": "code",
   "execution_count": 74,
   "id": "07c4139f",
   "metadata": {},
   "outputs": [],
   "source": [
    "lst.append(2)"
   ]
  },
  {
   "cell_type": "code",
   "execution_count": 75,
   "id": "bf35a72f",
   "metadata": {},
   "outputs": [
    {
     "data": {
      "text/plain": [
       "[1, 2, 3, 4, 5, 2]"
      ]
     },
     "execution_count": 75,
     "metadata": {},
     "output_type": "execute_result"
    }
   ],
   "source": [
    "lst"
   ]
  },
  {
   "cell_type": "code",
   "execution_count": 76,
   "id": "e1bc11fa",
   "metadata": {},
   "outputs": [],
   "source": [
    "lst.extend([1,2,2])"
   ]
  },
  {
   "cell_type": "code",
   "execution_count": 77,
   "id": "e423ce39",
   "metadata": {},
   "outputs": [
    {
     "data": {
      "text/plain": [
       "[1, 2, 3, 4, 5, 2, 1, 2, 2]"
      ]
     },
     "execution_count": 77,
     "metadata": {},
     "output_type": "execute_result"
    }
   ],
   "source": [
    "lst"
   ]
  },
  {
   "cell_type": "code",
   "execution_count": 78,
   "id": "9b8001d2",
   "metadata": {},
   "outputs": [],
   "source": [
    "lst.append([10,20,30,40])"
   ]
  },
  {
   "cell_type": "code",
   "execution_count": 79,
   "id": "76c35510",
   "metadata": {},
   "outputs": [
    {
     "data": {
      "text/plain": [
       "[1, 2, 3, 4, 5, 2, 1, 2, 2, [10, 20, 30, 40]]"
      ]
     },
     "execution_count": 79,
     "metadata": {},
     "output_type": "execute_result"
    }
   ],
   "source": [
    "lst"
   ]
  },
  {
   "cell_type": "code",
   "execution_count": 109,
   "id": "23e426d1",
   "metadata": {},
   "outputs": [],
   "source": [
    "#extend\n",
    "def ext(*a):\n",
    "    l=[1,2,3,3]\n",
    "    l = l+list(a)\n",
    "    return l"
   ]
  },
  {
   "cell_type": "code",
   "execution_count": 110,
   "id": "16fcd887",
   "metadata": {},
   "outputs": [
    {
     "data": {
      "text/plain": [
       "[1, 2, 3, 3, 10, 20, 30, 40]"
      ]
     },
     "execution_count": 110,
     "metadata": {},
     "output_type": "execute_result"
    }
   ],
   "source": [
    "ext(10,20,30,40)"
   ]
  },
  {
   "cell_type": "code",
   "execution_count": 107,
   "id": "62daf769",
   "metadata": {},
   "outputs": [],
   "source": [
    "#extend\n",
    "def ext1(*args):\n",
    "    l2=[1,2,3,4,5]\n",
    "    l2[len(l1):]=args\n",
    "    return l2"
   ]
  },
  {
   "cell_type": "code",
   "execution_count": 108,
   "id": "bc2a15f0",
   "metadata": {},
   "outputs": [
    {
     "data": {
      "text/plain": [
       "[1, 2, 3, 4, 5, 6, 7, 8]"
      ]
     },
     "execution_count": 108,
     "metadata": {},
     "output_type": "execute_result"
    }
   ],
   "source": [
    "ext1(6,7,8)"
   ]
  },
  {
   "cell_type": "code",
   "execution_count": 105,
   "id": "14207126",
   "metadata": {},
   "outputs": [],
   "source": [
    "#append\n",
    "def app(a,*b):\n",
    "    l1=[\"subash\",\"age\",\"is\",22]\n",
    "    l1.insert(a,b)\n",
    "    return l1"
   ]
  },
  {
   "cell_type": "code",
   "execution_count": 1,
   "id": "564d2544",
   "metadata": {},
   "outputs": [
    {
     "ename": "NameError",
     "evalue": "name 'l1' is not defined",
     "output_type": "error",
     "traceback": [
      "\u001b[1;31m---------------------------------------------------------------------------\u001b[0m",
      "\u001b[1;31mNameError\u001b[0m                                 Traceback (most recent call last)",
      "Input \u001b[1;32mIn [1]\u001b[0m, in \u001b[0;36m<cell line: 1>\u001b[1;34m()\u001b[0m\n\u001b[1;32m----> 1\u001b[0m \u001b[43ml1\u001b[49m\n",
      "\u001b[1;31mNameError\u001b[0m: name 'l1' is not defined"
     ]
    }
   ],
   "source": [
    "l1"
   ]
  },
  {
   "cell_type": "code",
   "execution_count": 106,
   "id": "19a53abc",
   "metadata": {},
   "outputs": [
    {
     "data": {
      "text/plain": [
       "['subash', 'age', 'is', 22, ('He was a Testig Engineer',)]"
      ]
     },
     "execution_count": 106,
     "metadata": {},
     "output_type": "execute_result"
    }
   ],
   "source": [
    "app(4,\"He was a Testig Engineer\")"
   ]
  },
  {
   "cell_type": "code",
   "execution_count": 120,
   "id": "419bc299",
   "metadata": {},
   "outputs": [],
   "source": [
    "#pop\n",
    "def pop(x):\n",
    "    l=[\"list1\",\"limst2\",'list3']\n",
    "    l.remove(x)\n",
    "    return l"
   ]
  },
  {
   "cell_type": "code",
   "execution_count": 121,
   "id": "25f70c00",
   "metadata": {},
   "outputs": [
    {
     "data": {
      "text/plain": [
       "['list1', 'list3']"
      ]
     },
     "execution_count": 121,
     "metadata": {},
     "output_type": "execute_result"
    }
   ],
   "source": [
    "pop(\"limst2\")"
   ]
  },
  {
   "cell_type": "code",
   "execution_count": 123,
   "id": "15917162",
   "metadata": {},
   "outputs": [
    {
     "data": {
      "text/plain": [
       "535"
      ]
     },
     "execution_count": 123,
     "metadata": {},
     "output_type": "execute_result"
    }
   ],
   "source": [
    "l=[13,42,42,5235,343,535]\n",
    "l.pop()"
   ]
  },
  {
   "cell_type": "code",
   "execution_count": 124,
   "id": "4a6b6617",
   "metadata": {},
   "outputs": [
    {
     "data": {
      "text/plain": [
       "[13, 42, 42, 5235, 343]"
      ]
     },
     "execution_count": 124,
     "metadata": {},
     "output_type": "execute_result"
    }
   ],
   "source": [
    "l"
   ]
  },
  {
   "cell_type": "markdown",
   "id": "42d7a279",
   "metadata": {},
   "source": [
    "#### try to write a lambda function which can return a concatination of all the string that we will pass"
   ]
  },
  {
   "cell_type": "code",
   "execution_count": 2,
   "id": "4596abad",
   "metadata": {},
   "outputs": [],
   "source": [
    "S=lambda *args:' '.join(args)"
   ]
  },
  {
   "cell_type": "code",
   "execution_count": 3,
   "id": "059f93ee",
   "metadata": {},
   "outputs": [
    {
     "data": {
      "text/plain": [
       "'subash age 22'"
      ]
     },
     "execution_count": 3,
     "metadata": {},
     "output_type": "execute_result"
    }
   ],
   "source": [
    "S(\"subash\",\"age\",\"22\")"
   ]
  },
  {
   "cell_type": "markdown",
   "id": "3851c127",
   "metadata": {},
   "source": [
    "#### try to write lambda function which can return list of square of all the data between1-100"
   ]
  },
  {
   "cell_type": "code",
   "execution_count": 169,
   "id": "53af29c4",
   "metadata": {},
   "outputs": [],
   "source": [
    "square = [(lambda x :x*x)(x) for x in range(1,100)]"
   ]
  },
  {
   "cell_type": "code",
   "execution_count": 170,
   "id": "d33f20e7",
   "metadata": {},
   "outputs": [
    {
     "data": {
      "text/plain": [
       "[1,\n",
       " 4,\n",
       " 9,\n",
       " 16,\n",
       " 25,\n",
       " 36,\n",
       " 49,\n",
       " 64,\n",
       " 81,\n",
       " 100,\n",
       " 121,\n",
       " 144,\n",
       " 169,\n",
       " 196,\n",
       " 225,\n",
       " 256,\n",
       " 289,\n",
       " 324,\n",
       " 361,\n",
       " 400,\n",
       " 441,\n",
       " 484,\n",
       " 529,\n",
       " 576,\n",
       " 625,\n",
       " 676,\n",
       " 729,\n",
       " 784,\n",
       " 841,\n",
       " 900,\n",
       " 961,\n",
       " 1024,\n",
       " 1089,\n",
       " 1156,\n",
       " 1225,\n",
       " 1296,\n",
       " 1369,\n",
       " 1444,\n",
       " 1521,\n",
       " 1600,\n",
       " 1681,\n",
       " 1764,\n",
       " 1849,\n",
       " 1936,\n",
       " 2025,\n",
       " 2116,\n",
       " 2209,\n",
       " 2304,\n",
       " 2401,\n",
       " 2500,\n",
       " 2601,\n",
       " 2704,\n",
       " 2809,\n",
       " 2916,\n",
       " 3025,\n",
       " 3136,\n",
       " 3249,\n",
       " 3364,\n",
       " 3481,\n",
       " 3600,\n",
       " 3721,\n",
       " 3844,\n",
       " 3969,\n",
       " 4096,\n",
       " 4225,\n",
       " 4356,\n",
       " 4489,\n",
       " 4624,\n",
       " 4761,\n",
       " 4900,\n",
       " 5041,\n",
       " 5184,\n",
       " 5329,\n",
       " 5476,\n",
       " 5625,\n",
       " 5776,\n",
       " 5929,\n",
       " 6084,\n",
       " 6241,\n",
       " 6400,\n",
       " 6561,\n",
       " 6724,\n",
       " 6889,\n",
       " 7056,\n",
       " 7225,\n",
       " 7396,\n",
       " 7569,\n",
       " 7744,\n",
       " 7921,\n",
       " 8100,\n",
       " 8281,\n",
       " 8464,\n",
       " 8649,\n",
       " 8836,\n",
       " 9025,\n",
       " 9216,\n",
       " 9409,\n",
       " 9604,\n",
       " 9801]"
      ]
     },
     "execution_count": 170,
     "metadata": {},
     "output_type": "execute_result"
    }
   ],
   "source": [
    "square"
   ]
  },
  {
   "cell_type": "markdown",
   "id": "985dde8c",
   "metadata": {},
   "source": [
    "#### try to write a 10 different different example of lambda function with a coice of yours"
   ]
  },
  {
   "cell_type": "code",
   "execution_count": 174,
   "id": "37cffc29",
   "metadata": {},
   "outputs": [],
   "source": [
    "add=lambda x,y:x+y\n",
    "sub =lambda x,y:x-y\n",
    "mult= lambda x,y:x*y\n",
    "dev = lambda x,y:x/y\n",
    "address = lambda *args:' '.join(args)\n",
    "lis = lambda *args:list(args).insert(1,\"suabsh\")\n",
    "ka = lambda **kwargs:kwargs\n",
    "even  = [(lambda x:x%2==0)(x) for x in range(1,10)]\n",
    "add  = [(lambda x:x%2!=0)(x) for x in range(1,10)]\n",
    "madulo = [(lambda x:x%2)(x) for x in range(10,20)]"
   ]
  },
  {
   "cell_type": "markdown",
   "id": "29f800b5",
   "metadata": {},
   "source": [
    "#### q7=try to writw a function which can perform a read operation from txt file"
   ]
  },
  {
   "cell_type": "code",
   "execution_count": 179,
   "id": "89e0ce98",
   "metadata": {},
   "outputs": [
    {
     "data": {
      "text/plain": [
       "'7/56 Pallivasal Street Thandavarayapuram Attur Salem'"
      ]
     },
     "execution_count": 179,
     "metadata": {},
     "output_type": "execute_result"
    }
   ],
   "source": [
    "\n",
    "address(\"7/56\",\"Pallivasal Street\",\"Thandavarayapuram\",\"Attur\",\"Salem\")\n"
   ]
  },
  {
   "cell_type": "code",
   "execution_count": null,
   "id": "de349069",
   "metadata": {},
   "outputs": [],
   "source": []
  }
 ],
 "metadata": {
  "kernelspec": {
   "display_name": "Python 3 (ipykernel)",
   "language": "python",
   "name": "python3"
  },
  "language_info": {
   "codemirror_mode": {
    "name": "ipython",
    "version": 3
   },
   "file_extension": ".py",
   "mimetype": "text/x-python",
   "name": "python",
   "nbconvert_exporter": "python",
   "pygments_lexer": "ipython3",
   "version": "3.9.12"
  }
 },
 "nbformat": 4,
 "nbformat_minor": 5
}
