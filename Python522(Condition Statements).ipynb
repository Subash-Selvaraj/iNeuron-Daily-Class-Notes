{
 "cells": [
  {
   "cell_type": "raw",
   "id": "13f8e06c",
   "metadata": {},
   "source": [
    "#Conditional Flow statements\n",
    "#if,elif,else"
   ]
  },
  {
   "cell_type": "code",
   "execution_count": 1,
   "id": "6ab1dc3d",
   "metadata": {},
   "outputs": [
    {
     "name": "stdout",
     "output_type": "stream",
     "text": [
      "this is my first condition\n"
     ]
    }
   ],
   "source": [
    "a = 10\n",
    "if a==10:\n",
    "    print(\"this is my first condition\")"
   ]
  },
  {
   "cell_type": "code",
   "execution_count": 2,
   "id": "f68d14ba",
   "metadata": {},
   "outputs": [],
   "source": [
    "a = 10\n",
    "if a==11:\n",
    "    print(\"this is if condition\")"
   ]
  },
  {
   "cell_type": "code",
   "execution_count": 3,
   "id": "ca6552a1",
   "metadata": {},
   "outputs": [
    {
     "name": "stdout",
     "output_type": "stream",
     "text": [
      "this is if condition\n"
     ]
    }
   ],
   "source": [
    "a = 10\n",
    "if a<100:\n",
    "    print(\"this is if condition\")"
   ]
  },
  {
   "cell_type": "code",
   "execution_count": 4,
   "id": "aec6da77",
   "metadata": {},
   "outputs": [
    {
     "name": "stdout",
     "output_type": "stream",
     "text": [
      "this is if condition\n"
     ]
    }
   ],
   "source": [
    "a = 10\n",
    "if a%2==0:\n",
    "    print(\"this is if condition\")"
   ]
  },
  {
   "cell_type": "code",
   "execution_count": 5,
   "id": "6e91c80a",
   "metadata": {},
   "outputs": [
    {
     "name": "stdout",
     "output_type": "stream",
     "text": [
      "this is else condtion\n"
     ]
    }
   ],
   "source": [
    "a = 10\n",
    "if a==11:\n",
    "    print(\"this is if condition\")\n",
    "else:\n",
    "    print(\"this is else condtion\")"
   ]
  },
  {
   "cell_type": "code",
   "execution_count": 6,
   "id": "0fb0aa5d",
   "metadata": {},
   "outputs": [
    {
     "name": "stdout",
     "output_type": "stream",
     "text": [
      "THis is elif condition\n"
     ]
    }
   ],
   "source": [
    "a = 5\n",
    "if a%2==0:\n",
    "    print('This is if condition')\n",
    "elif a%2!=0:\n",
    "    print(\"THis is elif condition\")\n",
    "else:\n",
    "    print(\"This is else condition\")"
   ]
  },
  {
   "cell_type": "code",
   "execution_count": 7,
   "id": "d18ffa36",
   "metadata": {},
   "outputs": [
    {
     "name": "stdout",
     "output_type": "stream",
     "text": [
      "THis is elif condition\n",
      "This is second if condition\n",
      "This is third if condition\n"
     ]
    }
   ],
   "source": [
    "#we can use multiple if conditions\n",
    "#every if condition will execute\n",
    "#every elif will won't execute if one elif condition meet passed\n",
    "#but elif and else will execute only if conditions is available\n",
    "a = 5\n",
    "if a%2==0:\n",
    "    print('This is if condition')\n",
    "elif a%2!=0:\n",
    "    print(\"THis is elif condition\")\n",
    "if a==5:\n",
    "    print(\"This is second if condition\")\n",
    "if a <=5:\n",
    "    print(\"This is third if condition\")\n",
    "else:\n",
    "    print(\"This is else condition\")"
   ]
  },
  {
   "cell_type": "code",
   "execution_count": 8,
   "id": "1e9db7b0",
   "metadata": {},
   "outputs": [
    {
     "name": "stdout",
     "output_type": "stream",
     "text": [
      "THis is elif condition\n",
      "This is second if condition\n",
      "This is third if condition\n"
     ]
    }
   ],
   "source": [
    "a = 5\n",
    "if a%2==0:\n",
    "    print('This is if condition')\n",
    "elif a%2!=0:\n",
    "    print(\"THis is elif condition\")\n",
    "#every elif will won't execute if one elif condition passed\n",
    "elif a==5:\n",
    "    print(\"this is second elif condition\")\n",
    "if a==5:\n",
    "    print(\"This is second if condition\")\n",
    "if a <=5:\n",
    "    print(\"This is third if condition\")\n",
    "else:\n",
    "    print(\"This is else condition\")"
   ]
  },
  {
   "cell_type": "code",
   "execution_count": 9,
   "id": "4924b872",
   "metadata": {},
   "outputs": [
    {
     "name": "stdout",
     "output_type": "stream",
     "text": [
      "i can be able to buy a jacket\n"
     ]
    }
   ],
   "source": [
    "price = 500\n",
    "if price>500:\n",
    "    print(\"May be i wont be able to buy a jacket\")\n",
    "elif price <500:\n",
    "    print(\"i want be able to buy a jacket\")\n",
    "elif price == 500:\n",
    "    print(\"i can be able to buy a jacket\")\n",
    "else:\n",
    "    print(\"i don't want to buy this jacket due to this price\")"
   ]
  },
  {
   "cell_type": "code",
   "execution_count": 10,
   "id": "79b7c0b0",
   "metadata": {},
   "outputs": [
    {
     "data": {
      "text/plain": [
       "True"
      ]
     },
     "execution_count": 10,
     "metadata": {},
     "output_type": "execute_result"
    }
   ],
   "source": [
    "l = [1,2,3,4,5,6]\n",
    "2 in l"
   ]
  },
  {
   "cell_type": "code",
   "execution_count": 11,
   "id": "210b4957",
   "metadata": {},
   "outputs": [
    {
     "name": "stdout",
     "output_type": "stream",
     "text": [
      "try to perform a task\n"
     ]
    }
   ],
   "source": [
    "if 2 in l:\n",
    "    print(\"try to perform a task\")\n",
    "else:\n",
    "    print(\"do not perform this task\")"
   ]
  },
  {
   "cell_type": "code",
   "execution_count": 12,
   "id": "0da1b19a",
   "metadata": {},
   "outputs": [
    {
     "name": "stdout",
     "output_type": "stream",
     "text": [
      "do not perform this task\n"
     ]
    }
   ],
   "source": [
    "if 62 in l:\n",
    "    print(\"try to perform a task\")\n",
    "else:\n",
    "    print(\"do not perform this task\")"
   ]
  },
  {
   "cell_type": "code",
   "execution_count": 13,
   "id": "ad326519",
   "metadata": {},
   "outputs": [
    {
     "name": "stdout",
     "output_type": "stream",
     "text": [
      "try to do addition\n"
     ]
    }
   ],
   "source": [
    "if 1 in l:\n",
    "    print(\"try to do addition\")\n",
    "elif 2 in l:\n",
    "    print(\"try to do subraction\")\n",
    "elif 3 in l:\n",
    "    print(\"try to do multiplication\")"
   ]
  },
  {
   "cell_type": "code",
   "execution_count": 14,
   "id": "6be783a2",
   "metadata": {},
   "outputs": [
    {
     "name": "stdout",
     "output_type": "stream",
     "text": [
      "i can able to  buy this jacket\n"
     ]
    }
   ],
   "source": [
    "#nested condition\n",
    "if price == 500:\n",
    "    if price <500:\n",
    "        print(\"I can able to buy 2 jackets\")\n",
    "    print(\"i can able to  buy this jacket\")"
   ]
  },
  {
   "cell_type": "code",
   "execution_count": 15,
   "id": "0e740eb3",
   "metadata": {},
   "outputs": [
    {
     "name": "stdout",
     "output_type": "stream",
     "text": [
      "10\n"
     ]
    }
   ],
   "source": [
    "a = int(input())"
   ]
  },
  {
   "cell_type": "code",
   "execution_count": 16,
   "id": "b25a7b6f",
   "metadata": {},
   "outputs": [
    {
     "name": "stdout",
     "output_type": "stream",
     "text": [
      "10\n",
      "<class 'str'>\n"
     ]
    }
   ],
   "source": [
    "#by default the input type is string\n",
    "#but we can change the input type\n",
    "#in string type we can't do any mathametical operation in the input\n",
    "a = input()\n",
    "print(type(a))"
   ]
  },
  {
   "cell_type": "code",
   "execution_count": 17,
   "id": "1f31965a",
   "metadata": {},
   "outputs": [
    {
     "name": "stdout",
     "output_type": "stream",
     "text": [
      "10\n"
     ]
    }
   ],
   "source": [
    "#type casting for input function\n",
    "#if we are using type casting we can enter only that type of input\n",
    "b = int(input())"
   ]
  },
  {
   "cell_type": "code",
   "execution_count": 21,
   "id": "32abc280",
   "metadata": {},
   "outputs": [
    {
     "name": "stdout",
     "output_type": "stream",
     "text": [
      "290\n",
      " i will be able to buy something\n",
      "i will be able to buy a jacket\n"
     ]
    }
   ],
   "source": [
    "price = int(input())\n",
    "if price <500:\n",
    "    print(\" i will be able to buy something\")\n",
    "    if price <400:\n",
    "        print(\"i will be able to buy a jacket\")\n",
    "    elif price <300:\n",
    "        print(\"i will be able to buy a shirt\")\n",
    "    else:\n",
    "        print(\"i won't be able to buy anything\")\n",
    "else:\n",
    "    print(\"i won't be able to buy anything with this price tag\")"
   ]
  },
  {
   "cell_type": "code",
   "execution_count": 23,
   "id": "37259ae6",
   "metadata": {},
   "outputs": [
    {
     "name": "stdout",
     "output_type": "stream",
     "text": [
      "600\n",
      "i won't be able to buy anything with this price tag\n",
      "Let's try different shop\n"
     ]
    }
   ],
   "source": [
    "# we can use if condition inside the else block as well\n",
    "price = int(input())\n",
    "if price <500:\n",
    "    print(\" i will be able to buy something\")\n",
    "    if price <400:\n",
    "        print(\"i will be able to buy a jacket\")\n",
    "    elif price <300:\n",
    "        print(\"i will be able to buy a shirt\")\n",
    "    else:\n",
    "        print(\"i won't be able to buy anything\")\n",
    "else:\n",
    "    print(\"i won't be able to buy anything with this price tag\")\n",
    "    if price >500:\n",
    "        print(\"Let's try different shop\")"
   ]
  },
  {
   "cell_type": "code",
   "execution_count": 3,
   "id": "616b824f",
   "metadata": {},
   "outputs": [
    {
     "name": "stdout",
     "output_type": "stream",
     "text": [
      "Enter the floating point number 1.2\n",
      "Entered value is a positive number\n"
     ]
    }
   ],
   "source": [
    "val = float(input(\"Enter the floating point number \"))\n",
    "if val >=0:\n",
    "    if val ==0:\n",
    "        print(\"Entered value is Zero\")\n",
    "    else:\n",
    "        print(\"Entered value is a positive number\")\n",
    "else:\n",
    "    print(\"Entered value is negatie number\")"
   ]
  },
  {
   "cell_type": "code",
   "execution_count": 39,
   "id": "2b5ba0d2",
   "metadata": {},
   "outputs": [
    {
     "name": "stdout",
     "output_type": "stream",
     "text": [
      "try to do something\n"
     ]
    }
   ],
   "source": [
    "a = 10\n",
    "if a <10 or a==10:\n",
    "    print(\"try to do something\")"
   ]
  },
  {
   "cell_type": "code",
   "execution_count": 41,
   "id": "198970b7",
   "metadata": {},
   "outputs": [
    {
     "name": "stdout",
     "output_type": "stream",
     "text": [
      "try to do something\n"
     ]
    }
   ],
   "source": [
    "a = 10\n",
    "if (a <10 or a>10) or a==10:\n",
    "    print(\"try to do something\")"
   ]
  },
  {
   "cell_type": "code",
   "execution_count": 45,
   "id": "f731f08b",
   "metadata": {},
   "outputs": [
    {
     "name": "stdout",
     "output_type": "stream",
     "text": [
      "We can't do anything\n"
     ]
    }
   ],
   "source": [
    "a = 10\n",
    "if a <10 and a>10:\n",
    "    print(\"try to do something\")\n",
    "else:\n",
    "    print(\"We can't do anything\")"
   ]
  },
  {
   "cell_type": "code",
   "execution_count": 46,
   "id": "8b1ddf15",
   "metadata": {},
   "outputs": [
    {
     "name": "stdout",
     "output_type": "stream",
     "text": [
      "try to do something\n"
     ]
    }
   ],
   "source": [
    "a = 10\n",
    "if (a <10 and a>10) or (a==10 and a!=0):\n",
    "    print(\"try to do something\")"
   ]
  },
  {
   "cell_type": "code",
   "execution_count": 49,
   "id": "67193b42",
   "metadata": {},
   "outputs": [
    {
     "name": "stdout",
     "output_type": "stream",
     "text": [
      "not passed\n"
     ]
    }
   ],
   "source": [
    "a = \"subash\"\n",
    "if a==\"Subash\" and a==\"subash\":\n",
    "    print(\"both conditions are passed\")\n",
    "else:\n",
    "    print(\"not passed\")"
   ]
  },
  {
   "cell_type": "code",
   "execution_count": 52,
   "id": "aa29d516",
   "metadata": {},
   "outputs": [
    {
     "name": "stdout",
     "output_type": "stream",
     "text": [
      "either condition is passed\n"
     ]
    }
   ],
   "source": [
    "a = \"subash\"\n",
    "if a==\"Subash\" or a==\"subash\":\n",
    "    print(\"either condition is passed\")\n",
    "else:\n",
    "    print(\"not passed\")"
   ]
  },
  {
   "cell_type": "code",
   "execution_count": 4,
   "id": "baca6146",
   "metadata": {},
   "outputs": [
    {
     "name": "stdout",
     "output_type": "stream",
     "text": [
      "another validation is :\n",
      "Second condition all passed\n"
     ]
    }
   ],
   "source": [
    "a =10\n",
    "b = 11\n",
    "c =12\n",
    "d = 13\n",
    "if a==9 and b ==11 and c ==12 and d ==13:\n",
    "    print(\"All passed\")\n",
    "else:\n",
    "    print(\"another validation is :\")\n",
    "    if a==10 and b==11 and c ==12 and d!=0:\n",
    "        print(\"Second condition all passed\")"
   ]
  },
  {
   "cell_type": "code",
   "execution_count": 57,
   "id": "cc630f45",
   "metadata": {},
   "outputs": [],
   "source": [
    "d = {\"key1\":\"value1\",\"key2\":\"subash\",\"key3\":\"iNeuron\"}"
   ]
  },
  {
   "cell_type": "code",
   "execution_count": 59,
   "id": "fafadb65",
   "metadata": {},
   "outputs": [
    {
     "name": "stdout",
     "output_type": "stream",
     "text": [
      "All value are verified\n",
      "dict_values(['value1', 'subash', 'iNeuron'])\n"
     ]
    }
   ],
   "source": [
    "if d['key1']==\"value1\" and d[\"key2\"]==\"subash\" and d[\"key3\"] == \"iNeuron\":\n",
    "    print(\"All value are verified\")\n",
    "    print(d.values())\n",
    "    "
   ]
  },
  {
   "cell_type": "markdown",
   "id": "a243c0b1",
   "metadata": {},
   "source": [
    "### Loops"
   ]
  },
  {
   "cell_type": "code",
   "execution_count": 61,
   "id": "b28d7fc1",
   "metadata": {},
   "outputs": [
    {
     "name": "stdout",
     "output_type": "stream",
     "text": [
      "1\n",
      "2\n",
      "3\n",
      "4\n",
      "5\n",
      "Suabsh\n",
      "6\n",
      "7\n",
      "8\n",
      "9\n"
     ]
    }
   ],
   "source": [
    "l = [1,2,3,4,5,\"Suabsh\",6,7,8,9]\n",
    "for i in l:\n",
    "    print(i)"
   ]
  },
  {
   "cell_type": "code",
   "execution_count": 74,
   "id": "f4252a8b",
   "metadata": {},
   "outputs": [
    {
     "name": "stdout",
     "output_type": "stream",
     "text": [
      "index is  0 ----value is  1\n",
      "index is  1 ----value is  2\n",
      "index is  2 ----value is  3\n",
      "index is  3 ----value is  4\n",
      "index is  4 ----value is  5\n",
      "index is  5 ----value is  Suabsh\n",
      "index is  6 ----value is  7\n",
      "index is  7 ----value is  8\n",
      "index is  8 ----value is  9\n",
      "index is  9 ----value is  13.6\n"
     ]
    }
   ],
   "source": [
    "l = [1,2,3,4,5,\"Suabsh\",7,8,9,13.6]\n",
    "for i in range(len(l)):\n",
    "    print('index is ',i,\"----value is \",l[i])"
   ]
  },
  {
   "cell_type": "code",
   "execution_count": 76,
   "id": "7ed18d0b",
   "metadata": {},
   "outputs": [
    {
     "name": "stdout",
     "output_type": "stream",
     "text": [
      "2\n",
      "3\n",
      "4\n",
      "5\n",
      "6\n",
      "Suabsh1\n",
      "8\n",
      "9\n",
      "10\n",
      "14.6\n"
     ]
    }
   ],
   "source": [
    "for i in l:\n",
    "    if type(i)==int or type(i)==float:\n",
    "        print(i+1)\n",
    "    elif type(i)==str:\n",
    "        print(i+str(1))"
   ]
  },
  {
   "cell_type": "code",
   "execution_count": 81,
   "id": "f036deb4",
   "metadata": {},
   "outputs": [
    {
     "data": {
      "text/plain": [
       "[1, 2, 3, 4, 5, 7, 8, 9, 13.6]"
      ]
     },
     "execution_count": 81,
     "metadata": {},
     "output_type": "execute_result"
    }
   ],
   "source": [
    "#append the inetegers in another list\n",
    "l1 = []\n",
    "for i in l:\n",
    "    if type(i) ==int or type(i) ==float:\n",
    "        l1.append(i)\n",
    "l1"
   ]
  },
  {
   "cell_type": "code",
   "execution_count": 82,
   "id": "42de1de3",
   "metadata": {},
   "outputs": [
    {
     "name": "stdout",
     "output_type": "stream",
     "text": [
      "1\n",
      "2\n",
      "3\n",
      "4\n",
      "5\n",
      "6\n",
      "7\n"
     ]
    }
   ],
   "source": [
    "t = (1,2,3,4,5,6,7)\n",
    "for i in t:\n",
    "    print(i)"
   ]
  },
  {
   "cell_type": "code",
   "execution_count": 83,
   "id": "76786df6",
   "metadata": {},
   "outputs": [
    {
     "name": "stdout",
     "output_type": "stream",
     "text": [
      "1 2 3 4 5 6 7 "
     ]
    }
   ],
   "source": [
    "#if we want to print in single line answer in loop then we have to change the default end='\\n' \n",
    "t = (1,2,3,4,5,6,7)\n",
    "for i in t:\n",
    "    print(i,end=' ')"
   ]
  },
  {
   "cell_type": "code",
   "execution_count": null,
   "id": "be0e2f6e",
   "metadata": {},
   "outputs": [],
   "source": []
  }
 ],
 "metadata": {
  "kernelspec": {
   "display_name": "Python 3 (ipykernel)",
   "language": "python",
   "name": "python3"
  },
  "language_info": {
   "codemirror_mode": {
    "name": "ipython",
    "version": 3
   },
   "file_extension": ".py",
   "mimetype": "text/x-python",
   "name": "python",
   "nbconvert_exporter": "python",
   "pygments_lexer": "ipython3",
   "version": "3.9.12"
  }
 },
 "nbformat": 4,
 "nbformat_minor": 5
}
