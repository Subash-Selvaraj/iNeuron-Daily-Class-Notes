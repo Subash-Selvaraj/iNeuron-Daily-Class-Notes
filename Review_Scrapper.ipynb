{
 "cells": [
  {
   "cell_type": "markdown",
   "id": "b9446ec8",
   "metadata": {},
   "source": [
    "# Review Scrapper Python Project"
   ]
  },
  {
   "cell_type": "code",
   "execution_count": 33,
   "id": "0f8769e1",
   "metadata": {},
   "outputs": [],
   "source": [
    "from flask import Flask, render_template, request, jsonify\n",
    "import requests\n",
    "from bs4 import BeautifulSoup as bs\n",
    "from urllib.request import urlopen as urReq"
   ]
  },
  {
   "cell_type": "code",
   "execution_count": 34,
   "id": "1690a724",
   "metadata": {},
   "outputs": [
    {
     "data": {
      "text/plain": [
       "'https://www.flipkart.com/search?q=iphone11'"
      ]
     },
     "execution_count": 34,
     "metadata": {},
     "output_type": "execute_result"
    }
   ],
   "source": [
    "#make the url\n",
    "flipcart_url = \"https://www.flipkart.com/search?q=\"+\"iphone11\"\n",
    "flipcart_url"
   ]
  },
  {
   "cell_type": "code",
   "execution_count": 35,
   "id": "f95dbf0d",
   "metadata": {},
   "outputs": [],
   "source": [
    "#hit the url to open the particular page what ever we had given\n",
    "urReq(flipcart_url)\n",
    "response_website = urReq(flipcart_url)"
   ]
  },
  {
   "cell_type": "code",
   "execution_count": 36,
   "id": "b0c2a482",
   "metadata": {},
   "outputs": [],
   "source": [
    "#get the page information by HTML format\n",
    "#by using BeautifulSoup we can able to get the information as readable\n",
    "data_flipcart = response_website.read()\n",
    "beautifyed_html = bs(data_flipcart,\"html.parser\")"
   ]
  },
  {
   "cell_type": "code",
   "execution_count": 37,
   "id": "521fecd0",
   "metadata": {},
   "outputs": [
    {
     "data": {
      "text/plain": [
       "29"
      ]
     },
     "execution_count": 37,
     "metadata": {},
     "output_type": "execute_result"
    }
   ],
   "source": [
    "#go to div tag and get the list of mobile phones whate ever we have from the given class name\n",
    "bigbox = beautifyed_html.find_all(\"div\" , {\"class\":\"_1AtVbE col-12-12\" })\n",
    "len(bigbox)"
   ]
  },
  {
   "cell_type": "code",
   "execution_count": 6,
   "id": "f86b0a91",
   "metadata": {},
   "outputs": [],
   "source": [
    "#this is the information something in one single boxes or one single parent div\n",
    "#make the URl for the particular phone\n",
    "URL = bigbox[6].div.div.div.a['href']\n",
    "product= \"https://www.flipkart.com\" + URL"
   ]
  },
  {
   "cell_type": "code",
   "execution_count": 7,
   "id": "3ed913d0",
   "metadata": {},
   "outputs": [],
   "source": [
    "#to open the url by automatically by using the API request\n",
    "productno_6 = requests.get(product)"
   ]
  },
  {
   "cell_type": "code",
   "execution_count": 8,
   "id": "5a564709",
   "metadata": {},
   "outputs": [],
   "source": [
    "#encoding the urls to default HTML content\n",
    "productno_6.encoding = 'utf-8'"
   ]
  },
  {
   "cell_type": "code",
   "execution_count": 9,
   "id": "a62b5b21",
   "metadata": {},
   "outputs": [],
   "source": [
    "#make the encoded url into the HTML file\n",
    "product_no6_page = bs(productno_6.text,\"html.parser\")"
   ]
  },
  {
   "cell_type": "code",
   "execution_count": 10,
   "id": "257754e6",
   "metadata": {},
   "outputs": [
    {
     "data": {
      "text/plain": [
       "11"
      ]
     },
     "execution_count": 10,
     "metadata": {},
     "output_type": "execute_result"
    }
   ],
   "source": [
    "#get the reviwe section details\n",
    "all_review = product_no6_page.find_all('div',{'class':\"_16PBlm\"})\n",
    "len(all_review)"
   ]
  },
  {
   "cell_type": "code",
   "execution_count": 11,
   "id": "9497eac0",
   "metadata": {},
   "outputs": [
    {
     "data": {
      "text/plain": [
       "'5'"
      ]
     },
     "execution_count": 11,
     "metadata": {},
     "output_type": "execute_result"
    }
   ],
   "source": [
    "#get the rating value\n",
    "rating = all_review[5].div.div.div.div.text\n",
    "rating"
   ]
  },
  {
   "cell_type": "code",
   "execution_count": 12,
   "id": "14e7a26e",
   "metadata": {},
   "outputs": [
    {
     "data": {
      "text/plain": [
       "'Naveen Boopathi'"
      ]
     },
     "execution_count": 12,
     "metadata": {},
     "output_type": "execute_result"
    }
   ],
   "source": [
    "#get the name of the reviewer\n",
    "name = all_review[5].div.div.find_all('p',{\"class\":\"_2sc7ZR _2V5EHH\"})[0].text\n",
    "name"
   ]
  },
  {
   "cell_type": "code",
   "execution_count": 13,
   "id": "0b073a44",
   "metadata": {},
   "outputs": [
    {
     "data": {
      "text/plain": [
       "'Fabulous!'"
      ]
     },
     "execution_count": 13,
     "metadata": {},
     "output_type": "execute_result"
    }
   ],
   "source": [
    "#get the comment header\n",
    "comment_header = all_review[5].div.div.div.p.text\n",
    "comment_header"
   ]
  },
  {
   "cell_type": "code",
   "execution_count": 14,
   "id": "5be5cf6f",
   "metadata": {},
   "outputs": [
    {
     "data": {
      "text/plain": [
       "'This is my first iOS phone. I am very happy with this product. Very much satisfied with this. I love this phone.READ MORE'"
      ]
     },
     "execution_count": 14,
     "metadata": {},
     "output_type": "execute_result"
    }
   ],
   "source": [
    "#get the full content of the comment\n",
    "comment_content = all_review[5].div.find_all('div',{'class':\"\"})[0].text\n",
    "comment_content"
   ]
  },
  {
   "cell_type": "code",
   "execution_count": 15,
   "id": "82f08809",
   "metadata": {},
   "outputs": [
    {
     "data": {
      "text/plain": [
       "'Mar, 2020'"
      ]
     },
     "execution_count": 15,
     "metadata": {},
     "output_type": "execute_result"
    }
   ],
   "source": [
    "#get the date of the comment\n",
    "comment_date = all_review[5].div.find_all('p',{\"class\":\"_2sc7ZR\"})[1].text\n",
    "comment_date"
   ]
  },
  {
   "cell_type": "code",
   "execution_count": 16,
   "id": "74d7ce42",
   "metadata": {},
   "outputs": [
    {
     "data": {
      "text/plain": [
       "'₹46,999'"
      ]
     },
     "execution_count": 16,
     "metadata": {},
     "output_type": "execute_result"
    }
   ],
   "source": [
    "#get the price of the product\n",
    "product6_price = product_no6_page.find_all('div',{\"class\":\"_30jeq3 _16Jk6d\"})[0].text\n",
    "product6_price"
   ]
  },
  {
   "cell_type": "code",
   "execution_count": 17,
   "id": "ee77d9a7",
   "metadata": {
    "scrolled": true
   },
   "outputs": [
    {
     "name": "stdout",
     "output_type": "stream",
     "text": [
      "product price is ₹46,999 \n",
      " product rating is 5 \n",
      " comment: Simply awesome \n",
      " Full comment: Really satisfied with the Product I received... It’s totally genuine and the packaging was also really good so if ur planning to buy just go for it.READ MORE \n",
      " comment date: Nov, 2020 \n",
      " commentor_name: Flipkart Customer\n",
      "product price is ₹46,999 \n",
      " product rating is 5 \n",
      " comment: Perfect product! \n",
      " Full comment: Amazing phone with great cameras and better battery which gives you the best performance. I just love the camera .READ MORE \n",
      " comment date: Jun, 2020 \n",
      " commentor_name: Flipkart Customer\n",
      "product price is ₹46,999 \n",
      " product rating is 5 \n",
      " comment: Best in the market! \n",
      " Full comment: Great iPhone very snappy experience as apple kind. Upgraded from iPhone 7. Pros-Camera top class - Battery top performed -Chipset no need to say as apple kind -Security as you expect from apple - Display super bright industry leading colour   accuracy and super responsive -Build quality as expect from apple sturdy  premium durable beautiful stylish. -Os most stable os in smartphone industry Cons -No 5G-Display is not based on OLED technology -Charger headphones and 1 apple stic...READ MORE \n",
      " comment date: Apr, 2021 \n",
      " commentor_name: Manish Raghuvanshi\n",
      "product price is ₹46,999 \n",
      " product rating is 5 \n",
      " comment: Worth every penny \n",
      " Full comment: Previously I was using one plus 3t it was a great phone And then I decided to upgrade I am stuck between Samsung s10 plus or iPhone 11 I have seen the specs and everything were good except the display it’s somewhere between 720-1080 and it’s not even an amoled it’s an LCD display But I decided to go with iPhone because I have never used an IOS device I have Been an android user from the past 9 years I ordered IPhone 11 (128gb) product redMy experience after using 3 weeks 1. The delivery ...READ MORE \n",
      " comment date: Jan, 2020 \n",
      " commentor_name: Vamshi  Chakrala \n",
      "product price is ₹46,999 \n",
      " product rating is 5 \n",
      " comment: Highly recommended \n",
      " Full comment: What a camera .....just awesome ..you can feel this iPhone just awesome . Good for gaming also ...try pubg in hd it’s just wowREAD MORE \n",
      " comment date: Jul, 2020 \n",
      " commentor_name: Vishal Dubey\n",
      "product price is ₹46,999 \n",
      " product rating is 5 \n",
      " comment: Fabulous! \n",
      " Full comment: This is my first iOS phone. I am very happy with this product. Very much satisfied with this. I love this phone.READ MORE \n",
      " comment date: Mar, 2020 \n",
      " commentor_name: Naveen Boopathi\n",
      "product price is ₹46,999 \n",
      " product rating is 5 \n",
      " comment: Great product \n",
      " Full comment: Amazing Powerful and Durable Gadget.I’m am very happy with the camera picture quality, Amazing face id unlocked in dark room, Strong battery with perfect screen size as you can carry easily in pocket. This is my third iPhone. I shifted from android Samsung Note series to iPhone because of the strong build quality and peace of mind for next 3-4 years.Don’t think to much just go for it and I suggest you to go for minimum 128gb variant or more 256gb. I’ve attached my puppy pics and no fi...READ MORE \n",
      " comment date: Mar, 2020 \n",
      " commentor_name: Rahul Verma\n",
      "product price is ₹46,999 \n",
      " product rating is 5 \n",
      " comment: Worth every penny \n",
      " Full comment: i11 is worthy to buy, too much happy with the product. Thank u flipkart I received the item on time..loved it..READ MORE \n",
      " comment date: Oct, 2020 \n",
      " commentor_name: Flipkart Customer\n",
      "product price is ₹46,999 \n",
      " product rating is 5 \n",
      " comment: Highly recommended \n",
      " Full comment: It's my first time to use iOS phone and I am loving my upgradation 😍😍 I love the color, I love the assebility of the phone....I need to learn more about its functionality, but as far as I have seen, it's quite easy and it has a lot of functions to work on, specially if you are a content writer or a blogger you get a lot of content creation platforms and they are really amazing. This phone not only for good quality photography but a lot of other task too.😍💯READ MORE \n",
      " comment date: May, 2020 \n",
      " commentor_name: Jimly  Gogoi\n",
      "product price is ₹46,999 \n",
      " product rating is 4 \n",
      " comment: Good choice \n",
      " Full comment: So far it’s been an AMAZING experience coming back to iOS after nearly a decade but it’s not as versatile as android though phone is sturdy dropped it accidentally a couple of times and nothing happened fortunately camera is awesomeREAD MORE \n",
      " comment date: Jun, 2020 \n",
      " commentor_name: Bharat Sv\n"
     ]
    },
    {
     "ename": "AttributeError",
     "evalue": "'NoneType' object has no attribute 'div'",
     "output_type": "error",
     "traceback": [
      "\u001b[1;31m---------------------------------------------------------------------------\u001b[0m",
      "\u001b[1;31mAttributeError\u001b[0m                            Traceback (most recent call last)",
      "Input \u001b[1;32mIn [17]\u001b[0m, in \u001b[0;36m<cell line: 2>\u001b[1;34m()\u001b[0m\n\u001b[0;32m      2\u001b[0m \u001b[38;5;28;01mfor\u001b[39;00m i \u001b[38;5;129;01min\u001b[39;00m all_review:\n\u001b[0;32m      3\u001b[0m     product6_price \u001b[38;5;241m=\u001b[39m product_no6_page\u001b[38;5;241m.\u001b[39mfind_all(\u001b[38;5;124m'\u001b[39m\u001b[38;5;124mdiv\u001b[39m\u001b[38;5;124m'\u001b[39m,{\u001b[38;5;124m\"\u001b[39m\u001b[38;5;124mclass\u001b[39m\u001b[38;5;124m\"\u001b[39m:\u001b[38;5;124m\"\u001b[39m\u001b[38;5;124m_30jeq3 _16Jk6d\u001b[39m\u001b[38;5;124m\"\u001b[39m})[\u001b[38;5;241m0\u001b[39m]\u001b[38;5;241m.\u001b[39mtext\n\u001b[1;32m----> 4\u001b[0m     rating \u001b[38;5;241m=\u001b[39m \u001b[43mi\u001b[49m\u001b[38;5;241;43m.\u001b[39;49m\u001b[43mdiv\u001b[49m\u001b[38;5;241;43m.\u001b[39;49m\u001b[43mdiv\u001b[49m\u001b[38;5;241m.\u001b[39mdiv\u001b[38;5;241m.\u001b[39mdiv\u001b[38;5;241m.\u001b[39mtext\n\u001b[0;32m      5\u001b[0m     comment_header \u001b[38;5;241m=\u001b[39m i\u001b[38;5;241m.\u001b[39mdiv\u001b[38;5;241m.\u001b[39mdiv\u001b[38;5;241m.\u001b[39mdiv\u001b[38;5;241m.\u001b[39mp\u001b[38;5;241m.\u001b[39mtext\n\u001b[0;32m      6\u001b[0m     comment_content \u001b[38;5;241m=\u001b[39m i\u001b[38;5;241m.\u001b[39mdiv\u001b[38;5;241m.\u001b[39mfind_all(\u001b[38;5;124m'\u001b[39m\u001b[38;5;124mdiv\u001b[39m\u001b[38;5;124m'\u001b[39m,{\u001b[38;5;124m'\u001b[39m\u001b[38;5;124mclass\u001b[39m\u001b[38;5;124m'\u001b[39m:\u001b[38;5;124m\"\u001b[39m\u001b[38;5;124m\"\u001b[39m})[\u001b[38;5;241m0\u001b[39m]\u001b[38;5;241m.\u001b[39mtext\n",
      "\u001b[1;31mAttributeError\u001b[0m: 'NoneType' object has no attribute 'div'"
     ]
    }
   ],
   "source": [
    "#get the all kind of the details regading ratings and the products\n",
    "for i in all_review:\n",
    "    product6_price = product_no6_page.find_all('div',{\"class\":\"_30jeq3 _16Jk6d\"})[0].text\n",
    "    rating = i.div.div.div.div.text\n",
    "    comment_header = i.div.div.div.p.text\n",
    "    comment_content = i.div.find_all('div',{'class':\"\"})[0].text\n",
    "    comment_date = i.div.find_all('p',{\"class\":\"_2sc7ZR\"})[1].text\n",
    "    name =  i.div.div.find_all('p',{\"class\":\"_2sc7ZR _2V5EHH\"})[0].text\n",
    "    print(\"product price is\",product6_price ,'\\n',\"product rating is\",rating,'\\n','comment:',comment_header,'\\n','Full comment:',comment_content,'\\n','comment date:',comment_date,'\\n','commentor_name:',name)"
   ]
  },
  {
   "cell_type": "code",
   "execution_count": 18,
   "id": "e239e9e1",
   "metadata": {},
   "outputs": [
    {
     "ename": "AttributeError",
     "evalue": "'NoneType' object has no attribute 'div'",
     "output_type": "error",
     "traceback": [
      "\u001b[1;31m---------------------------------------------------------------------------\u001b[0m",
      "\u001b[1;31mAttributeError\u001b[0m                            Traceback (most recent call last)",
      "Input \u001b[1;32mIn [18]\u001b[0m, in \u001b[0;36m<cell line: 9>\u001b[1;34m()\u001b[0m\n\u001b[0;32m      9\u001b[0m \u001b[38;5;28;01mfor\u001b[39;00m i \u001b[38;5;129;01min\u001b[39;00m \u001b[38;5;28mrange\u001b[39m(\u001b[38;5;28mlen\u001b[39m(all_review)):\n\u001b[0;32m     10\u001b[0m     product_price\u001b[38;5;241m.\u001b[39mappend(product_no6_page\u001b[38;5;241m.\u001b[39mfind_all(\u001b[38;5;124m'\u001b[39m\u001b[38;5;124mdiv\u001b[39m\u001b[38;5;124m'\u001b[39m,{\u001b[38;5;124m\"\u001b[39m\u001b[38;5;124mclass\u001b[39m\u001b[38;5;124m\"\u001b[39m:\u001b[38;5;124m\"\u001b[39m\u001b[38;5;124m_30jeq3 _16Jk6d\u001b[39m\u001b[38;5;124m\"\u001b[39m})[\u001b[38;5;241m0\u001b[39m]\u001b[38;5;241m.\u001b[39mtext)\n\u001b[1;32m---> 11\u001b[0m     rating\u001b[38;5;241m.\u001b[39mappend(\u001b[43mall_review\u001b[49m\u001b[43m[\u001b[49m\u001b[43mi\u001b[49m\u001b[43m]\u001b[49m\u001b[38;5;241;43m.\u001b[39;49m\u001b[43mdiv\u001b[49m\u001b[38;5;241;43m.\u001b[39;49m\u001b[43mdiv\u001b[49m\u001b[38;5;241m.\u001b[39mdiv\u001b[38;5;241m.\u001b[39mdiv\u001b[38;5;241m.\u001b[39mtext)\n\u001b[0;32m     12\u001b[0m     comment_header\u001b[38;5;241m.\u001b[39mappend(all_review[i]\u001b[38;5;241m.\u001b[39mdiv\u001b[38;5;241m.\u001b[39mdiv\u001b[38;5;241m.\u001b[39mdiv\u001b[38;5;241m.\u001b[39mp\u001b[38;5;241m.\u001b[39mtext)\n\u001b[0;32m     13\u001b[0m     comment_content\u001b[38;5;241m.\u001b[39mappend(all_review[i]\u001b[38;5;241m.\u001b[39mdiv\u001b[38;5;241m.\u001b[39mfind_all(\u001b[38;5;124m'\u001b[39m\u001b[38;5;124mdiv\u001b[39m\u001b[38;5;124m'\u001b[39m,{\u001b[38;5;124m'\u001b[39m\u001b[38;5;124mclass\u001b[39m\u001b[38;5;124m'\u001b[39m:\u001b[38;5;124m\"\u001b[39m\u001b[38;5;124m\"\u001b[39m})[\u001b[38;5;241m0\u001b[39m]\u001b[38;5;241m.\u001b[39mtext)\n",
      "\u001b[1;31mAttributeError\u001b[0m: 'NoneType' object has no attribute 'div'"
     ]
    }
   ],
   "source": [
    "#store all the information into the csv\n",
    "product_price=[]\n",
    "rating = []\n",
    "comment_header = []\n",
    "comment_content=[]\n",
    "comment_date=[]\n",
    "commentator_name = []\n",
    "#get the all kind of the details regarding ratings and the products\n",
    "for i in range(len(all_review)):\n",
    "    product_price.append(product_no6_page.find_all('div',{\"class\":\"_30jeq3 _16Jk6d\"})[0].text)\n",
    "    rating.append(all_review[i].div.div.div.div.text)\n",
    "    comment_header.append(all_review[i].div.div.div.p.text)\n",
    "    comment_content.append(all_review[i].div.find_all('div',{'class':\"\"})[0].text)\n",
    "    comment_date.append(all_review[i].div.find_all('p',{\"class\":\"_2sc7ZR\"})[1].text)\n",
    "    commentator_name.append(all_review[i].div.div.find_all('p',{\"class\":\"_2sc7ZR _2V5EHH\"})[0].text)\n",
    "    \n",
    "dic_data = {\n",
    "    \"Product_price\":product_price,\n",
    "    \"Product_ratings\":rating,\n",
    "    \"Comment_header\":comment_header,\n",
    "    \"Full_comment\":comment_content,\n",
    "    \"Date_of_Comment\":comment_date,\n",
    "    \"Name_of_commentor\":commentator_name\n",
    "}\n",
    "import pandas as pd\n",
    "df = pd.DataFrame(dic_data)\n",
    "df.to_csv(\"Review_Details.csv\")"
   ]
  },
  {
   "cell_type": "code",
   "execution_count": 25,
   "id": "d57d3b24",
   "metadata": {},
   "outputs": [],
   "source": [
    "#store the data into sql\n",
    "import mysql.connector as connection\n",
    "mydb = connection.connect(host = 'localhost',user='root',passwd='root') #to communicating to the pycharm and mysql system database\n",
    "cursor = mydb.cursor()\n",
    "#create database\n",
    "cursor.execute(\"create database if not exists Review_Scrapper\")\n",
    "#create table\n",
    "cursor.execute(\n",
    "    '''create table if not exists Review_Scrapper.Flipkart_Rating_details\n",
    "    (Rating varchar(30),Product_price varchar(30),Comment_date varchar(30),Comment_Header varchar(30),Full_Comment varchar(1000),Commentator_name varchar(30))''')"
   ]
  },
  {
   "cell_type": "code",
   "execution_count": 27,
   "id": "b669aff0",
   "metadata": {},
   "outputs": [
    {
     "name": "stdout",
     "output_type": "stream",
     "text": [
      "product price is ₹46,999 \n",
      " product rating is 5 \n",
      " comment: Simply awesome \n",
      " Full comment: Really satisfied with the Product I received... It’s totally genuine and the packaging was also really good so if ur planning to buy just go for it.READ MORE \n",
      " comment date: Nov, 2020 \n",
      " commentor_name: Flipkart Customer\n",
      "product price is ₹46,999 \n",
      " product rating is 5 \n",
      " comment: Perfect product! \n",
      " Full comment: Amazing phone with great cameras and better battery which gives you the best performance. I just love the camera .READ MORE \n",
      " comment date: Jun, 2020 \n",
      " commentor_name: Flipkart Customer\n",
      "product price is ₹46,999 \n",
      " product rating is 5 \n",
      " comment: Best in the market! \n",
      " Full comment: Great iPhone very snappy experience as apple kind. Upgraded from iPhone 7. Pros-Camera top class - Battery top performed -Chipset no need to say as apple kind -Security as you expect from apple - Display super bright industry leading colour   accuracy and super responsive -Build quality as expect from apple sturdy  premium durable beautiful stylish. -Os most stable os in smartphone industry Cons -No 5G-Display is not based on OLED technology -Charger headphones and 1 apple stic...READ MORE \n",
      " comment date: Apr, 2021 \n",
      " commentor_name: Manish Raghuvanshi\n",
      "product price is ₹46,999 \n",
      " product rating is 5 \n",
      " comment: Worth every penny \n",
      " Full comment: Previously I was using one plus 3t it was a great phone And then I decided to upgrade I am stuck between Samsung s10 plus or iPhone 11 I have seen the specs and everything were good except the display it’s somewhere between 720-1080 and it’s not even an amoled it’s an LCD display But I decided to go with iPhone because I have never used an IOS device I have Been an android user from the past 9 years I ordered IPhone 11 (128gb) product redMy experience after using 3 weeks 1. The delivery ...READ MORE \n",
      " comment date: Jan, 2020 \n",
      " commentor_name: Vamshi  Chakrala \n",
      "product price is ₹46,999 \n",
      " product rating is 5 \n",
      " comment: Highly recommended \n",
      " Full comment: What a camera .....just awesome ..you can feel this iPhone just awesome . Good for gaming also ...try pubg in hd it’s just wowREAD MORE \n",
      " comment date: Jul, 2020 \n",
      " commentor_name: Vishal Dubey\n",
      "product price is ₹46,999 \n",
      " product rating is 5 \n",
      " comment: Fabulous! \n",
      " Full comment: This is my first iOS phone. I am very happy with this product. Very much satisfied with this. I love this phone.READ MORE \n",
      " comment date: Mar, 2020 \n",
      " commentor_name: Naveen Boopathi\n",
      "product price is ₹46,999 \n",
      " product rating is 5 \n",
      " comment: Great product \n",
      " Full comment: Amazing Powerful and Durable Gadget.I’m am very happy with the camera picture quality, Amazing face id unlocked in dark room, Strong battery with perfect screen size as you can carry easily in pocket. This is my third iPhone. I shifted from android Samsung Note series to iPhone because of the strong build quality and peace of mind for next 3-4 years.Don’t think to much just go for it and I suggest you to go for minimum 128gb variant or more 256gb. I’ve attached my puppy pics and no fi...READ MORE \n",
      " comment date: Mar, 2020 \n",
      " commentor_name: Rahul Verma\n",
      "product price is ₹46,999 \n",
      " product rating is 5 \n",
      " comment: Worth every penny \n",
      " Full comment: i11 is worthy to buy, too much happy with the product. Thank u flipkart I received the item on time..loved it..READ MORE \n",
      " comment date: Oct, 2020 \n",
      " commentor_name: Flipkart Customer\n",
      "product price is ₹46,999 \n",
      " product rating is 5 \n",
      " comment: Highly recommended \n",
      " Full comment: It's my first time to use iOS phone and I am loving my upgradation 😍😍 I love the color, I love the assebility of the phone....I need to learn more about its functionality, but as far as I have seen, it's quite easy and it has a lot of functions to work on, specially if you are a content writer or a blogger you get a lot of content creation platforms and they are really amazing. This phone not only for good quality photography but a lot of other task too.😍💯READ MORE \n",
      " comment date: May, 2020 \n",
      " commentor_name: Jimly  Gogoi\n",
      "product price is ₹46,999 \n",
      " product rating is 4 \n",
      " comment: Good choice \n",
      " Full comment: So far it’s been an AMAZING experience coming back to iOS after nearly a decade but it’s not as versatile as android though phone is sturdy dropped it accidentally a couple of times and nothing happened fortunately camera is awesomeREAD MORE \n",
      " comment date: Jun, 2020 \n",
      " commentor_name: Bharat Sv\n"
     ]
    },
    {
     "ename": "AttributeError",
     "evalue": "'NoneType' object has no attribute 'div'",
     "output_type": "error",
     "traceback": [
      "\u001b[1;31m---------------------------------------------------------------------------\u001b[0m",
      "\u001b[1;31mAttributeError\u001b[0m                            Traceback (most recent call last)",
      "Input \u001b[1;32mIn [27]\u001b[0m, in \u001b[0;36m<cell line: 1>\u001b[1;34m()\u001b[0m\n\u001b[0;32m      1\u001b[0m \u001b[38;5;28;01mfor\u001b[39;00m i \u001b[38;5;129;01min\u001b[39;00m all_review:\n\u001b[0;32m      2\u001b[0m     \n\u001b[0;32m      3\u001b[0m     \u001b[38;5;66;03m#get the review and rating details of the particular product 6\u001b[39;00m\n\u001b[0;32m      4\u001b[0m     price \u001b[38;5;241m=\u001b[39m product_no6_page\u001b[38;5;241m.\u001b[39mfind_all(\u001b[38;5;124m'\u001b[39m\u001b[38;5;124mdiv\u001b[39m\u001b[38;5;124m'\u001b[39m,{\u001b[38;5;124m\"\u001b[39m\u001b[38;5;124mclass\u001b[39m\u001b[38;5;124m\"\u001b[39m:\u001b[38;5;124m\"\u001b[39m\u001b[38;5;124m_30jeq3 _16Jk6d\u001b[39m\u001b[38;5;124m\"\u001b[39m})[\u001b[38;5;241m0\u001b[39m]\u001b[38;5;241m.\u001b[39mtext\n\u001b[1;32m----> 5\u001b[0m     rating \u001b[38;5;241m=\u001b[39m \u001b[43mi\u001b[49m\u001b[38;5;241;43m.\u001b[39;49m\u001b[43mdiv\u001b[49m\u001b[38;5;241;43m.\u001b[39;49m\u001b[43mdiv\u001b[49m\u001b[38;5;241m.\u001b[39mdiv\u001b[38;5;241m.\u001b[39mdiv\u001b[38;5;241m.\u001b[39mtext\n\u001b[0;32m      6\u001b[0m     comment_header \u001b[38;5;241m=\u001b[39m i\u001b[38;5;241m.\u001b[39mdiv\u001b[38;5;241m.\u001b[39mdiv\u001b[38;5;241m.\u001b[39mdiv\u001b[38;5;241m.\u001b[39mp\u001b[38;5;241m.\u001b[39mtext\n\u001b[0;32m      7\u001b[0m     comment_content \u001b[38;5;241m=\u001b[39m i\u001b[38;5;241m.\u001b[39mdiv\u001b[38;5;241m.\u001b[39mfind_all(\u001b[38;5;124m'\u001b[39m\u001b[38;5;124mdiv\u001b[39m\u001b[38;5;124m'\u001b[39m,{\u001b[38;5;124m'\u001b[39m\u001b[38;5;124mclass\u001b[39m\u001b[38;5;124m'\u001b[39m:\u001b[38;5;124m\"\u001b[39m\u001b[38;5;124m\"\u001b[39m})[\u001b[38;5;241m0\u001b[39m]\u001b[38;5;241m.\u001b[39mtext\n",
      "\u001b[1;31mAttributeError\u001b[0m: 'NoneType' object has no attribute 'div'"
     ]
    }
   ],
   "source": [
    "for i in all_review:\n",
    "    \n",
    "    #get the review and rating details of the particular product 6\n",
    "    price = product_no6_page.find_all('div',{\"class\":\"_30jeq3 _16Jk6d\"})[0].text\n",
    "    rating = i.div.div.div.div.text\n",
    "    comment_header = i.div.div.div.p.text\n",
    "    comment_content = i.div.find_all('div',{'class':\"\"})[0].text\n",
    "    comment_date = i.div.find_all('p',{\"class\":\"_2sc7ZR\"})[1].text\n",
    "    name =  i.div.div.find_all('p',{\"class\":\"_2sc7ZR _2V5EHH\"})[0].text\n",
    "    \n",
    "    #store the all values into the rating_details table\n",
    "    sql = \"insert into Review_Scrapper.Rating_details(Rating, Product_price,Comment_date, Comment_Header, Full_Comment, Commentator_name) values(%s, %s,%s, %s,%s, %s)\"\n",
    "    values=(rating,price,comment_date,comment_header,comment_content,name)\n",
    "    cursor.execute(sql,values)\n",
    "    mydb.commit()\n",
    "    print(\"product price is\",product6_price ,'\\n',\"product rating is\",rating,'\\n','comment:',comment_header,'\\n','Full comment:',comment_content,'\\n','comment date:',comment_date,'\\n','commentor_name:',name)"
   ]
  },
  {
   "cell_type": "code",
   "execution_count": 28,
   "id": "3a3f9cbd",
   "metadata": {},
   "outputs": [
    {
     "name": "stdout",
     "output_type": "stream",
     "text": [
      "('5', '₹46,999', 'Nov, 2020', 'Simply awesome', 'Really satisfied with the Product I received... It’s totally genuine and the packaging was also really good so if ur planning to buy just go for it.READ MORE', 'Flipkart Customer')\n",
      "('5', '₹46,999', 'Jun, 2020', 'Perfect product!', 'Amazing phone with great cameras and better battery which gives you the best performance. I just love the camera .READ MORE', 'Flipkart Customer')\n",
      "('5', '₹46,999', 'Apr, 2021', 'Best in the market!', 'Great iPhone very snappy experience as apple kind. Upgraded from iPhone 7. Pros-Camera top class - Battery top performed -Chipset no need to say as apple kind -Security as you expect from apple - Display super bright industry leading colour   accuracy and super responsive -Build quality as expect from apple sturdy  premium durable beautiful stylish. -Os most stable os in smartphone industry Cons -No 5G-Display is not based on OLED technology -Charger headphones and 1 apple stic...READ MORE', 'Manish Raghuvanshi')\n",
      "('5', '₹46,999', 'Jan, 2020', 'Worth every penny', 'Previously I was using one plus 3t it was a great phone And then I decided to upgrade I am stuck between Samsung s10 plus or iPhone 11 I have seen the specs and everything were good except the display it’s somewhere between 720-1080 and it’s not even an amoled it’s an LCD display But I decided to go with iPhone because I have never used an IOS device I have Been an android user from the past 9 years I ordered IPhone 11 (128gb) product redMy experience after using 3 weeks 1. The delivery ...READ MORE', 'Vamshi  Chakrala ')\n",
      "('5', '₹46,999', 'Jul, 2020', 'Highly recommended', 'What a camera .....just awesome ..you can feel this iPhone just awesome . Good for gaming also ...try pubg in hd it’s just wowREAD MORE', 'Vishal Dubey')\n",
      "('5', '₹46,999', 'Mar, 2020', 'Fabulous!', 'This is my first iOS phone. I am very happy with this product. Very much satisfied with this. I love this phone.READ MORE', 'Naveen Boopathi')\n",
      "('5', '₹46,999', 'Mar, 2020', 'Great product', 'Amazing Powerful and Durable Gadget.I’m am very happy with the camera picture quality, Amazing face id unlocked in dark room, Strong battery with perfect screen size as you can carry easily in pocket. This is my third iPhone. I shifted from android Samsung Note series to iPhone because of the strong build quality and peace of mind for next 3-4 years.Don’t think to much just go for it and I suggest you to go for minimum 128gb variant or more 256gb. I’ve attached my puppy pics and no fi...READ MORE', 'Rahul Verma')\n",
      "('5', '₹46,999', 'Oct, 2020', 'Worth every penny', 'i11 is worthy to buy, too much happy with the product. Thank u flipkart I received the item on time..loved it..READ MORE', 'Flipkart Customer')\n",
      "('5', '₹46,999', 'May, 2020', 'Highly recommended', \"It's my first time to use iOS phone and I am loving my upgradation 😍😍 I love the color, I love the assebility of the phone....I need to learn more about its functionality, but as far as I have seen, it's quite easy and it has a lot of functions to work on, specially if you are a content writer or a blogger you get a lot of content creation platforms and they are really amazing. This phone not only for good quality photography but a lot of other task too.😍💯READ MORE\", 'Jimly  Gogoi')\n",
      "('4', '₹46,999', 'Jun, 2020', 'Good choice', 'So far it’s been an AMAZING experience coming back to iOS after nearly a decade but it’s not as versatile as android though phone is sturdy dropped it accidentally a couple of times and nothing happened fortunately camera is awesomeREAD MORE', 'Bharat Sv')\n",
      "('5', '₹46,999', 'Nov, 2020', 'Simply awesome', 'Really satisfied with the Product I received... It’s totally genuine and the packaging was also really good so if ur planning to buy just go for it.READ MORE', 'Flipkart Customer')\n",
      "('5', '₹46,999', 'Jun, 2020', 'Perfect product!', 'Amazing phone with great cameras and better battery which gives you the best performance. I just love the camera .READ MORE', 'Flipkart Customer')\n",
      "('5', '₹46,999', 'Apr, 2021', 'Best in the market!', 'Great iPhone very snappy experience as apple kind. Upgraded from iPhone 7. Pros-Camera top class - Battery top performed -Chipset no need to say as apple kind -Security as you expect from apple - Display super bright industry leading colour   accuracy and super responsive -Build quality as expect from apple sturdy  premium durable beautiful stylish. -Os most stable os in smartphone industry Cons -No 5G-Display is not based on OLED technology -Charger headphones and 1 apple stic...READ MORE', 'Manish Raghuvanshi')\n",
      "('5', '₹46,999', 'Jan, 2020', 'Worth every penny', 'Previously I was using one plus 3t it was a great phone And then I decided to upgrade I am stuck between Samsung s10 plus or iPhone 11 I have seen the specs and everything were good except the display it’s somewhere between 720-1080 and it’s not even an amoled it’s an LCD display But I decided to go with iPhone because I have never used an IOS device I have Been an android user from the past 9 years I ordered IPhone 11 (128gb) product redMy experience after using 3 weeks 1. The delivery ...READ MORE', 'Vamshi  Chakrala ')\n",
      "('5', '₹46,999', 'Jul, 2020', 'Highly recommended', 'What a camera .....just awesome ..you can feel this iPhone just awesome . Good for gaming also ...try pubg in hd it’s just wowREAD MORE', 'Vishal Dubey')\n",
      "('5', '₹46,999', 'Mar, 2020', 'Fabulous!', 'This is my first iOS phone. I am very happy with this product. Very much satisfied with this. I love this phone.READ MORE', 'Naveen Boopathi')\n",
      "('5', '₹46,999', 'Mar, 2020', 'Great product', 'Amazing Powerful and Durable Gadget.I’m am very happy with the camera picture quality, Amazing face id unlocked in dark room, Strong battery with perfect screen size as you can carry easily in pocket. This is my third iPhone. I shifted from android Samsung Note series to iPhone because of the strong build quality and peace of mind for next 3-4 years.Don’t think to much just go for it and I suggest you to go for minimum 128gb variant or more 256gb. I’ve attached my puppy pics and no fi...READ MORE', 'Rahul Verma')\n",
      "('5', '₹46,999', 'Oct, 2020', 'Worth every penny', 'i11 is worthy to buy, too much happy with the product. Thank u flipkart I received the item on time..loved it..READ MORE', 'Flipkart Customer')\n",
      "('5', '₹46,999', 'May, 2020', 'Highly recommended', \"It's my first time to use iOS phone and I am loving my upgradation 😍😍 I love the color, I love the assebility of the phone....I need to learn more about its functionality, but as far as I have seen, it's quite easy and it has a lot of functions to work on, specially if you are a content writer or a blogger you get a lot of content creation platforms and they are really amazing. This phone not only for good quality photography but a lot of other task too.😍💯READ MORE\", 'Jimly  Gogoi')\n",
      "('4', '₹46,999', 'Jun, 2020', 'Good choice', 'So far it’s been an AMAZING experience coming back to iOS after nearly a decade but it’s not as versatile as android though phone is sturdy dropped it accidentally a couple of times and nothing happened fortunately camera is awesomeREAD MORE', 'Bharat Sv')\n",
      "('5', '₹46,999', 'Nov, 2020', 'Simply awesome', 'Really satisfied with the Product I received... It’s totally genuine and the packaging was also really good so if ur planning to buy just go for it.READ MORE', 'Flipkart Customer')\n",
      "('5', '₹46,999', 'Nov, 2020', 'Simply awesome', 'Really satisfied with the Product I received... It’s totally genuine and the packaging was also really good so if ur planning to buy just go for it.READ MORE', 'Flipkart Customer')\n",
      "('5', '₹46,999', 'Jun, 2020', 'Perfect product!', 'Amazing phone with great cameras and better battery which gives you the best performance. I just love the camera .READ MORE', 'Flipkart Customer')\n",
      "('5', '₹46,999', 'Apr, 2021', 'Best in the market!', 'Great iPhone very snappy experience as apple kind. Upgraded from iPhone 7. Pros-Camera top class - Battery top performed -Chipset no need to say as apple kind -Security as you expect from apple - Display super bright industry leading colour   accuracy and super responsive -Build quality as expect from apple sturdy  premium durable beautiful stylish. -Os most stable os in smartphone industry Cons -No 5G-Display is not based on OLED technology -Charger headphones and 1 apple stic...READ MORE', 'Manish Raghuvanshi')\n",
      "('5', '₹46,999', 'Jan, 2020', 'Worth every penny', 'Previously I was using one plus 3t it was a great phone And then I decided to upgrade I am stuck between Samsung s10 plus or iPhone 11 I have seen the specs and everything were good except the display it’s somewhere between 720-1080 and it’s not even an amoled it’s an LCD display But I decided to go with iPhone because I have never used an IOS device I have Been an android user from the past 9 years I ordered IPhone 11 (128gb) product redMy experience after using 3 weeks 1. The delivery ...READ MORE', 'Vamshi  Chakrala ')\n",
      "('5', '₹46,999', 'Jul, 2020', 'Highly recommended', 'What a camera .....just awesome ..you can feel this iPhone just awesome . Good for gaming also ...try pubg in hd it’s just wowREAD MORE', 'Vishal Dubey')\n",
      "('5', '₹46,999', 'Mar, 2020', 'Fabulous!', 'This is my first iOS phone. I am very happy with this product. Very much satisfied with this. I love this phone.READ MORE', 'Naveen Boopathi')\n",
      "('5', '₹46,999', 'Mar, 2020', 'Great product', 'Amazing Powerful and Durable Gadget.I’m am very happy with the camera picture quality, Amazing face id unlocked in dark room, Strong battery with perfect screen size as you can carry easily in pocket. This is my third iPhone. I shifted from android Samsung Note series to iPhone because of the strong build quality and peace of mind for next 3-4 years.Don’t think to much just go for it and I suggest you to go for minimum 128gb variant or more 256gb. I’ve attached my puppy pics and no fi...READ MORE', 'Rahul Verma')\n",
      "('5', '₹46,999', 'Oct, 2020', 'Worth every penny', 'i11 is worthy to buy, too much happy with the product. Thank u flipkart I received the item on time..loved it..READ MORE', 'Flipkart Customer')\n",
      "('5', '₹46,999', 'May, 2020', 'Highly recommended', \"It's my first time to use iOS phone and I am loving my upgradation 😍😍 I love the color, I love the assebility of the phone....I need to learn more about its functionality, but as far as I have seen, it's quite easy and it has a lot of functions to work on, specially if you are a content writer or a blogger you get a lot of content creation platforms and they are really amazing. This phone not only for good quality photography but a lot of other task too.😍💯READ MORE\", 'Jimly  Gogoi')\n",
      "('4', '₹46,999', 'Jun, 2020', 'Good choice', 'So far it’s been an AMAZING experience coming back to iOS after nearly a decade but it’s not as versatile as android though phone is sturdy dropped it accidentally a couple of times and nothing happened fortunately camera is awesomeREAD MORE', 'Bharat Sv')\n",
      "('5', '₹46,999', 'Nov, 2020', 'Simply awesome', 'Really satisfied with the Product I received... It’s totally genuine and the packaging was also really good so if ur planning to buy just go for it.READ MORE', 'Flipkart Customer')\n",
      "('5', '₹46,999', 'Jun, 2020', 'Perfect product!', 'Amazing phone with great cameras and better battery which gives you the best performance. I just love the camera .READ MORE', 'Flipkart Customer')\n",
      "('5', '₹46,999', 'Apr, 2021', 'Best in the market!', 'Great iPhone very snappy experience as apple kind. Upgraded from iPhone 7. Pros-Camera top class - Battery top performed -Chipset no need to say as apple kind -Security as you expect from apple - Display super bright industry leading colour   accuracy and super responsive -Build quality as expect from apple sturdy  premium durable beautiful stylish. -Os most stable os in smartphone industry Cons -No 5G-Display is not based on OLED technology -Charger headphones and 1 apple stic...READ MORE', 'Manish Raghuvanshi')\n",
      "('5', '₹46,999', 'Jan, 2020', 'Worth every penny', 'Previously I was using one plus 3t it was a great phone And then I decided to upgrade I am stuck between Samsung s10 plus or iPhone 11 I have seen the specs and everything were good except the display it’s somewhere between 720-1080 and it’s not even an amoled it’s an LCD display But I decided to go with iPhone because I have never used an IOS device I have Been an android user from the past 9 years I ordered IPhone 11 (128gb) product redMy experience after using 3 weeks 1. The delivery ...READ MORE', 'Vamshi  Chakrala ')\n",
      "('5', '₹46,999', 'Jul, 2020', 'Highly recommended', 'What a camera .....just awesome ..you can feel this iPhone just awesome . Good for gaming also ...try pubg in hd it’s just wowREAD MORE', 'Vishal Dubey')\n",
      "('5', '₹46,999', 'Mar, 2020', 'Fabulous!', 'This is my first iOS phone. I am very happy with this product. Very much satisfied with this. I love this phone.READ MORE', 'Naveen Boopathi')\n",
      "('5', '₹46,999', 'Mar, 2020', 'Great product', 'Amazing Powerful and Durable Gadget.I’m am very happy with the camera picture quality, Amazing face id unlocked in dark room, Strong battery with perfect screen size as you can carry easily in pocket. This is my third iPhone. I shifted from android Samsung Note series to iPhone because of the strong build quality and peace of mind for next 3-4 years.Don’t think to much just go for it and I suggest you to go for minimum 128gb variant or more 256gb. I’ve attached my puppy pics and no fi...READ MORE', 'Rahul Verma')\n",
      "('5', '₹46,999', 'Oct, 2020', 'Worth every penny', 'i11 is worthy to buy, too much happy with the product. Thank u flipkart I received the item on time..loved it..READ MORE', 'Flipkart Customer')\n",
      "('5', '₹46,999', 'May, 2020', 'Highly recommended', \"It's my first time to use iOS phone and I am loving my upgradation 😍😍 I love the color, I love the assebility of the phone....I need to learn more about its functionality, but as far as I have seen, it's quite easy and it has a lot of functions to work on, specially if you are a content writer or a blogger you get a lot of content creation platforms and they are really amazing. This phone not only for good quality photography but a lot of other task too.😍💯READ MORE\", 'Jimly  Gogoi')\n",
      "('4', '₹46,999', 'Jun, 2020', 'Good choice', 'So far it’s been an AMAZING experience coming back to iOS after nearly a decade but it’s not as versatile as android though phone is sturdy dropped it accidentally a couple of times and nothing happened fortunately camera is awesomeREAD MORE', 'Bharat Sv')\n"
     ]
    }
   ],
   "source": [
    "#fetch the values from the table    \n",
    "cursor.execute(\"select * from Review_Scrapper.Rating_details\")\n",
    "for i in cursor.fetchall():\n",
    "    print(i)"
   ]
  },
  {
   "cell_type": "code",
   "execution_count": null,
   "id": "f6dddf5f",
   "metadata": {},
   "outputs": [],
   "source": []
  }
 ],
 "metadata": {
  "kernelspec": {
   "display_name": "Python 3 (ipykernel)",
   "language": "python",
   "name": "python3"
  },
  "language_info": {
   "codemirror_mode": {
    "name": "ipython",
    "version": 3
   },
   "file_extension": ".py",
   "mimetype": "text/x-python",
   "name": "python",
   "nbconvert_exporter": "python",
   "pygments_lexer": "ipython3",
   "version": "3.9.12"
  }
 },
 "nbformat": 4,
 "nbformat_minor": 5
}
