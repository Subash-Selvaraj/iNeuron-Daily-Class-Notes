{
 "cells": [
  {
   "cell_type": "markdown",
   "id": "7c72c6bc",
   "metadata": {},
   "source": [
    "# Product Details Scrapper Python Project-1"
   ]
  },
  {
   "cell_type": "code",
   "execution_count": 3,
   "id": "e8ab6cbd",
   "metadata": {},
   "outputs": [],
   "source": [
    "from flask import Flask,request,jsonify,render_template\n",
    "import requests\n",
    "from bs4 import BeautifulSoup as bs\n",
    "from urllib.request import urlopen as urlreq"
   ]
  },
  {
   "cell_type": "code",
   "execution_count": 4,
   "id": "c538f582",
   "metadata": {},
   "outputs": [
    {
     "name": "stdout",
     "output_type": "stream",
     "text": [
      "Enter the product name what you have to searchtelusko\n"
     ]
    },
    {
     "data": {
      "text/plain": [
       "'https://www.flipkart.com/search?q=telusko'"
      ]
     },
     "execution_count": 4,
     "metadata": {},
     "output_type": "execute_result"
    }
   ],
   "source": [
    "#create a url as per the user input\n",
    "product_url = \"https://www.flipkart.com/search?q=\" + input(\"Enter the product name what you have to search\")\n",
    "product_url"
   ]
  },
  {
   "cell_type": "code",
   "execution_count": 5,
   "id": "3dc4c369",
   "metadata": {},
   "outputs": [
    {
     "data": {
      "text/plain": [
       "<http.client.HTTPResponse at 0x1f166eb26d0>"
      ]
     },
     "execution_count": 5,
     "metadata": {},
     "output_type": "execute_result"
    }
   ],
   "source": [
    "#hit the url as request to open the pafge\n",
    "response_website = urlreq(product_url)\n",
    "response_website"
   ]
  },
  {
   "cell_type": "code",
   "execution_count": 28,
   "id": "ead25439",
   "metadata": {},
   "outputs": [],
   "source": [
    "#lets try to know the response by getting the page info by the request\n",
    "page_html = response_website.read()\n",
    "#make the html page details as readable\n",
    "read_page = bs(page_html,\"html.parser\")"
   ]
  },
  {
   "cell_type": "code",
   "execution_count": 83,
   "id": "3ffa2afe",
   "metadata": {},
   "outputs": [
    {
     "data": {
      "text/plain": [
       "17"
      ]
     },
     "execution_count": 83,
     "metadata": {},
     "output_type": "execute_result"
    }
   ],
   "source": [
    "#get the all product details from the page\n",
    "all_products = read_page.find_all(\"div\",{'class':\"_1AtVbE col-12-12\"})\n",
    "len(all_products)"
   ]
  },
  {
   "cell_type": "code",
   "execution_count": 72,
   "id": "88e65dbb",
   "metadata": {},
   "outputs": [
    {
     "name": "stdout",
     "output_type": "stream",
     "text": [
      "realme 8s 5G (Universe Purple, 128 GB)\n",
      "realme 8s 5G (Universe Purple, 128 GB)\n",
      "realme 8s 5G (Universe Blue, 128 GB)\n",
      "realme 8s 5G (Universe Blue, 128 GB)\n",
      "realme 5s (Crystal Red, 128 GB)\n",
      "realme 5s (Crystal Blue, 64 GB)\n",
      "realme 5s (Crystal Blue, 128 GB)\n",
      "realme 5s (Crystal Purple, 64 GB)\n",
      "realme X7 Pro 5G (Mystic Black, 128 GB)\n",
      "realme X7 Pro 5G (Fantasy, 128 GB)\n",
      "realme 5s (Crystal Red, 64 GB)\n",
      "realme 5s (Crystal Purple, 128 GB)\n"
     ]
    }
   ],
   "source": [
    "#get all product names in the results\n",
    "all_product_name = read_page.find_all(\"div\",{'class':\"_4rR01T\"})\n",
    "for i in range(len(all_product_name)):\n",
    "    products_names= all_product_name[i].text\n",
    "    print(products_names)"
   ]
  },
  {
   "cell_type": "code",
   "execution_count": 74,
   "id": "eb26be65",
   "metadata": {
    "scrolled": true
   },
   "outputs": [
    {
     "name": "stdout",
     "output_type": "stream",
     "text": [
      "Product name is realme 8s 5G (Universe Purple, 128 GB) and Rating is 4.4\n",
      "Product name is realme 8s 5G (Universe Purple, 128 GB) and Rating is 4.4\n",
      "Product name is realme 8s 5G (Universe Blue, 128 GB) and Rating is 4.4\n",
      "Product name is realme 8s 5G (Universe Blue, 128 GB) and Rating is 4.4\n",
      "Product name is realme 5s (Crystal Red, 128 GB) and Rating is 4.5\n",
      "Product name is realme 5s (Crystal Blue, 64 GB) and Rating is 4.5\n",
      "Product name is realme 5s (Crystal Blue, 128 GB) and Rating is 4.5\n",
      "Product name is realme 5s (Crystal Purple, 64 GB) and Rating is 4.5\n",
      "Product name is realme X7 Pro 5G (Mystic Black, 128 GB) and Rating is 4.3\n",
      "Product name is realme X7 Pro 5G (Fantasy, 128 GB) and Rating is 4.3\n",
      "Product name is realme 5s (Crystal Red, 64 GB) and Rating is 4.5\n",
      "Product name is realme 5s (Crystal Purple, 128 GB) and Rating is 4.5\n"
     ]
    }
   ],
   "source": [
    "#get all products ratings\n",
    "all_product_ratings = read_page.find_all('div',{'class':'_3LWZlK'})\n",
    "for i in range(len(all_product_ratings)-12):#we have 24 results based on the class name for other recomended products as well but our product results is only 12 so we ignore the last 12 rating results of other recommended products\n",
    "    products_ratings = all_product_ratings[i].text\n",
    "    products_names= all_product_name[i].text\n",
    "    pro_rat = \"Product name is \"+products_names +\" and Rating is \"+ products_ratings\n",
    "    print(pro_rat)"
   ]
  },
  {
   "cell_type": "code",
   "execution_count": 75,
   "id": "9ac2ee2d",
   "metadata": {
    "scrolled": true
   },
   "outputs": [
    {
     "name": "stdout",
     "output_type": "stream",
     "text": [
      "Product name is realme 8s 5G (Universe Purple, 128 GB) and Price is ₹17,999\n",
      "Product name is realme 8s 5G (Universe Purple, 128 GB) and Price is ₹19,999\n",
      "Product name is realme 8s 5G (Universe Blue, 128 GB) and Price is ₹19,999\n",
      "Product name is realme 8s 5G (Universe Blue, 128 GB) and Price is ₹17,999\n",
      "Product name is realme 5s (Crystal Red, 128 GB) and Price is ₹12,999\n",
      "Product name is realme 5s (Crystal Blue, 64 GB) and Price is ₹11,999\n",
      "Product name is realme 5s (Crystal Blue, 128 GB) and Price is ₹12,999\n",
      "Product name is realme 5s (Crystal Purple, 64 GB) and Price is ₹11,999\n",
      "Product name is realme X7 Pro 5G (Mystic Black, 128 GB) and Price is ₹29,999\n",
      "Product name is realme X7 Pro 5G (Fantasy, 128 GB) and Price is ₹29,999\n",
      "Product name is realme 5s (Crystal Red, 64 GB) and Price is ₹11,999\n",
      "Product name is realme 5s (Crystal Purple, 128 GB) and Price is ₹12,999\n"
     ]
    }
   ],
   "source": [
    "#get price of the all products\n",
    "all_product_prices = read_page.find_all('div',{'class':'_30jeq3 _1_WHN1'})\n",
    "for i in range(len(all_product_prices)):\n",
    "    products_names= all_product_name[i].text\n",
    "    products_prices = all_product_prices[i].text\n",
    "    pro_price = \"Product name is \"+products_names +\" and Price is \"+ products_prices\n",
    "    print(pro_price)"
   ]
  },
  {
   "cell_type": "code",
   "execution_count": 86,
   "id": "7703be12",
   "metadata": {},
   "outputs": [],
   "source": [
    "#Store the info into the DB\n",
    "import mysql.connector as conn\n",
    "mydb = conn.connect(host = 'localhost',user='root',passwd = 'root')\n",
    "cursor = mydb.cursor()"
   ]
  },
  {
   "cell_type": "code",
   "execution_count": 93,
   "id": "eed8ae97",
   "metadata": {},
   "outputs": [],
   "source": [
    "#creata a databse if not exists\n",
    "cursor.execute(\"create database if not exists product_details\")\n",
    "#create table if not exists\n",
    "table = \"create table if not exists product_details.Details(product_name varchar(100),price varchar(10),rating varchar(5))\"\n",
    "cursor.execute(table)"
   ]
  },
  {
   "cell_type": "code",
   "execution_count": 94,
   "id": "41fec9e8",
   "metadata": {},
   "outputs": [
    {
     "name": "stdout",
     "output_type": "stream",
     "text": [
      "Product Name is realme 8s 5G (Universe Purple, 128 GB)\n",
      "Price ₹17,999\n",
      "Rating 4.4\n",
      "Product Name is realme 8s 5G (Universe Purple, 128 GB)\n",
      "Price ₹19,999\n",
      "Rating 4.4\n",
      "Product Name is realme 8s 5G (Universe Blue, 128 GB)\n",
      "Price ₹19,999\n",
      "Rating 4.4\n",
      "Product Name is realme 8s 5G (Universe Blue, 128 GB)\n",
      "Price ₹17,999\n",
      "Rating 4.4\n",
      "Product Name is realme 5s (Crystal Red, 128 GB)\n",
      "Price ₹12,999\n",
      "Rating 4.5\n",
      "Product Name is realme 5s (Crystal Blue, 64 GB)\n",
      "Price ₹11,999\n",
      "Rating 4.5\n",
      "Product Name is realme 5s (Crystal Blue, 128 GB)\n",
      "Price ₹12,999\n",
      "Rating 4.5\n",
      "Product Name is realme 5s (Crystal Purple, 64 GB)\n",
      "Price ₹11,999\n",
      "Rating 4.5\n",
      "Product Name is realme X7 Pro 5G (Mystic Black, 128 GB)\n",
      "Price ₹29,999\n",
      "Rating 4.3\n",
      "Product Name is realme X7 Pro 5G (Fantasy, 128 GB)\n",
      "Price ₹29,999\n",
      "Rating 4.3\n",
      "Product Name is realme 5s (Crystal Red, 64 GB)\n",
      "Price ₹11,999\n",
      "Rating 4.5\n",
      "Product Name is realme 5s (Crystal Purple, 128 GB)\n",
      "Price ₹12,999\n",
      "Rating 4.5\n"
     ]
    }
   ],
   "source": [
    "#now get all the details in one hit\n",
    "all_product_name = read_page.find_all(\"div\",{'class':\"_4rR01T\"})\n",
    "all_product_prices = read_page.find_all('div',{'class':'_30jeq3 _1_WHN1'})\n",
    "all_product_ratings = read_page.find_all('div',{'class':'_3LWZlK'})\n",
    "for i in range(len(all_products)-5):\n",
    "    products_names= all_product_name[i].text\n",
    "    products_prices = all_product_prices[i].text\n",
    "    products_ratings = all_product_ratings[i].text\n",
    "    sql=\"Insert into product_details.Details(product_name,price,rating) values(%s,%s,%s)\"\n",
    "    values = (products_names,products_prices,products_ratings)\n",
    "    cursor.execute(sql,values)\n",
    "    mydb.commit()\n",
    "    print(\"Product Name is \" +products_names+\"\\n\"+\"Price \"+products_prices+'\\n'+\"Rating \"+products_ratings)"
   ]
  },
  {
   "cell_type": "code",
   "execution_count": 95,
   "id": "5fa33448",
   "metadata": {},
   "outputs": [
    {
     "name": "stdout",
     "output_type": "stream",
     "text": [
      "('realme 8s 5G (Universe Purple, 128 GB)', '₹17,999', '4.4')\n",
      "('realme 8s 5G (Universe Purple, 128 GB)', '₹19,999', '4.4')\n",
      "('realme 8s 5G (Universe Blue, 128 GB)', '₹19,999', '4.4')\n",
      "('realme 8s 5G (Universe Blue, 128 GB)', '₹17,999', '4.4')\n",
      "('realme 5s (Crystal Red, 128 GB)', '₹12,999', '4.5')\n",
      "('realme 5s (Crystal Blue, 64 GB)', '₹11,999', '4.5')\n",
      "('realme 5s (Crystal Blue, 128 GB)', '₹12,999', '4.5')\n",
      "('realme 5s (Crystal Purple, 64 GB)', '₹11,999', '4.5')\n",
      "('realme X7 Pro 5G (Mystic Black, 128 GB)', '₹29,999', '4.3')\n",
      "('realme X7 Pro 5G (Fantasy, 128 GB)', '₹29,999', '4.3')\n",
      "('realme 5s (Crystal Red, 64 GB)', '₹11,999', '4.5')\n",
      "('realme 5s (Crystal Purple, 128 GB)', '₹12,999', '4.5')\n"
     ]
    }
   ],
   "source": [
    "#fetch the values from the table    \n",
    "cursor.execute(\"select * from product_details.Details\")\n",
    "for i in cursor.fetchall():\n",
    "    print(i)"
   ]
  }
 ],
 "metadata": {
  "kernelspec": {
   "display_name": "Python 3 (ipykernel)",
   "language": "python",
   "name": "python3"
  },
  "language_info": {
   "codemirror_mode": {
    "name": "ipython",
    "version": 3
   },
   "file_extension": ".py",
   "mimetype": "text/x-python",
   "name": "python",
   "nbconvert_exporter": "python",
   "pygments_lexer": "ipython3",
   "version": "3.9.12"
  }
 },
 "nbformat": 4,
 "nbformat_minor": 5
}
