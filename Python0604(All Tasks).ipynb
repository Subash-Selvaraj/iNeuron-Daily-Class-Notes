{
 "cells": [
  {
   "cell_type": "markdown",
   "id": "40c702fd",
   "metadata": {},
   "source": [
    "#### All tasks revision"
   ]
  },
  {
   "cell_type": "code",
   "execution_count": 9,
   "id": "57770d26",
   "metadata": {},
   "outputs": [
    {
     "data": {
      "text/plain": [
       "'tssyityopgmncsa alrNph rgni ni'"
      ]
     },
     "execution_count": 9,
     "metadata": {},
     "output_type": "execute_result"
    }
   ],
   "source": [
    "s = \"this is My First Python programming class and i am learNING python string and its function\"\n",
    "s[0:300:3]"
   ]
  },
  {
   "cell_type": "code",
   "execution_count": 10,
   "id": "2a6c7ed4",
   "metadata": {},
   "outputs": [
    {
     "data": {
      "text/plain": [
       "'noitcnuf sti dna gnirts nohtyp GNINrael ma i dna ssalc gnimmargorp nohtyP tsriF yM si siht'"
      ]
     },
     "execution_count": 10,
     "metadata": {},
     "output_type": "execute_result"
    }
   ],
   "source": [
    "#try to reverse the string without using the reverse string\n",
    "s[::-1]"
   ]
  },
  {
   "cell_type": "code",
   "execution_count": 12,
   "id": "4290dad3",
   "metadata": {},
   "outputs": [
    {
     "data": {
      "text/plain": [
       "['THIS',\n",
       " 'IS',\n",
       " 'MY',\n",
       " 'FIRST',\n",
       " 'PYTHON',\n",
       " 'PROGRAMMING',\n",
       " 'CLASS',\n",
       " 'AND',\n",
       " 'I',\n",
       " 'AM',\n",
       " 'LEARNING',\n",
       " 'PYTHON',\n",
       " 'STRING',\n",
       " 'AND',\n",
       " 'ITS',\n",
       " 'FUNCTION']"
      ]
     },
     "execution_count": 12,
     "metadata": {},
     "output_type": "execute_result"
    }
   ],
   "source": [
    "#try to split a string after conversion of entire string in uppercase\n",
    "s1 = s.upper()\n",
    "s1.split(' ')"
   ]
  },
  {
   "cell_type": "code",
   "execution_count": 13,
   "id": "050edc4f",
   "metadata": {},
   "outputs": [
    {
     "data": {
      "text/plain": [
       "'this is my first python programming class and i am learning python string and its function'"
      ]
     },
     "execution_count": 13,
     "metadata": {},
     "output_type": "execute_result"
    }
   ],
   "source": [
    "#try to convert lower case of the string\n",
    "s.lower()"
   ]
  },
  {
   "cell_type": "code",
   "execution_count": 15,
   "id": "ff4a5426",
   "metadata": {},
   "outputs": [
    {
     "data": {
      "text/plain": [
       "'This is my first python programming class and i am learning python string and its function'"
      ]
     },
     "execution_count": 15,
     "metadata": {},
     "output_type": "execute_result"
    }
   ],
   "source": [
    "#Try to capitalize the whole string(#first letter of the string is only upper case)\n",
    "s.capitalize()"
   ]
  },
  {
   "cell_type": "code",
   "execution_count": 18,
   "id": "27a63c7b",
   "metadata": {},
   "outputs": [
    {
     "data": {
      "text/plain": [
       "True"
      ]
     },
     "execution_count": 18,
     "metadata": {},
     "output_type": "execute_result"
    }
   ],
   "source": [
    "#write difference between isalpha() and isalnum\n",
    "s2 = \"subash1123\"\n",
    "s2.isalnum()"
   ]
  },
  {
   "cell_type": "code",
   "execution_count": 20,
   "id": "2a1146b2",
   "metadata": {},
   "outputs": [
    {
     "data": {
      "text/plain": [
       "False"
      ]
     },
     "execution_count": 20,
     "metadata": {},
     "output_type": "execute_result"
    }
   ],
   "source": [
    "s2= \"suabsh123\"\n",
    "s2.isalpha()"
   ]
  },
  {
   "cell_type": "code",
   "execution_count": 23,
   "id": "e5535794",
   "metadata": {},
   "outputs": [
    {
     "data": {
      "text/plain": [
       "'xyzyuR345       abc'"
      ]
     },
     "execution_count": 23,
     "metadata": {},
     "output_type": "execute_result"
    }
   ],
   "source": [
    "s3 =\"xyzyu\\122345\\tabc\"\n",
    "s3.expandtabs()"
   ]
  },
  {
   "cell_type": "code",
   "execution_count": 25,
   "id": "c69669b3",
   "metadata": {},
   "outputs": [
    {
     "name": "stdout",
     "output_type": "stream",
     "text": [
      "baby\n",
      "baby         \n",
      "        baby\n"
     ]
    }
   ],
   "source": [
    "#strip function\n",
    "t =\"        baby         \"\n",
    "print(t.strip())\n",
    "print(t.lstrip())\n",
    "print(t.rstrip())"
   ]
  },
  {
   "cell_type": "code",
   "execution_count": 26,
   "id": "bfc3fde9",
   "metadata": {},
   "outputs": [
    {
     "data": {
      "text/plain": [
       "'subashselvaraj'"
      ]
     },
     "execution_count": 26,
     "metadata": {},
     "output_type": "execute_result"
    }
   ],
   "source": [
    "#Replace a string character by another character by taking your own example\"SUbashselvaraj\n",
    "name = \"suabshselvaraj\"\n",
    "name.replace(\"suabsh\",\"subash\")"
   ]
  },
  {
   "cell_type": "code",
   "execution_count": 27,
   "id": "a1593f20",
   "metadata": {},
   "outputs": [
    {
     "data": {
      "text/plain": [
       "'**coder***'"
      ]
     },
     "execution_count": 27,
     "metadata": {},
     "output_type": "execute_result"
    }
   ],
   "source": [
    "#try to give a defination of string with center\n",
    "n =\"coder\"\n",
    "n.center(10,'*')"
   ]
  },
  {
   "cell_type": "markdown",
   "id": "2b9da7bf",
   "metadata": {},
   "source": [
    "### TASK 3"
   ]
  },
  {
   "cell_type": "code",
   "execution_count": 32,
   "id": "68792b5b",
   "metadata": {},
   "outputs": [
    {
     "name": "stdout",
     "output_type": "stream",
     "text": [
      "4\n",
      "ineuron \n",
      "ineuron ineuron \n",
      "ineuron ineuron ineuron \n",
      "ineuron ineuron ineuron ineuron \n"
     ]
    }
   ],
   "source": [
    "rows = int(input())\n",
    "for i in range(rows):\n",
    "    print(\"ineuron \"*(i+1))"
   ]
  },
  {
   "cell_type": "code",
   "execution_count": 42,
   "id": "252ebc01",
   "metadata": {},
   "outputs": [
    {
     "name": "stdout",
     "output_type": "stream",
     "text": [
      "                              \n",
      "           ineuron            \n",
      "       ineuron ineuron        \n",
      "   ineuron ineuron ineuron    \n",
      "       ineuron ineuron        \n",
      "           ineuron            \n"
     ]
    }
   ],
   "source": [
    "#2\n",
    "for i in range(6):\n",
    "    if i<=3:\n",
    "        n=i\n",
    "    else:\n",
    "        n = 6-i\n",
    "    print((\"ineuron \"*n).center(30,' '))"
   ]
  },
  {
   "cell_type": "code",
   "execution_count": 44,
   "id": "ad1551ab",
   "metadata": {},
   "outputs": [
    {
     "name": "stdout",
     "output_type": "stream",
     "text": [
      "4\n",
      "ineuron ineuron ineuron ineuron ineuron \n",
      "ineuron ineuron ineuron ineuron \n",
      "ineuron ineuron ineuron \n",
      "ineuron ineuron \n"
     ]
    }
   ],
   "source": [
    "rows = int(input())\n",
    "for i in range(rows):\n",
    "    print(\"ineuron \"*(rows-i+1))"
   ]
  },
  {
   "cell_type": "code",
   "execution_count": 47,
   "id": "43c96df3",
   "metadata": {},
   "outputs": [],
   "source": [
    "l = [[1,2,3,4],(2,3,4,5,6),(3,4,5,6,7),set([23,4,5,45,4,4,5,45,45,4,5]),{'k1':'sudh','k2':'ineuron','k3':'kumar',3:6,7:8},[\"ineuron\",'data science']]"
   ]
  },
  {
   "cell_type": "code",
   "execution_count": 48,
   "id": "fb050cab",
   "metadata": {},
   "outputs": [
    {
     "name": "stdout",
     "output_type": "stream",
     "text": [
      "[1, 2, 3, 4]\n",
      "['ineuron', 'data science']\n"
     ]
    }
   ],
   "source": [
    "#3\n",
    "for i in range(len(l)):\n",
    "    if type(l[i])==list:\n",
    "        print(l[i])"
   ]
  },
  {
   "cell_type": "code",
   "execution_count": 49,
   "id": "5ceab5c9",
   "metadata": {},
   "outputs": [
    {
     "name": "stdout",
     "output_type": "stream",
     "text": [
      "{'k1': 'sudh', 'k2': 'ineuron', 'k3': 'kumar', 3: 6, 7: 8}\n"
     ]
    }
   ],
   "source": [
    "#Q4 try to extract all the dict entity\n",
    "for i in range(len(l)):\n",
    "    if type(l[i])==dict:\n",
    "        print(l[i])"
   ]
  },
  {
   "cell_type": "code",
   "execution_count": 50,
   "id": "c7e058be",
   "metadata": {},
   "outputs": [
    {
     "name": "stdout",
     "output_type": "stream",
     "text": [
      "(2, 3, 4, 5, 6)\n",
      "(3, 4, 5, 6, 7)\n"
     ]
    }
   ],
   "source": [
    "###### Q5 try to extract all the tuple entity\n",
    "#3\n",
    "for i in range(len(l)):\n",
    "    if type(l[i])==tuple:\n",
    "        print(l[i])"
   ]
  },
  {
   "cell_type": "code",
   "execution_count": 58,
   "id": "ae8608f0",
   "metadata": {},
   "outputs": [
    {
     "name": "stdout",
     "output_type": "stream",
     "text": [
      "[1, 2, 3, 4, 2, 3, 4, 5, 6, 3, 4, 5, 6, 7, 45, 4, 5, 23, 3, 6, 7, 8]\n"
     ]
    }
   ],
   "source": [
    "#try to extract all numeric data it may be a part if dict key and value\n",
    "l1 = []\n",
    "for i in range(len(l)):\n",
    "    if type(l[i])==list or type(l[i]) ==tuple or type(l[i]) ==set:\n",
    "        for j in l[i]:\n",
    "            if type(j)==int:\n",
    "                l1.append(j)\n",
    "    if type(l[i])==dict:\n",
    "        for k,m in l[i].items():\n",
    "            if type(k)==int or type(m)==int:\n",
    "                l1.append(k)\n",
    "                l1.append(m)\n",
    "print(l1)"
   ]
  },
  {
   "cell_type": "code",
   "execution_count": 61,
   "id": "62c958eb",
   "metadata": {},
   "outputs": [
    {
     "name": "stdout",
     "output_type": "stream",
     "text": [
      "156\n"
     ]
    }
   ],
   "source": [
    "#Q7 try to giv summation of all numeric data \n",
    "total = 0\n",
    "for i in l1:\n",
    "    total+=i\n",
    "print(total)"
   ]
  },
  {
   "cell_type": "code",
   "execution_count": 62,
   "id": "ab49b52e",
   "metadata": {},
   "outputs": [
    {
     "data": {
      "text/plain": [
       "156"
      ]
     },
     "execution_count": 62,
     "metadata": {},
     "output_type": "execute_result"
    }
   ],
   "source": [
    "sum(l1)"
   ]
  },
  {
   "cell_type": "code",
   "execution_count": 64,
   "id": "7b7ab745",
   "metadata": {},
   "outputs": [
    {
     "name": "stdout",
     "output_type": "stream",
     "text": [
      "1 3 3 5 3 5 7 45 5 23 3 7 "
     ]
    }
   ],
   "source": [
    "#Q8 try to filter out all the odd values inside the lists\n",
    "for i in l1:\n",
    "    if i%2!=0:\n",
    "        print(i,end=' ')"
   ]
  },
  {
   "cell_type": "code",
   "execution_count": 94,
   "id": "dae1ec44",
   "metadata": {},
   "outputs": [],
   "source": [
    "l = [[1,2,3,4],(2,3,4,5,6),(3,4,5,6,7),set([23,4,5,45,4,4,5,45,45,4,5]),{'k1':'sudh','k2':'ineuron','k3':'kumar',3:6,7:8},[\"ineuron\",'data science']]"
   ]
  },
  {
   "cell_type": "code",
   "execution_count": 93,
   "id": "9f767435",
   "metadata": {},
   "outputs": [
    {
     "name": "stdout",
     "output_type": "stream",
     "text": [
      "['ineuron']\n"
     ]
    }
   ],
   "source": [
    "#try to extract all numeric data it may be a part if dict key and value\n",
    "l2 = []\n",
    "for i in l:\n",
    "    if type(i)==list or type(i) ==tuple or type(i) ==set:\n",
    "        for j in i:\n",
    "            if j=='ineuron':\n",
    "                l2.append(j)\n",
    "    if type(i)==dict:\n",
    "        for k in i.items():\n",
    "            if k=='ineuron':\n",
    "                l2.append(k)      \n",
    "print(l2)"
   ]
  },
  {
   "cell_type": "code",
   "execution_count": 114,
   "id": "4321d218",
   "metadata": {},
   "outputs": [
    {
     "data": {
      "text/plain": [
       "[[1, 2, 3, 4],\n",
       " (2, 3, 4, 5, 6),\n",
       " (3, 4, 5, 6, 7),\n",
       " {4, 5, 23, 45},\n",
       " {'k1': 'sudh', 'k2': 'ineuron', 'k3': 'kumar', 3: 6, 7: 8},\n",
       " ['ineuron', 'data science']]"
      ]
     },
     "execution_count": 114,
     "metadata": {},
     "output_type": "execute_result"
    }
   ],
   "source": [
    "l"
   ]
  },
  {
   "cell_type": "code",
   "execution_count": 103,
   "id": "9040c2df",
   "metadata": {},
   "outputs": [
    {
     "name": "stdout",
     "output_type": "stream",
     "text": [
      "5\n",
      "====================\n",
      "5\n"
     ]
    }
   ],
   "source": [
    "#try to find out the number of keys in dic elements\n",
    "for i in l:\n",
    "    if type(i)==dict:\n",
    "        print(len(list(i.keys())))\n",
    "        \n",
    "print(\"====================\")\n",
    "for i in l:\n",
    "    if type(i)==dict:\n",
    "        print(len(i))"
   ]
  },
  {
   "cell_type": "code",
   "execution_count": 130,
   "id": "e791bb3f",
   "metadata": {},
   "outputs": [
    {
     "data": {
      "text/plain": [
       "['k1', 'sudh', 'k2', 'ineuron', 'k3', 'kumar', 'ineuron', 'data science']"
      ]
     },
     "execution_count": 130,
     "metadata": {},
     "output_type": "execute_result"
    }
   ],
   "source": [
    "#try to filter out the all string data\n",
    "#try to unwrape all the collection inside collection and create a flat list\n",
    "l1 = []\n",
    "for i in l:\n",
    "    if type(i)==list or type(i)==tuple or type(i)==set:\n",
    "        for j in i:\n",
    "            if type(j)==str:\n",
    "                l1.append(j)\n",
    "    if type(i)==dict:\n",
    "        for k in i.items():\n",
    "            for g in k:\n",
    "                if type(g)==str:\n",
    "                    l1.append(g)\n",
    "l1"
   ]
  },
  {
   "cell_type": "code",
   "execution_count": 131,
   "id": "dd4f2077",
   "metadata": {},
   "outputs": [
    {
     "name": "stdout",
     "output_type": "stream",
     "text": [
      "k1\n",
      "sudh\n",
      "k2\n",
      "ineuron\n",
      "k3\n",
      "kumar\n",
      "ineuron\n"
     ]
    }
   ],
   "source": [
    "#try to findout alphanum in data\n",
    "for i in l1:\n",
    "    if type(i)==str:\n",
    "        if i.isalnum():\n",
    "            print(i)"
   ]
  },
  {
   "cell_type": "code",
   "execution_count": 124,
   "id": "89034541",
   "metadata": {},
   "outputs": [
    {
     "name": "stdout",
     "output_type": "stream",
     "text": [
      "<class 'list'> 24\n",
      "<class 'tuple'> 720\n",
      "<class 'tuple'> 2520\n",
      "<class 'set'> 20700\n",
      "<class 'dict'> 1008\n",
      "<class 'list'> 1\n"
     ]
    }
   ],
   "source": [
    "#try to multiple all the numbers in each individual collections\n",
    "for i in l:\n",
    "    n =1\n",
    "    if type(i)==list or type(i)==set or type(i)==tuple:\n",
    "        for j in i:\n",
    "            if type(j)==int:\n",
    "                n=n*j\n",
    "    if type(i)==dict:\n",
    "        for k in i.items():\n",
    "            for m in k:\n",
    "                if type(m)==int:\n",
    "                    n=n*m\n",
    "    print(type(i),n)"
   ]
  },
  {
   "cell_type": "code",
   "execution_count": 127,
   "id": "7408c495",
   "metadata": {},
   "outputs": [],
   "source": [
    "#try to unwrape all the collection inside collection and create a flat list\n",
    "x = []\n",
    "for i in l:\n",
    "    if type(i)==list or type(i)==tuple or type(i)==set:\n",
    "        for j in i:\n",
    "            if type(j)==int or type(j)==str:\n",
    "                x.append(j)\n",
    "    if type(i)==dict:\n",
    "        for k in i.items():\n",
    "            for g in k:\n",
    "                if type(g)==int or type(g)==str:\n",
    "                    x.append(g)"
   ]
  },
  {
   "cell_type": "code",
   "execution_count": 128,
   "id": "83476b3b",
   "metadata": {},
   "outputs": [
    {
     "data": {
      "text/plain": [
       "[1,\n",
       " 2,\n",
       " 3,\n",
       " 4,\n",
       " 2,\n",
       " 3,\n",
       " 4,\n",
       " 5,\n",
       " 6,\n",
       " 3,\n",
       " 4,\n",
       " 5,\n",
       " 6,\n",
       " 7,\n",
       " 45,\n",
       " 4,\n",
       " 5,\n",
       " 23,\n",
       " 'k1',\n",
       " 'sudh',\n",
       " 'k2',\n",
       " 'ineuron',\n",
       " 'k3',\n",
       " 'kumar',\n",
       " 3,\n",
       " 6,\n",
       " 7,\n",
       " 8,\n",
       " 'ineuron',\n",
       " 'data science']"
      ]
     },
     "execution_count": 128,
     "metadata": {},
     "output_type": "execute_result"
    }
   ],
   "source": [
    "x"
   ]
  },
  {
   "cell_type": "code",
   "execution_count": 141,
   "id": "12114633",
   "metadata": {},
   "outputs": [
    {
     "name": "stdout",
     "output_type": "stream",
     "text": [
      "1\n",
      "2\n",
      "3\n",
      "4\n",
      "5\n",
      "6\n",
      "7\n",
      "k1\n",
      "sudh\n",
      "k2\n",
      "kumar\n",
      "8\n",
      "45\n",
      "ineuron\n",
      "k3\n",
      "23\n",
      "data science\n"
     ]
    }
   ],
   "source": [
    "#Q10 try to find out number of occerences of all data\n",
    "for i in set(x):\n",
    "    print(i)"
   ]
  },
  {
   "cell_type": "markdown",
   "id": "9a65e72e",
   "metadata": {},
   "source": [
    "#### Task 4"
   ]
  },
  {
   "cell_type": "raw",
   "id": "4271bd4c",
   "metadata": {},
   "source": [
    "Your First Challenge : \n",
    "    \n",
    "\n",
    "\n",
    "q1 : Try to print this by using while loop \n",
    "* \n",
    "* * \n",
    "* * * \n",
    "* * * * \n",
    "* * * * * \n",
    "* * * * * * \n",
    "* * * * * * * \n",
    "* * * * * * * * \n",
    "* * * * * * * * * \n",
    "\n",
    "q2 : try to print below by using while loop : \n",
    "        \n",
    "A\n",
    "B H \n",
    "C I N\n",
    "D J o S\n",
    "E K p T W\n",
    "F L Q U X z\n",
    "G M R V Y \n",
    "\n",
    "q3 : Try to print all the number divisible by 3 in between a range of 40 - 400\n",
    "    \n",
    "q4 : Try to filter out all the vowels form below text by using while loop : \n",
    " \"\"\"Python is a high-level, interpreted, general-purpose programming language. Its design philosophy emphasizes code readability with the use of significant indentation.[32]\n",
    "\n",
    "Python is dynamically-typed and garbage-collected. It supports multiple programming paradigms, including structured (particularly procedural), object-oriented and functional programming. It is often described as a \"batteries included\" language due to its comprehensive standard library.[33][34]\n",
    "\n",
    "Guido van Rossum began working on Python in the late 1980s as a successor to the ABC programming language and first released it in 1991 as Python 0.9.0.[35] Python 2.0 was released in 2000 and introduced new features such as list comprehensions, cycle-detecting garbage collection, reference counting, and Unicode support. Python 3.0, released in 2008, was a major revision that is not completely backward-compatible with earlier versions. Python 2 was discontinued with version 2.7.18 in 2020.[36]\n",
    "\n",
    "Python consistently ranks as one of the most popular programming languagesc\"\"\" \n",
    "\n",
    "\n",
    "q5 : Try to generate all the even number between 1- 1000\n",
    "\n",
    "q6 : Define a function for all the above problem statememnt  . \n",
    "    \n",
    "q7 : write a code to get a time of your system \n",
    "\n",
    "q8 : Write a code to fetch date form your system \n",
    "\n",
    "q9 : Write a code to send a mail to your friend \n",
    "\n",
    "q10 : write a code to trigger alarm for you at scheduled time \n",
    "\n",
    "q11 : write a code to check ip address of your system \n",
    "\n",
    "q12 : Write a code to check a perticular installation in your system\n",
    "\n",
    "q13 : Write a code to convert any text in to voice \n",
    "\n",
    "q14 : you have to write a fun which will take string and return a len of \n",
    "it without using a inbuilt fun len\n",
    "\n",
    "q15 :write a fun which will be able to print an index of all premitive element which you will pass \n",
    "\n",
    "q16 : Write a fun which will take input as a dict and give me out as a list of all the values \n",
    "even in case of 2 level nesting it should work . \n",
    "\n",
    "q17 : write a function whihc will take multiple list as a input and give me concatnation of all the element as \n",
    "and output\n",
    "\n",
    "q18 : Write a function which will whould return list of all the file name from a directory . \n",
    "\n",
    "q19 : write a function whihc will be able to read a image file and show it to you .\n",
    "    \n",
    "q20 : write a function by which you will be able to append two PDF files . \n",
    "    \n",
    "q21 : write a function which can help you to filter only word file from a directory . \n",
    "    \n",
    "q22 : write a function which can read video file and play for you . \n",
    "    \n",
    "q23 : write a function which will be able to shutdonw your system . \n",
    "\n",
    "q24 : Write a function which will whould return list of all the file name from a directory . \n",
    "\n",
    "q25 : write a function whihc will be able to access your mail . \n",
    "        "
   ]
  },
  {
   "cell_type": "code",
   "execution_count": 149,
   "id": "dbd44ed2",
   "metadata": {},
   "outputs": [
    {
     "name": "stdout",
     "output_type": "stream",
     "text": [
      "Enter number of rows : 9\n",
      "* \n",
      "* * \n",
      "* * * \n",
      "* * * * \n",
      "* * * * * \n",
      "* * * * * * \n",
      "* * * * * * * \n",
      "* * * * * * * * \n",
      "* * * * * * * * * \n"
     ]
    }
   ],
   "source": [
    "#q1 : Try to print this by using while loop \n",
    "n = int(input('Enter number of rows : '))\n",
    "i = 1\n",
    "while i <= n :\n",
    "    print(\"* \"*i)\n",
    "    i += 1"
   ]
  },
  {
   "cell_type": "raw",
   "id": "f0e6939b",
   "metadata": {},
   "source": [
    "q2 : try to print below by using while loop : \n",
    "        \n",
    "A\n",
    "B H \n",
    "C I N\n",
    "D J o S\n",
    "E K p T W\n",
    "F L Q U X z\n",
    "G M R V Y "
   ]
  },
  {
   "cell_type": "code",
   "execution_count": 150,
   "id": "89abc906",
   "metadata": {},
   "outputs": [
    {
     "name": "stdout",
     "output_type": "stream",
     "text": [
      "\n",
      " A\n",
      " B H\n",
      " C I N\n",
      " D J O S\n",
      " E K P T W\n",
      " F L Q U X Z\n",
      " G M R V Y\n"
     ]
    }
   ],
   "source": [
    "x = 0\n",
    "while x<8:\n",
    "    content=\"\"\n",
    "    y=0\n",
    "    while y<x:\n",
    "        z=0\n",
    "        sum=0\n",
    "        while z<y:\n",
    "            sum+=6-z\n",
    "            z+=1\n",
    "        if(x+64+sum) <=(64+26):\n",
    "            content+=\" \"+chr(x+64+sum)\n",
    "        y+=1\n",
    "    print(content)\n",
    "    x+=1"
   ]
  },
  {
   "cell_type": "code",
   "execution_count": 154,
   "id": "5c133a70",
   "metadata": {},
   "outputs": [
    {
     "name": "stdout",
     "output_type": "stream",
     "text": [
      "42 45 48 51 54 57 60 63 66 69 72 75 78 81 84 87 90 93 96 99 102 105 108 111 114 117 120 123 126 129 132 135 138 141 144 147 150 153 156 159 162 165 168 171 174 177 180 183 186 189 192 195 198 201 204 207 210 213 216 219 222 225 228 231 234 237 240 243 246 249 252 255 258 261 264 267 270 273 276 279 282 285 288 291 294 297 300 303 306 309 312 315 318 321 324 327 330 333 336 339 342 345 348 351 354 357 360 363 366 369 372 375 378 381 384 387 390 393 396 399 "
     ]
    }
   ],
   "source": [
    " #q3 : Try to print all the number divisible by 3 in between a range of 40 - 400\n",
    "for i in range(40,400):\n",
    "    if i%3==0:\n",
    "        print(i,end=' ')"
   ]
  },
  {
   "cell_type": "code",
   "execution_count": 155,
   "id": "074569f4",
   "metadata": {},
   "outputs": [
    {
     "name": "stdout",
     "output_type": "stream",
     "text": [
      "42 45 48 51 54 57 60 63 66 69 72 75 78 81 84 87 90 93 96 99 102 105 108 111 114 117 120 123 126 129 132 135 138 141 144 147 150 153 156 159 162 165 168 171 174 177 180 183 186 189 192 195 198 201 204 207 210 213 216 219 222 225 228 231 234 237 240 243 246 249 252 255 258 261 264 267 270 273 276 279 282 285 288 291 294 297 300 303 306 309 312 315 318 321 324 327 330 333 336 339 342 345 348 351 354 357 360 363 366 369 372 375 378 381 384 387 390 393 396 399 "
     ]
    }
   ],
   "source": [
    "i = 40\n",
    "while i <=400:\n",
    "    if i%3==0:\n",
    "        print(i,end=' ')\n",
    "    i+=1"
   ]
  },
  {
   "cell_type": "code",
   "execution_count": 152,
   "id": "6a6b2469",
   "metadata": {},
   "outputs": [
    {
     "name": "stdout",
     "output_type": "stream",
     "text": [
      "Python is a high-level, interpreted, general-purpose programming language. Its design philosophy emphasizes code readability with the use of significant indentation.[32]  Python is dynamically-typed and garbage-collected. It supports multiple programming paradigms, including structured (particularly procedural), object-oriented and functional programming. It is often described as a \"batteries included\" language due to its comprehensive standard library.[33][34]  Guido van Rossum began working on Python in the late 1980s as a successor to the ABC programming language and first released it in 1991 as Python 0.9.0.[35] Python 2.0 was released in 2000 and introduced new features such as list comprehensions, cycle-detecting garbage collection, reference counting, and Unicode support. Python 3.0, released in 2008, was a major revision that is not completely backward-compatible with earlier versions. Python 2 was discontinued with version 2.7.18 in 2020.[36]  Python consistently ranks as one of the most popular programming languagesc\n",
      "o i a i e e i e e e e e a u o e o a i a u a e e i i o o e a i e o e e a a i i i e u e o i i i a i e a i o o i a i a e a a a e o e e u o u i e o a i a a i i u i u u e a i u a o e u a o e o i e e a u i o a o a i i o e e i e a a a e i e i u e a u a e u e o i o e e i e a a i a u i o a o u e a o i o o i e a e a a u e o o e o a i a u a e a i e e a e i i a o o a e e a e i a i o u e e e a u e u a i o e e i o e e e i a a e o e i o e e e e o u i a i o e u o o e e a e i a a a o e i i o a i o o e e a a o a i e i e a i e e i o o a i o i u e i e i o i o o i e a a o e o e o o u a o a i a u a e \n",
      "Total Vowels count is  293\n"
     ]
    }
   ],
   "source": [
    "#### q4 : Try to filter out all the vowels form below text by using while loop : \n",
    "string = input()\n",
    "def findvowels(string):\n",
    "    vowels = [\"a\",\"e\",\"i\",\"o\",\"u\"]\n",
    "    count = 0\n",
    "    for x in string:\n",
    "        if x in vowels:\n",
    "            count+=1\n",
    "            print(x,end=' ')\n",
    "    print(\"\\nTotal Vowels count is \",count)\n",
    "findvowels(string)"
   ]
  },
  {
   "cell_type": "code",
   "execution_count": 160,
   "id": "7e5cb919",
   "metadata": {},
   "outputs": [
    {
     "name": "stdout",
     "output_type": "stream",
     "text": [
      "o i a i e e i e e e e e a u o e o a i a u a e i e i i o o e a i e o e e a a i i i e u e o i i i a i e a i o o i a i a e a a a e o e e i u o u i e o a i a a i i u i u u e a i u a o e u a o e o i e e a u i o a o a i i i o e e i e a a a e i e i u e a u a e u e o i o e e i e a a i a u i o a o u e a o i o o i e a e a a u e o o e a o a i a u a e a i e e a e i i a o o a e e a e i a i o u e e e a u e u a i o e e i o e e e i a a e o e i o e e e e o u i a u i o e u o o e e a e i a a a o e i i o a i o o e e a a o a i e i e a i e e i o o a i o i u e i e i o i o o i e a a o e o e o o u a o a i a u a e \n",
      "Total number of vowels are  298\n"
     ]
    }
   ],
   "source": [
    "s=\"\"\"Python is a high-level, interpreted, general-purpose programming language. Its design philosophy emphasizes code readability with the use of significant indentation.[32]\n",
    "\n",
    "Python is dynamically-typed and garbage-collected. It supports multiple programming paradigms, including structured (particularly procedural), object-oriented and functional programming. It is often described as a \"batteries included\" language due to its comprehensive standard library.[33][34]\n",
    "\n",
    "Guido van Rossum began working on Python in the late 1980s as a successor to the ABC programming language and first released it in 1991 as Python 0.9.0.[35] Python 2.0 was released in 2000 and introduced new features such as list comprehensions, cycle-detecting garbage collection, reference counting, and Unicode support. Python 3.0, released in 2008, was a major revision that is not completely backward-compatible with earlier versions. Python 2 was discontinued with version 2.7.18 in 2020.[36]\n",
    "\n",
    "Python consistently ranks as one of the most popular programming languagesc\"\"\"\n",
    "i = 0\n",
    "v = 'aeiou'\n",
    "s = s.lower()\n",
    "count = 0\n",
    "while i<len(s):\n",
    "    if s[i] in v:\n",
    "        count+=1\n",
    "        print(s[i],end=' ')\n",
    "    i+=1\n",
    "print('\\nTotal number of vowels are ',count)"
   ]
  },
  {
   "cell_type": "code",
   "execution_count": 153,
   "id": "0006c23c",
   "metadata": {},
   "outputs": [
    {
     "name": "stdout",
     "output_type": "stream",
     "text": [
      "1\n",
      "1000\n",
      "2 4 6 8 10 12 14 16 18 20 22 24 26 28 30 32 34 36 38 40 42 44 46 48 50 52 54 56 58 60 62 64 66 68 70 72 74 76 78 80 82 84 86 88 90 92 94 96 98 100 102 104 106 108 110 112 114 116 118 120 122 124 126 128 130 132 134 136 138 140 142 144 146 148 150 152 154 156 158 160 162 164 166 168 170 172 174 176 178 180 182 184 186 188 190 192 194 196 198 200 202 204 206 208 210 212 214 216 218 220 222 224 226 228 230 232 234 236 238 240 242 244 246 248 250 252 254 256 258 260 262 264 266 268 270 272 274 276 278 280 282 284 286 288 290 292 294 296 298 300 302 304 306 308 310 312 314 316 318 320 322 324 326 328 330 332 334 336 338 340 342 344 346 348 350 352 354 356 358 360 362 364 366 368 370 372 374 376 378 380 382 384 386 388 390 392 394 396 398 400 402 404 406 408 410 412 414 416 418 420 422 424 426 428 430 432 434 436 438 440 442 444 446 448 450 452 454 456 458 460 462 464 466 468 470 472 474 476 478 480 482 484 486 488 490 492 494 496 498 500 502 504 506 508 510 512 514 516 518 520 522 524 526 528 530 532 534 536 538 540 542 544 546 548 550 552 554 556 558 560 562 564 566 568 570 572 574 576 578 580 582 584 586 588 590 592 594 596 598 600 602 604 606 608 610 612 614 616 618 620 622 624 626 628 630 632 634 636 638 640 642 644 646 648 650 652 654 656 658 660 662 664 666 668 670 672 674 676 678 680 682 684 686 688 690 692 694 696 698 700 702 704 706 708 710 712 714 716 718 720 722 724 726 728 730 732 734 736 738 740 742 744 746 748 750 752 754 756 758 760 762 764 766 768 770 772 774 776 778 780 782 784 786 788 790 792 794 796 798 800 802 804 806 808 810 812 814 816 818 820 822 824 826 828 830 832 834 836 838 840 842 844 846 848 850 852 854 856 858 860 862 864 866 868 870 872 874 876 878 880 882 884 886 888 890 892 894 896 898 900 902 904 906 908 910 912 914 916 918 920 922 924 926 928 930 932 934 936 938 940 942 944 946 948 950 952 954 956 958 960 962 964 966 968 970 972 974 976 978 980 982 984 986 988 990 992 994 996 998 "
     ]
    }
   ],
   "source": [
    "#Try to generate all the even number between 1- 1000\n",
    "m = int(input())\n",
    "n = int(input())\n",
    "def evennumber(m,n):\n",
    "    for i in range(m,n):\n",
    "        if i%2==0:\n",
    "            print(i,end=' ')\n",
    "evennumber(m,n)"
   ]
  },
  {
   "cell_type": "code",
   "execution_count": 164,
   "id": "7d6e536a",
   "metadata": {},
   "outputs": [
    {
     "name": "stdout",
     "output_type": "stream",
     "text": [
      "17:51:06\n"
     ]
    }
   ],
   "source": [
    "#get a time of system\n",
    "import datetime\n",
    "today = datetime.datetime.now()\n",
    "print(today.strftime(\"%H:%M:%S\"))"
   ]
  },
  {
   "cell_type": "code",
   "execution_count": 167,
   "id": "9c45d02f",
   "metadata": {},
   "outputs": [
    {
     "name": "stdout",
     "output_type": "stream",
     "text": [
      "22-06-04\n"
     ]
    }
   ],
   "source": [
    "#fetch date\n",
    "today = datetime.datetime.now()\n",
    "print(today.strftime(\"%y-%m-%d\"))"
   ]
  },
  {
   "cell_type": "code",
   "execution_count": 170,
   "id": "5e6c1eba",
   "metadata": {},
   "outputs": [
    {
     "ename": "SMTPAuthenticationError",
     "evalue": "(534, b'5.7.9 Application-specific password required. Learn more at\\n5.7.9  https://support.google.com/mail/?p=InvalidSecondFactor t4-20020a1709027fc400b0015e8d4eb28esm7208603plb.216 - gsmtp')",
     "output_type": "error",
     "traceback": [
      "\u001b[1;31m---------------------------------------------------------------------------\u001b[0m",
      "\u001b[1;31mSMTPAuthenticationError\u001b[0m                   Traceback (most recent call last)",
      "Input \u001b[1;32mIn [170]\u001b[0m, in \u001b[0;36m<cell line: 5>\u001b[1;34m()\u001b[0m\n\u001b[0;32m      3\u001b[0m server \u001b[38;5;241m=\u001b[39m smtplib\u001b[38;5;241m.\u001b[39mSMTP(\u001b[38;5;124m'\u001b[39m\u001b[38;5;124msmtp.gmail.com\u001b[39m\u001b[38;5;124m'\u001b[39m,\u001b[38;5;241m587\u001b[39m)\n\u001b[0;32m      4\u001b[0m server\u001b[38;5;241m.\u001b[39mstarttls()\n\u001b[1;32m----> 5\u001b[0m \u001b[43mserver\u001b[49m\u001b[38;5;241;43m.\u001b[39;49m\u001b[43mlogin\u001b[49m\u001b[43m(\u001b[49m\u001b[38;5;124;43m\"\u001b[39;49m\u001b[38;5;124;43msubashselvarajatmcas@gmail.com\u001b[39;49m\u001b[38;5;124;43m\"\u001b[39;49m\u001b[43m,\u001b[49m\u001b[38;5;124;43m\"\u001b[39;49m\u001b[38;5;124;43mS@mcas2017\u001b[39;49m\u001b[38;5;124;43m\"\u001b[39;49m\u001b[43m)\u001b[49m\n\u001b[0;32m      6\u001b[0m server\u001b[38;5;241m.\u001b[39msendmail(\u001b[38;5;124m\"\u001b[39m\u001b[38;5;124msubashselvarjsd@gmail.com\u001b[39m\u001b[38;5;124m\"\u001b[39m,\u001b[38;5;124m\"\u001b[39m\u001b[38;5;124mTesting by python\u001b[39m\u001b[38;5;124m\"\u001b[39m)\n\u001b[0;32m      7\u001b[0m \u001b[38;5;28mprint\u001b[39m(\u001b[38;5;124m'\u001b[39m\u001b[38;5;124mMail sent\u001b[39m\u001b[38;5;124m'\u001b[39m)\n",
      "File \u001b[1;32m~\\anaconda3\\lib\\smtplib.py:750\u001b[0m, in \u001b[0;36mSMTP.login\u001b[1;34m(self, user, password, initial_response_ok)\u001b[0m\n\u001b[0;32m    747\u001b[0m         last_exception \u001b[38;5;241m=\u001b[39m e\n\u001b[0;32m    749\u001b[0m \u001b[38;5;66;03m# We could not login successfully.  Return result of last attempt.\u001b[39;00m\n\u001b[1;32m--> 750\u001b[0m \u001b[38;5;28;01mraise\u001b[39;00m last_exception\n",
      "File \u001b[1;32m~\\anaconda3\\lib\\smtplib.py:739\u001b[0m, in \u001b[0;36mSMTP.login\u001b[1;34m(self, user, password, initial_response_ok)\u001b[0m\n\u001b[0;32m    737\u001b[0m method_name \u001b[38;5;241m=\u001b[39m \u001b[38;5;124m'\u001b[39m\u001b[38;5;124mauth_\u001b[39m\u001b[38;5;124m'\u001b[39m \u001b[38;5;241m+\u001b[39m authmethod\u001b[38;5;241m.\u001b[39mlower()\u001b[38;5;241m.\u001b[39mreplace(\u001b[38;5;124m'\u001b[39m\u001b[38;5;124m-\u001b[39m\u001b[38;5;124m'\u001b[39m, \u001b[38;5;124m'\u001b[39m\u001b[38;5;124m_\u001b[39m\u001b[38;5;124m'\u001b[39m)\n\u001b[0;32m    738\u001b[0m \u001b[38;5;28;01mtry\u001b[39;00m:\n\u001b[1;32m--> 739\u001b[0m     (code, resp) \u001b[38;5;241m=\u001b[39m \u001b[38;5;28;43mself\u001b[39;49m\u001b[38;5;241;43m.\u001b[39;49m\u001b[43mauth\u001b[49m\u001b[43m(\u001b[49m\n\u001b[0;32m    740\u001b[0m \u001b[43m        \u001b[49m\u001b[43mauthmethod\u001b[49m\u001b[43m,\u001b[49m\u001b[43m \u001b[49m\u001b[38;5;28;43mgetattr\u001b[39;49m\u001b[43m(\u001b[49m\u001b[38;5;28;43mself\u001b[39;49m\u001b[43m,\u001b[49m\u001b[43m \u001b[49m\u001b[43mmethod_name\u001b[49m\u001b[43m)\u001b[49m\u001b[43m,\u001b[49m\n\u001b[0;32m    741\u001b[0m \u001b[43m        \u001b[49m\u001b[43minitial_response_ok\u001b[49m\u001b[38;5;241;43m=\u001b[39;49m\u001b[43minitial_response_ok\u001b[49m\u001b[43m)\u001b[49m\n\u001b[0;32m    742\u001b[0m     \u001b[38;5;66;03m# 235 == 'Authentication successful'\u001b[39;00m\n\u001b[0;32m    743\u001b[0m     \u001b[38;5;66;03m# 503 == 'Error: already authenticated'\u001b[39;00m\n\u001b[0;32m    744\u001b[0m     \u001b[38;5;28;01mif\u001b[39;00m code \u001b[38;5;129;01min\u001b[39;00m (\u001b[38;5;241m235\u001b[39m, \u001b[38;5;241m503\u001b[39m):\n",
      "File \u001b[1;32m~\\anaconda3\\lib\\smtplib.py:662\u001b[0m, in \u001b[0;36mSMTP.auth\u001b[1;34m(self, mechanism, authobject, initial_response_ok)\u001b[0m\n\u001b[0;32m    660\u001b[0m \u001b[38;5;28;01mif\u001b[39;00m code \u001b[38;5;129;01min\u001b[39;00m (\u001b[38;5;241m235\u001b[39m, \u001b[38;5;241m503\u001b[39m):\n\u001b[0;32m    661\u001b[0m     \u001b[38;5;28;01mreturn\u001b[39;00m (code, resp)\n\u001b[1;32m--> 662\u001b[0m \u001b[38;5;28;01mraise\u001b[39;00m SMTPAuthenticationError(code, resp)\n",
      "\u001b[1;31mSMTPAuthenticationError\u001b[0m: (534, b'5.7.9 Application-specific password required. Learn more at\\n5.7.9  https://support.google.com/mail/?p=InvalidSecondFactor t4-20020a1709027fc400b0015e8d4eb28esm7208603plb.216 - gsmtp')"
     ]
    }
   ],
   "source": [
    "#write mail by python\n",
    "import smtplib\n",
    "server = smtplib.SMTP('smtp.gmail.com',587)\n",
    "server.starttls()\n",
    "server.login(\"subashselvarajatmcas@gmail.com\",\"S@mcas2017\")\n",
    "server.sendmail(\"subashselvarjsd@gmail.com\",\"Testing by python\")\n",
    "print('Mail sent')"
   ]
  },
  {
   "cell_type": "code",
   "execution_count": 173,
   "id": "2163bbf2",
   "metadata": {},
   "outputs": [
    {
     "name": "stdout",
     "output_type": "stream",
     "text": [
      "your ip address is  192.168.1.103\n",
      "your computer name is  HP15s\n"
     ]
    }
   ],
   "source": [
    "#take ip address of  my system\n",
    "import socket\n",
    "host = socket.gethostname()\n",
    "ip=socket.gethostbyname(host)\n",
    "print(\"your ip address is \",ip)\n",
    "print(\"your computer name is \",host)"
   ]
  },
  {
   "cell_type": "code",
   "execution_count": 175,
   "id": "96a06d9e",
   "metadata": {},
   "outputs": [
    {
     "name": "stdout",
     "output_type": "stream",
     "text": [
      "Collecting winapps\n",
      "  Downloading winapps-0.2.0-py3-none-any.whl (9.1 kB)\n",
      "Collecting plumbum<2.0,>=1.6\n",
      "  Downloading plumbum-1.7.2-py2.py3-none-any.whl (117 kB)\n",
      "Requirement already satisfied: pywin32 in c:\\users\\subas\\anaconda3\\lib\\site-packages (from plumbum<2.0,>=1.6->winapps) (302)\n",
      "Installing collected packages: plumbum, winapps\n",
      "Successfully installed plumbum-1.7.2 winapps-0.2.0\n",
      "Note: you may need to restart the kernel to use updated packages.\n"
     ]
    },
    {
     "name": "stderr",
     "output_type": "stream",
     "text": [
      "WARNING: Ignoring invalid distribution -heel (c:\\users\\subas\\anaconda3\\lib\\site-packages)\n",
      "WARNING: Ignoring invalid distribution -heel (c:\\users\\subas\\anaconda3\\lib\\site-packages)\n",
      "WARNING: Ignoring invalid distribution -heel (c:\\users\\subas\\anaconda3\\lib\\site-packages)\n",
      "WARNING: Ignoring invalid distribution -heel (c:\\users\\subas\\anaconda3\\lib\\site-packages)\n",
      "WARNING: Ignoring invalid distribution -heel (c:\\users\\subas\\anaconda3\\lib\\site-packages)\n",
      "WARNING: Ignoring invalid distribution -heel (c:\\users\\subas\\anaconda3\\lib\\site-packages)\n",
      "WARNING: Ignoring invalid distribution -heel (c:\\users\\subas\\anaconda3\\lib\\site-packages)\n",
      "WARNING: Ignoring invalid distribution -heel (c:\\users\\subas\\anaconda3\\lib\\site-packages)\n"
     ]
    }
   ],
   "source": [
    "pip install winapps"
   ]
  },
  {
   "cell_type": "code",
   "execution_count": 176,
   "id": "552a8b46",
   "metadata": {},
   "outputs": [
    {
     "data": {
      "text/plain": [
       "[InstalledApplication(name='Microsoft Office Home and Student 2019 - en-us', version='16.0.15225.20204', install_date=None, install_location=WindowsPath('C:/Program Files/Microsoft Office'), install_source=None, modify_path='\"C:\\\\Program Files\\\\Common Files\\\\Microsoft Shared\\\\ClickToRun\\\\OfficeClickToRun.exe\" scenario=repair platform=x64 culture=en-us', publisher='Microsoft Corporation', uninstall_string='\"C:\\\\Program Files\\\\Common Files\\\\Microsoft Shared\\\\ClickToRun\\\\OfficeClickToRun.exe\" scenario=install scenariosubtype=ARP sourcetype=None productstoremove=HomeStudent2019Retail.16_en-us_x-none culture=en-us version.16=16.0'),\n",
       " InstalledApplication(name='Microsoft OneDrive', version='22.099.0508.0001', install_date=None, install_location=None, install_source=None, modify_path=None, publisher='Microsoft Corporation', uninstall_string='C:\\\\Program Files\\\\Microsoft OneDrive\\\\22.099.0508.0001\\\\OneDriveSetup.exe  /uninstall  /allusers '),\n",
       " InstalledApplication(name='Microsoft OneNote - en-us', version='16.0.15225.20204', install_date=None, install_location=WindowsPath('C:/Program Files/Microsoft Office'), install_source=None, modify_path='\"C:\\\\Program Files\\\\Common Files\\\\Microsoft Shared\\\\ClickToRun\\\\OfficeClickToRun.exe\" scenario=repair platform=x64 culture=en-us', publisher='Microsoft Corporation', uninstall_string='\"C:\\\\Program Files\\\\Common Files\\\\Microsoft Shared\\\\ClickToRun\\\\OfficeClickToRun.exe\" scenario=install scenariosubtype=ARP sourcetype=None productstoremove=OneNoteFreeRetail.16_en-us_x-none culture=en-us version.16=16.0'),\n",
       " InstalledApplication(name='Java(TM) SE Development Kit 18.0.1.1 (64-bit)', version='18.0.1.1', install_date=datetime.date(2022, 5, 28), install_location=WindowsPath('C:/Program Files/Java/jdk-18.0.1.1'), install_source=WindowsPath('C:/Users/subas/Applications'), modify_path='MsiExec.exe /X{31E89462-2587-5B56-8C7E-28A4D022A32B}', publisher='Oracle Corporation', uninstall_string='MsiExec.exe /X{31E89462-2587-5B56-8C7E-28A4D022A32B}'),\n",
       " InstalledApplication(name='Microsoft Update Health Tools', version='4.67.0.0', install_date=datetime.date(2022, 5, 19), install_location='', install_source=WindowsPath('C:/windows/TEMP/89433307-F625-451A-9D03-62B96EA0FAE4'), modify_path='MsiExec.exe /X{6A2A8076-135F-4F55-BB02-DED67C8C6934}', publisher='Microsoft Corporation', uninstall_string='MsiExec.exe /X{6A2A8076-135F-4F55-BB02-DED67C8C6934}'),\n",
       " InstalledApplication(name='Adobe Acrobat DC (64-bit)', version='22.001.20117', install_date=datetime.date(2022, 5, 17), install_location=WindowsPath('C:/Program Files/Adobe/Acrobat DC'), install_source=WindowsPath('C:/Program Files/Common Files/Adobe/Acrobat/Setup/{AC76BA86-1033-FF00-7760-BC15014EA700}'), modify_path='MsiExec.exe /I{AC76BA86-1033-FF00-7760-BC15014EA700}', publisher='Adobe', uninstall_string='MsiExec.exe /I{AC76BA86-1033-FF00-7760-BC15014EA700}'),\n",
       " InstalledApplication(name='Google Chrome', version='102.0.5005.63', install_date=datetime.date(2022, 6, 1), install_location=WindowsPath('C:/Program Files/Google/Chrome/Application'), install_source=None, modify_path=None, publisher='Google LLC', uninstall_string='\"C:\\\\Program Files\\\\Google\\\\Chrome\\\\Application\\\\102.0.5005.63\\\\Installer\\\\setup.exe\" --uninstall --channel=stable --system-level --verbose-logging'),\n",
       " InstalledApplication(name='Microsoft Edge', version='102.0.1245.30', install_date=datetime.date(2022, 6, 2), install_location=WindowsPath('C:/Program Files (x86)/Microsoft/Edge/Application'), install_source=None, modify_path='\"C:\\\\Program Files (x86)\\\\Microsoft\\\\EdgeUpdate\\\\MicrosoftEdgeUpdate.exe\" /install appguid={56EB18F8-B008-4CBD-B6D2-8C97FE7E9062}&appname=Microsoft%20Edge&needsadmin=true&repairtype=windowsonlinerepair /installsource windows', publisher='Microsoft Corporation', uninstall_string='\"C:\\\\Program Files (x86)\\\\Microsoft\\\\Edge\\\\Application\\\\102.0.1245.30\\\\Installer\\\\setup.exe\" --uninstall --msedge --channel=stable --system-level --verbose-logging'),\n",
       " InstalledApplication(name='Microsoft Edge Update', version='1.3.161.35', install_date=None, install_location=None, install_source=None, modify_path=None, publisher=None, uninstall_string=None),\n",
       " InstalledApplication(name='Microsoft Edge WebView2 Runtime', version='101.0.1210.53', install_date=datetime.date(2022, 5, 22), install_location=WindowsPath('C:/Program Files (x86)/Microsoft/EdgeWebView/Application'), install_source=None, modify_path='\"C:\\\\Program Files (x86)\\\\Microsoft\\\\EdgeUpdate\\\\MicrosoftEdgeUpdate.exe\" /install appguid={F3017226-FE2A-4295-8BDF-00C3A9A7E4C5}&appname=Microsoft%20Edge%20WebView&needsadmin=true&repairtype=windowsonlinerepair /installsource windows', publisher='Microsoft Corporation', uninstall_string='\"C:\\\\Program Files (x86)\\\\Microsoft\\\\EdgeWebView\\\\Application\\\\101.0.1210.53\\\\Installer\\\\setup.exe\" --uninstall --msedgewebview --system-level --verbose-logging'),\n",
       " InstalledApplication(name='McAfee LiveSafe', version='16.0 R45', install_date=None, install_location=WindowsPath('C:/Program Files/McAfee'), install_source=None, modify_path=None, publisher='McAfee, LLC', uninstall_string='C:\\\\Program Files\\\\McAfee\\\\MSC\\\\mcuihost.exe /body:misp://MSCJsRes.dll::uninstall.html /id:uninstall'),\n",
       " InstalledApplication(name='PyCharm Community Edition 2022.1.1', version='221.5591.52', install_date=None, install_location=WindowsPath('C:/Program Files/JetBrains/PyCharm Community Edition 2022.1.1'), install_source=None, modify_path=None, publisher='JetBrains s.r.o.', uninstall_string='C:\\\\Program Files\\\\JetBrains\\\\PyCharm Community Edition 2022.1.1\\\\bin\\\\Uninstall.exe'),\n",
       " InstalledApplication(name='HP Audio Switch', version='1.0.211.0', install_date=datetime.date(2021, 10, 12), install_location='', install_source=WindowsPath('c:/SWSetup/APP/Applications/HP/HPAudioSw_PPL3B2/1.0.211.0/src'), modify_path='MsiExec.exe /I{0B1DA73D-0562-4DE1-B942-CEF286CF2EDD}', publisher='HP Inc.', uninstall_string='MsiExec.exe /I{0B1DA73D-0562-4DE1-B942-CEF286CF2EDD}'),\n",
       " InstalledApplication(name='ExpressVPN', version='10.0.9.2', install_date=None, install_location=None, install_source=None, modify_path='\"C:\\\\ProgramData\\\\Package Cache\\\\{57e033a5-c75e-4823-83af-c1b6b3b759ab}\\\\ExpressVPN_10.0.9.2_release.exe\" /modify', publisher='ExpressVPN', uninstall_string='\"C:\\\\ProgramData\\\\Package Cache\\\\{57e033a5-c75e-4823-83af-c1b6b3b759ab}\\\\ExpressVPN_10.0.9.2_release.exe\"  /uninstall'),\n",
       " InstalledApplication(name='HP Connection Optimizer', version='2.0.19.0', install_date=datetime.date(2021, 10, 12), install_location=WindowsPath('C:/Program Files (x86)/HP Inc./HP Connection Optimizer'), install_source=WindowsPath('c:/SWSetup/APP/Applications/HP/HPConnect_RRRPB2/2.0.19.0/src'), modify_path='\"C:\\\\Program Files (x86)\\\\InstallShield Installation Information\\\\{6468C4A5-E47E-405F-B675-A70A70983EA6}\\\\setup.exe\" -runfromtemp -l0x0409 ', publisher='HP Inc.', uninstall_string='\"C:\\\\Program Files (x86)\\\\InstallShield Installation Information\\\\{6468C4A5-E47E-405F-B675-A70A70983EA6}\\\\setup.exe\" -runfromtemp -l0x0409  -removeonly')]"
      ]
     },
     "execution_count": 176,
     "metadata": {},
     "output_type": "execute_result"
    }
   ],
   "source": [
    "#check the installed apps in system\n",
    "import winapps\n",
    "list(winapps.list_installed())"
   ]
  },
  {
   "cell_type": "code",
   "execution_count": 179,
   "id": "31ad2f94",
   "metadata": {},
   "outputs": [
    {
     "ename": "ModuleNotFoundError",
     "evalue": "No module named 'gtts'",
     "output_type": "error",
     "traceback": [
      "\u001b[1;31m---------------------------------------------------------------------------\u001b[0m",
      "\u001b[1;31mModuleNotFoundError\u001b[0m                       Traceback (most recent call last)",
      "Input \u001b[1;32mIn [179]\u001b[0m, in \u001b[0;36m<cell line: 2>\u001b[1;34m()\u001b[0m\n\u001b[0;32m      1\u001b[0m \u001b[38;5;66;03m#write a python code for voice to text\u001b[39;00m\n\u001b[1;32m----> 2\u001b[0m \u001b[38;5;28;01mimport\u001b[39;00m \u001b[38;5;21;01mgtts\u001b[39;00m\n\u001b[0;32m      3\u001b[0m \u001b[38;5;28;01mfrom\u001b[39;00m \u001b[38;5;21;01mplaysound\u001b[39;00m \u001b[38;5;28;01mimport\u001b[39;00m playsound\n\u001b[0;32m      4\u001b[0m \u001b[38;5;28;01mdef\u001b[39;00m \u001b[38;5;21mtext_to_voice\u001b[39m(str1):\n",
      "\u001b[1;31mModuleNotFoundError\u001b[0m: No module named 'gtts'"
     ]
    }
   ],
   "source": [
    "#write a python code for voice to text\n",
    "import gtts\n",
    "from playsound import playsound\n",
    "def text_to_voice(str1):\n",
    "    tts=gtts.gTTS(str1)\n",
    "    tts.save(\"hello.mp3\")\n",
    "    playsount(\"Hello.mp3\")\n",
    "Text = input()\n",
    "txt_to_voice(Text)"
   ]
  },
  {
   "cell_type": "code",
   "execution_count": 182,
   "id": "9164d2db",
   "metadata": {},
   "outputs": [
    {
     "name": "stdout",
     "output_type": "stream",
     "text": [
      "6\n"
     ]
    }
   ],
   "source": [
    "#len of str without using inbuild function\n",
    "s = \"subash\"\n",
    "count = 0\n",
    "for i in s:\n",
    "    count+=1\n",
    "print(count)"
   ]
  },
  {
   "cell_type": "code",
   "execution_count": 183,
   "id": "85cc4290",
   "metadata": {},
   "outputs": [],
   "source": [
    "d={\"k1\":\"value\",\"k2\":\"value\",\"k3\":{\"k12\":\"sudh\",\"k13\":\"gafasd\"}}"
   ]
  },
  {
   "cell_type": "code",
   "execution_count": 184,
   "id": "99a7af9d",
   "metadata": {},
   "outputs": [],
   "source": [
    "#Write a fun which will take input as a dict and give me out as a list of all the values even in case of 2 level nesting it should work .\n",
    "def dict_to_list(d):\n",
    "    l=[]\n",
    "    for i in d.values():\n",
    "        if type(i)!=dict:\n",
    "            l.append(i)\n",
    "        if type(i)==dict:\n",
    "            for j in i.values():\n",
    "                l.append(j)\n",
    "    return l"
   ]
  },
  {
   "cell_type": "code",
   "execution_count": 185,
   "id": "be2b5215",
   "metadata": {},
   "outputs": [
    {
     "data": {
      "text/plain": [
       "['value', 'value', 'sudh', 'gafasd']"
      ]
     },
     "execution_count": 185,
     "metadata": {},
     "output_type": "execute_result"
    }
   ],
   "source": [
    "dict_to_list(d)"
   ]
  },
  {
   "cell_type": "code",
   "execution_count": 186,
   "id": "7524a099",
   "metadata": {},
   "outputs": [],
   "source": [
    " #write a function whihc will be able to read a image file and show it to you ."
   ]
  },
  {
   "cell_type": "code",
   "execution_count": 187,
   "id": "bafd6f40",
   "metadata": {},
   "outputs": [
    {
     "name": "stderr",
     "output_type": "stream",
     "text": [
      "WARNING: Ignoring invalid distribution -heel (c:\\users\\subas\\anaconda3\\lib\\site-packages)\n",
      "WARNING: Ignoring invalid distribution -heel (c:\\users\\subas\\anaconda3\\lib\\site-packages)\n",
      "ERROR: Could not find a version that satisfies the requirement cv2 (from versions: none)\n",
      "ERROR: No matching distribution found for cv2\n",
      "WARNING: Ignoring invalid distribution -heel (c:\\users\\subas\\anaconda3\\lib\\site-packages)\n",
      "WARNING: Ignoring invalid distribution -heel (c:\\users\\subas\\anaconda3\\lib\\site-packages)\n",
      "WARNING: Ignoring invalid distribution -heel (c:\\users\\subas\\anaconda3\\lib\\site-packages)\n"
     ]
    }
   ],
   "source": [
    "!pip install cv2"
   ]
  },
  {
   "cell_type": "code",
   "execution_count": 188,
   "id": "ae24a3c4",
   "metadata": {},
   "outputs": [
    {
     "name": "stdout",
     "output_type": "stream",
     "text": [
      "Requirement already satisfied: opencv-python in c:\\users\\subas\\anaconda3\\lib\\site-packages (4.5.5.64)\n",
      "Requirement already satisfied: numpy>=1.14.5 in c:\\users\\subas\\anaconda3\\lib\\site-packages (from opencv-python) (1.21.5)\n"
     ]
    },
    {
     "name": "stderr",
     "output_type": "stream",
     "text": [
      "WARNING: Ignoring invalid distribution -heel (c:\\users\\subas\\anaconda3\\lib\\site-packages)\n",
      "WARNING: Ignoring invalid distribution -heel (c:\\users\\subas\\anaconda3\\lib\\site-packages)\n",
      "WARNING: Ignoring invalid distribution -heel (c:\\users\\subas\\anaconda3\\lib\\site-packages)\n",
      "WARNING: Ignoring invalid distribution -heel (c:\\users\\subas\\anaconda3\\lib\\site-packages)\n",
      "WARNING: Ignoring invalid distribution -heel (c:\\users\\subas\\anaconda3\\lib\\site-packages)\n",
      "WARNING: Ignoring invalid distribution -heel (c:\\users\\subas\\anaconda3\\lib\\site-packages)\n"
     ]
    }
   ],
   "source": [
    "!pip install opencv-python"
   ]
  },
  {
   "cell_type": "code",
   "execution_count": 189,
   "id": "7b13f268",
   "metadata": {},
   "outputs": [],
   "source": [
    "import cv2    "
   ]
  },
  {
   "cell_type": "code",
   "execution_count": 194,
   "id": "43b9dcf6",
   "metadata": {},
   "outputs": [],
   "source": [
    "def read_img():\n",
    "    a = cv2.imread(\"D:/abc.png\")\n",
    "    cv2.imshow(\"myimg\",a)"
   ]
  },
  {
   "cell_type": "code",
   "execution_count": 195,
   "id": "6625b034",
   "metadata": {},
   "outputs": [
    {
     "ename": "error",
     "evalue": "OpenCV(4.5.4) D:\\a\\opencv-python\\opencv-python\\opencv\\modules\\highgui\\src\\window.cpp:1006: error: (-215:Assertion failed) size.width>0 && size.height>0 in function 'cv::imshow'\n",
     "output_type": "error",
     "traceback": [
      "\u001b[1;31m---------------------------------------------------------------------------\u001b[0m",
      "\u001b[1;31merror\u001b[0m                                     Traceback (most recent call last)",
      "Input \u001b[1;32mIn [195]\u001b[0m, in \u001b[0;36m<cell line: 1>\u001b[1;34m()\u001b[0m\n\u001b[1;32m----> 1\u001b[0m \u001b[43mread_img\u001b[49m\u001b[43m(\u001b[49m\u001b[43m)\u001b[49m\n",
      "Input \u001b[1;32mIn [194]\u001b[0m, in \u001b[0;36mread_img\u001b[1;34m()\u001b[0m\n\u001b[0;32m      1\u001b[0m \u001b[38;5;28;01mdef\u001b[39;00m \u001b[38;5;21mread_img\u001b[39m():\n\u001b[0;32m      2\u001b[0m     a \u001b[38;5;241m=\u001b[39m cv2\u001b[38;5;241m.\u001b[39mimread(\u001b[38;5;124m\"\u001b[39m\u001b[38;5;124mD:/abc.png\u001b[39m\u001b[38;5;124m\"\u001b[39m)\n\u001b[1;32m----> 3\u001b[0m     \u001b[43mcv2\u001b[49m\u001b[38;5;241;43m.\u001b[39;49m\u001b[43mimshow\u001b[49m\u001b[43m(\u001b[49m\u001b[38;5;124;43m\"\u001b[39;49m\u001b[38;5;124;43mmyimg\u001b[39;49m\u001b[38;5;124;43m\"\u001b[39;49m\u001b[43m,\u001b[49m\u001b[43ma\u001b[49m\u001b[43m)\u001b[49m\n",
      "\u001b[1;31merror\u001b[0m: OpenCV(4.5.4) D:\\a\\opencv-python\\opencv-python\\opencv\\modules\\highgui\\src\\window.cpp:1006: error: (-215:Assertion failed) size.width>0 && size.height>0 in function 'cv::imshow'\n"
     ]
    }
   ],
   "source": [
    "read_img()"
   ]
  },
  {
   "cell_type": "code",
   "execution_count": null,
   "id": "cc949d21",
   "metadata": {},
   "outputs": [],
   "source": []
  }
 ],
 "metadata": {
  "kernelspec": {
   "display_name": "Python 3 (ipykernel)",
   "language": "python",
   "name": "python3"
  },
  "language_info": {
   "codemirror_mode": {
    "name": "ipython",
    "version": 3
   },
   "file_extension": ".py",
   "mimetype": "text/x-python",
   "name": "python",
   "nbconvert_exporter": "python",
   "pygments_lexer": "ipython3",
   "version": "3.9.12"
  }
 },
 "nbformat": 4,
 "nbformat_minor": 5
}
