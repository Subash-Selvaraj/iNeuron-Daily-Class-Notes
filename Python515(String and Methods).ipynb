{
 "cells": [
  {
   "cell_type": "code",
   "execution_count": 1,
   "id": "d991337b",
   "metadata": {},
   "outputs": [],
   "source": [
    "#Strings\n",
    "s = \"iNeuron\""
   ]
  },
  {
   "cell_type": "code",
   "execution_count": 2,
   "id": "b380c65b",
   "metadata": {},
   "outputs": [
    {
     "data": {
      "text/plain": [
       "str"
      ]
     },
     "execution_count": 2,
     "metadata": {},
     "output_type": "execute_result"
    }
   ],
   "source": [
    "type(s)"
   ]
  },
  {
   "cell_type": "code",
   "execution_count": 3,
   "id": "c3a2c002",
   "metadata": {},
   "outputs": [
    {
     "data": {
      "text/plain": [
       "'N'"
      ]
     },
     "execution_count": 3,
     "metadata": {},
     "output_type": "execute_result"
    }
   ],
   "source": [
    "s[1]"
   ]
  },
  {
   "cell_type": "code",
   "execution_count": 4,
   "id": "a4d60b98",
   "metadata": {},
   "outputs": [
    {
     "data": {
      "text/plain": [
       "'i'"
      ]
     },
     "execution_count": 4,
     "metadata": {},
     "output_type": "execute_result"
    }
   ],
   "source": [
    "s[0]"
   ]
  },
  {
   "cell_type": "code",
   "execution_count": 5,
   "id": "e9888d6e",
   "metadata": {},
   "outputs": [
    {
     "name": "stdout",
     "output_type": "stream",
     "text": [
      "i\n",
      "N\n",
      "e\n",
      "u\n",
      "r\n",
      "o\n",
      "n\n"
     ]
    }
   ],
   "source": [
    "for i in s:\n",
    "    print(i)"
   ]
  },
  {
   "cell_type": "code",
   "execution_count": 6,
   "id": "e97b7938",
   "metadata": {},
   "outputs": [],
   "source": [
    "#index"
   ]
  },
  {
   "cell_type": "code",
   "execution_count": 7,
   "id": "00499e20",
   "metadata": {},
   "outputs": [
    {
     "name": "stdout",
     "output_type": "stream",
     "text": [
      "index [ 0 ] ----- i\n",
      "index [ 1 ] ----- N\n",
      "index [ 2 ] ----- e\n",
      "index [ 3 ] ----- u\n",
      "index [ 4 ] ----- r\n",
      "index [ 5 ] ----- o\n",
      "index [ 6 ] ----- n\n"
     ]
    }
   ],
   "source": [
    "for i in range(len(s)):\n",
    "    print('index [',i,']','-----',s[i])"
   ]
  },
  {
   "cell_type": "code",
   "execution_count": 8,
   "id": "3aece182",
   "metadata": {},
   "outputs": [
    {
     "data": {
      "text/plain": [
       "'n'"
      ]
     },
     "execution_count": 8,
     "metadata": {},
     "output_type": "execute_result"
    }
   ],
   "source": [
    "s[-1]"
   ]
  },
  {
   "cell_type": "code",
   "execution_count": 9,
   "id": "02b5c993",
   "metadata": {},
   "outputs": [
    {
     "data": {
      "text/plain": [
       "'norueNi'"
      ]
     },
     "execution_count": 9,
     "metadata": {},
     "output_type": "execute_result"
    }
   ],
   "source": [
    "s[::-1]"
   ]
  },
  {
   "cell_type": "code",
   "execution_count": 10,
   "id": "b2da1046",
   "metadata": {},
   "outputs": [
    {
     "data": {
      "text/plain": [
       "'iNeuro'"
      ]
     },
     "execution_count": 10,
     "metadata": {},
     "output_type": "execute_result"
    }
   ],
   "source": [
    "s[0:-1] #given boundary index will not print in every positive and negative "
   ]
  },
  {
   "cell_type": "code",
   "execution_count": 11,
   "id": "464dd782",
   "metadata": {},
   "outputs": [
    {
     "data": {
      "text/plain": [
       "'iern'"
      ]
     },
     "execution_count": 11,
     "metadata": {},
     "output_type": "execute_result"
    }
   ],
   "source": [
    "s[::2] #print every second chr in str"
   ]
  },
  {
   "cell_type": "code",
   "execution_count": 12,
   "id": "39d525d4",
   "metadata": {},
   "outputs": [
    {
     "data": {
      "text/plain": [
       "'Nuo'"
      ]
     },
     "execution_count": 12,
     "metadata": {},
     "output_type": "execute_result"
    }
   ],
   "source": [
    "s[1::2] #take from 1st index and print every second chr in str"
   ]
  },
  {
   "cell_type": "code",
   "execution_count": 13,
   "id": "e73e8bd4",
   "metadata": {},
   "outputs": [
    {
     "data": {
      "text/plain": [
       "'Subash age is 22 '"
      ]
     },
     "execution_count": 13,
     "metadata": {},
     "output_type": "execute_result"
    }
   ],
   "source": [
    "s1 = 'Subash '\n",
    "s2 = 'age is 22 '\n",
    "s3 = s1+s2\n",
    "s3"
   ]
  },
  {
   "cell_type": "code",
   "execution_count": 14,
   "id": "8c764963",
   "metadata": {},
   "outputs": [
    {
     "data": {
      "text/plain": [
       "'SUBASH '"
      ]
     },
     "execution_count": 14,
     "metadata": {},
     "output_type": "execute_result"
    }
   ],
   "source": [
    "s1.upper()"
   ]
  },
  {
   "cell_type": "code",
   "execution_count": 15,
   "id": "d23f33b4",
   "metadata": {},
   "outputs": [
    {
     "data": {
      "text/plain": [
       "'subash '"
      ]
     },
     "execution_count": 15,
     "metadata": {},
     "output_type": "execute_result"
    }
   ],
   "source": [
    "s1.lower()"
   ]
  },
  {
   "cell_type": "code",
   "execution_count": 16,
   "id": "ceb99535",
   "metadata": {},
   "outputs": [
    {
     "data": {
      "text/plain": [
       "1"
      ]
     },
     "execution_count": 16,
     "metadata": {},
     "output_type": "execute_result"
    }
   ],
   "source": [
    "s1.count('s') #if there is multiple elements are there then the first occurance of the element will be count"
   ]
  },
  {
   "cell_type": "code",
   "execution_count": 17,
   "id": "d1bef491",
   "metadata": {},
   "outputs": [
    {
     "data": {
      "text/plain": [
       "'subash '"
      ]
     },
     "execution_count": 17,
     "metadata": {},
     "output_type": "execute_result"
    }
   ],
   "source": [
    "s1.replace('S','s')"
   ]
  },
  {
   "cell_type": "code",
   "execution_count": 18,
   "id": "bee5c0e1",
   "metadata": {},
   "outputs": [],
   "source": [
    "sen = \"THis is my first class in iNeuron\""
   ]
  },
  {
   "cell_type": "code",
   "execution_count": 19,
   "id": "7118d664",
   "metadata": {},
   "outputs": [
    {
     "data": {
      "text/plain": [
       "'i'"
      ]
     },
     "execution_count": 19,
     "metadata": {},
     "output_type": "execute_result"
    }
   ],
   "source": [
    "sen[2]"
   ]
  },
  {
   "cell_type": "code",
   "execution_count": 20,
   "id": "00d3f30d",
   "metadata": {},
   "outputs": [
    {
     "data": {
      "text/plain": [
       "'Ti sm is ls niern'"
      ]
     },
     "execution_count": 20,
     "metadata": {},
     "output_type": "execute_result"
    }
   ],
   "source": [
    "sen[::2] #jump by 2"
   ]
  },
  {
   "cell_type": "code",
   "execution_count": 21,
   "id": "908590bb",
   "metadata": {},
   "outputs": [
    {
     "data": {
      "text/plain": [
       "'Ti sm is ls niern'"
      ]
     },
     "execution_count": 21,
     "metadata": {},
     "output_type": "execute_result"
    }
   ],
   "source": [
    "sen[0:36:2] #jump by 2"
   ]
  },
  {
   "cell_type": "code",
   "execution_count": 22,
   "id": "514497ae",
   "metadata": {},
   "outputs": [
    {
     "data": {
      "text/plain": [
       "'TssyitlsnNr'"
      ]
     },
     "execution_count": 22,
     "metadata": {},
     "output_type": "execute_result"
    }
   ],
   "source": [
    "sen[::3] #jump by 3"
   ]
  },
  {
   "cell_type": "code",
   "execution_count": 23,
   "id": "9e4010fa",
   "metadata": {},
   "outputs": [
    {
     "data": {
      "text/plain": [
       "'TssyitlsnNr'"
      ]
     },
     "execution_count": 23,
     "metadata": {},
     "output_type": "execute_result"
    }
   ],
   "source": [
    "sen[0:36:3] #jump by 3"
   ]
  },
  {
   "cell_type": "code",
   "execution_count": 24,
   "id": "c5fe9315",
   "metadata": {},
   "outputs": [
    {
     "data": {
      "text/plain": [
       "'norueNi ni ssalc tsrif ym si siHT'"
      ]
     },
     "execution_count": 24,
     "metadata": {},
     "output_type": "execute_result"
    }
   ],
   "source": [
    "sen[::-1]"
   ]
  },
  {
   "cell_type": "code",
   "execution_count": 25,
   "id": "5e3675d6",
   "metadata": {},
   "outputs": [
    {
     "data": {
      "text/plain": [
       "''"
      ]
     },
     "execution_count": 25,
     "metadata": {},
     "output_type": "execute_result"
    }
   ],
   "source": [
    "sen[0:8:-1] #unable to do this part why means from 0 unable to backward jumb because we are given forward moving range and we try to jumb in backward so its can't be possible"
   ]
  },
  {
   "cell_type": "code",
   "execution_count": 26,
   "id": "5abd931a",
   "metadata": {},
   "outputs": [
    {
     "data": {
      "text/plain": [
       "'THis is my first class in iNeuron'"
      ]
     },
     "execution_count": 26,
     "metadata": {},
     "output_type": "execute_result"
    }
   ],
   "source": [
    "sen"
   ]
  },
  {
   "cell_type": "code",
   "execution_count": 27,
   "id": "0f1cf12f",
   "metadata": {},
   "outputs": [
    {
     "data": {
      "text/plain": [
       "'m si siH'"
      ]
     },
     "execution_count": 27,
     "metadata": {},
     "output_type": "execute_result"
    }
   ],
   "source": [
    "sen[8:0:-1] #from 8th index we jumb in backward direction upto zero"
   ]
  },
  {
   "cell_type": "code",
   "execution_count": 28,
   "id": "380650e7",
   "metadata": {},
   "outputs": [
    {
     "data": {
      "text/plain": [
       "'ms i'"
      ]
     },
     "execution_count": 28,
     "metadata": {},
     "output_type": "execute_result"
    }
   ],
   "source": [
    "sen[8:0:-2] #jumb by -2 from 8th index to excluding 0th index"
   ]
  },
  {
   "cell_type": "code",
   "execution_count": 29,
   "id": "6bfd2c13",
   "metadata": {},
   "outputs": [
    {
     "data": {
      "text/plain": [
       "'THis is my first class in iNeuron'"
      ]
     },
     "execution_count": 29,
     "metadata": {},
     "output_type": "execute_result"
    }
   ],
   "source": [
    "sen"
   ]
  },
  {
   "cell_type": "code",
   "execution_count": 30,
   "id": "b5e164d1",
   "metadata": {},
   "outputs": [
    {
     "data": {
      "text/plain": [
       "'THis is my first class in iNeu'"
      ]
     },
     "execution_count": 30,
     "metadata": {},
     "output_type": "execute_result"
    }
   ],
   "source": [
    "sen[:-3] #this will try to start from 0 and jumb by 1 and when the backward indexing -3 will meet the excution will stoped"
   ]
  },
  {
   "cell_type": "code",
   "execution_count": 31,
   "id": "0e82cec1",
   "metadata": {},
   "outputs": [
    {
     "data": {
      "text/plain": [
       "33"
      ]
     },
     "execution_count": 31,
     "metadata": {},
     "output_type": "execute_result"
    }
   ],
   "source": [
    "len(sen)"
   ]
  },
  {
   "cell_type": "code",
   "execution_count": 32,
   "id": "d1108353",
   "metadata": {},
   "outputs": [
    {
     "data": {
      "text/plain": [
       "'on'"
      ]
     },
     "execution_count": 32,
     "metadata": {},
     "output_type": "execute_result"
    }
   ],
   "source": [
    "sen[-2:] #start from -2 and jumb by -1 upto 0(because default starting and ending index is 0)"
   ]
  },
  {
   "cell_type": "code",
   "execution_count": 33,
   "id": "dd5360cd",
   "metadata": {},
   "outputs": [],
   "source": [
    "s3='iNeuron'"
   ]
  },
  {
   "cell_type": "code",
   "execution_count": 34,
   "id": "27462ec4",
   "metadata": {},
   "outputs": [
    {
     "data": {
      "text/plain": [
       "'norueNi'"
      ]
     },
     "execution_count": 34,
     "metadata": {},
     "output_type": "execute_result"
    }
   ],
   "source": [
    "s[::-1]"
   ]
  },
  {
   "cell_type": "code",
   "execution_count": 35,
   "id": "a6f94089",
   "metadata": {},
   "outputs": [
    {
     "data": {
      "text/plain": [
       "''"
      ]
     },
     "execution_count": 35,
     "metadata": {},
     "output_type": "execute_result"
    }
   ],
   "source": [
    "s3[-2:-7:1] #this will blank(backward indexing but forward move is not possible)"
   ]
  },
  {
   "cell_type": "code",
   "execution_count": 36,
   "id": "67077417",
   "metadata": {},
   "outputs": [
    {
     "data": {
      "text/plain": [
       "'iNeur'"
      ]
     },
     "execution_count": 36,
     "metadata": {},
     "output_type": "execute_result"
    }
   ],
   "source": [
    "s3[-7:-2:1]#forward indexing and forward move is possible"
   ]
  },
  {
   "cell_type": "code",
   "execution_count": 37,
   "id": "34ef419a",
   "metadata": {},
   "outputs": [
    {
     "data": {
      "text/plain": [
       "''"
      ]
     },
     "execution_count": 37,
     "metadata": {},
     "output_type": "execute_result"
    }
   ],
   "source": [
    "s3[5:0] #by default the jumb will +1 so we can't do backward move by using default indexing we can change the default move"
   ]
  },
  {
   "cell_type": "code",
   "execution_count": 38,
   "id": "0c979659",
   "metadata": {},
   "outputs": [
    {
     "data": {
      "text/plain": [
       "''"
      ]
     },
     "execution_count": 38,
     "metadata": {},
     "output_type": "execute_result"
    }
   ],
   "source": [
    "s3[0:0]"
   ]
  },
  {
   "cell_type": "code",
   "execution_count": 43,
   "id": "f64d98f5",
   "metadata": {},
   "outputs": [
    {
     "data": {
      "text/plain": [
       "'iNeuron'"
      ]
     },
     "execution_count": 43,
     "metadata": {},
     "output_type": "execute_result"
    }
   ],
   "source": [
    "s3"
   ]
  },
  {
   "cell_type": "code",
   "execution_count": 44,
   "id": "51241e5c",
   "metadata": {},
   "outputs": [
    {
     "data": {
      "text/plain": [
       "'nor'"
      ]
     },
     "execution_count": 44,
     "metadata": {},
     "output_type": "execute_result"
    }
   ],
   "source": [
    "s3[:-4:-1] #from 0 to -4 and jumb by -1"
   ]
  },
  {
   "cell_type": "code",
   "execution_count": 45,
   "id": "f8e94216",
   "metadata": {},
   "outputs": [
    {
     "ename": "TypeError",
     "evalue": "can only concatenate str (not \"int\") to str",
     "output_type": "error",
     "traceback": [
      "\u001b[1;31m---------------------------------------------------------------------------\u001b[0m",
      "\u001b[1;31mTypeError\u001b[0m                                 Traceback (most recent call last)",
      "Input \u001b[1;32mIn [45]\u001b[0m, in \u001b[0;36m<cell line: 2>\u001b[1;34m()\u001b[0m\n\u001b[0;32m      1\u001b[0m \u001b[38;5;66;03m#str add\u001b[39;00m\n\u001b[1;32m----> 2\u001b[0m \u001b[43ms3\u001b[49m\u001b[38;5;241;43m+\u001b[39;49m\u001b[38;5;241;43m1\u001b[39;49m\n",
      "\u001b[1;31mTypeError\u001b[0m: can only concatenate str (not \"int\") to str"
     ]
    }
   ],
   "source": [
    "#str add\n",
    "s3+1 #str and int not concatenate"
   ]
  },
  {
   "cell_type": "code",
   "execution_count": 46,
   "id": "435d05ad",
   "metadata": {},
   "outputs": [
    {
     "data": {
      "text/plain": [
       "'iNeuron1'"
      ]
     },
     "execution_count": 46,
     "metadata": {},
     "output_type": "execute_result"
    }
   ],
   "source": [
    "#we can change int to str and we can cancatenate\n",
    "s3+str(1) #type casting"
   ]
  },
  {
   "cell_type": "code",
   "execution_count": 47,
   "id": "87f72090",
   "metadata": {},
   "outputs": [
    {
     "data": {
      "text/plain": [
       "'iNeuron1'"
      ]
     },
     "execution_count": 47,
     "metadata": {},
     "output_type": "execute_result"
    }
   ],
   "source": [
    "s3+'1'"
   ]
  },
  {
   "cell_type": "code",
   "execution_count": 48,
   "id": "0bec2798",
   "metadata": {},
   "outputs": [
    {
     "data": {
      "text/plain": [
       "7"
      ]
     },
     "execution_count": 48,
     "metadata": {},
     "output_type": "execute_result"
    }
   ],
   "source": [
    "len(s3)"
   ]
  },
  {
   "cell_type": "code",
   "execution_count": 49,
   "id": "25c10aea",
   "metadata": {},
   "outputs": [
    {
     "data": {
      "text/plain": [
       "'iNeuroniNeuron'"
      ]
     },
     "execution_count": 49,
     "metadata": {},
     "output_type": "execute_result"
    }
   ],
   "source": [
    "s3*2 #it will repeat the value by 2 time"
   ]
  },
  {
   "cell_type": "code",
   "execution_count": 50,
   "id": "b1b235fe",
   "metadata": {},
   "outputs": [
    {
     "data": {
      "text/plain": [
       "'iNeuroniNeuroniNeuroniNeuron'"
      ]
     },
     "execution_count": 50,
     "metadata": {},
     "output_type": "execute_result"
    }
   ],
   "source": [
    "s3*4"
   ]
  },
  {
   "cell_type": "code",
   "execution_count": 51,
   "id": "f59dd5a9",
   "metadata": {},
   "outputs": [
    {
     "data": {
      "text/plain": [
       "'iNeuron'"
      ]
     },
     "execution_count": 51,
     "metadata": {},
     "output_type": "execute_result"
    }
   ],
   "source": [
    "s3"
   ]
  },
  {
   "cell_type": "code",
   "execution_count": 52,
   "id": "b05433ea",
   "metadata": {},
   "outputs": [
    {
     "data": {
      "text/plain": [
       "1"
      ]
     },
     "execution_count": 52,
     "metadata": {},
     "output_type": "execute_result"
    }
   ],
   "source": [
    "s3.find('N') #it will give the index of the given element from the str"
   ]
  },
  {
   "cell_type": "code",
   "execution_count": 53,
   "id": "afb81925",
   "metadata": {},
   "outputs": [
    {
     "data": {
      "text/plain": [
       "4"
      ]
     },
     "execution_count": 53,
     "metadata": {},
     "output_type": "execute_result"
    }
   ],
   "source": [
    "s='subashsubash'\n",
    "s.count('s')"
   ]
  },
  {
   "cell_type": "code",
   "execution_count": 54,
   "id": "47641689",
   "metadata": {},
   "outputs": [
    {
     "data": {
      "text/plain": [
       "2"
      ]
     },
     "execution_count": 54,
     "metadata": {},
     "output_type": "execute_result"
    }
   ],
   "source": [
    "s.count('u')"
   ]
  },
  {
   "cell_type": "code",
   "execution_count": 55,
   "id": "0e55f468",
   "metadata": {},
   "outputs": [
    {
     "data": {
      "text/plain": [
       "2"
      ]
     },
     "execution_count": 55,
     "metadata": {},
     "output_type": "execute_result"
    }
   ],
   "source": [
    "s.count('subash')"
   ]
  },
  {
   "cell_type": "code",
   "execution_count": 56,
   "id": "7bf1658c",
   "metadata": {},
   "outputs": [
    {
     "data": {
      "text/plain": [
       "2"
      ]
     },
     "execution_count": 56,
     "metadata": {},
     "output_type": "execute_result"
    }
   ],
   "source": [
    "s.count('sub')"
   ]
  },
  {
   "cell_type": "code",
   "execution_count": 57,
   "id": "0651371e",
   "metadata": {},
   "outputs": [
    {
     "data": {
      "text/plain": [
       "1"
      ]
     },
     "execution_count": 57,
     "metadata": {},
     "output_type": "execute_result"
    }
   ],
   "source": [
    "s.count('hs')"
   ]
  },
  {
   "cell_type": "code",
   "execution_count": 58,
   "id": "a4af8769",
   "metadata": {},
   "outputs": [
    {
     "data": {
      "text/plain": [
       "['', 'uba', 'h', 'uba', 'h']"
      ]
     },
     "execution_count": 58,
     "metadata": {},
     "output_type": "execute_result"
    }
   ],
   "source": [
    "s.split('s') #we can split the string by the chr"
   ]
  },
  {
   "cell_type": "code",
   "execution_count": 59,
   "id": "c519f8cb",
   "metadata": {},
   "outputs": [],
   "source": [
    "sw='''Testing conducted by Apple in October 2020 using pre-production 13-inch MacBook Pro systems with Apple M1 chip, 8GB of RAM and 512GB SSD. The Apple TV app movie playback test measures battery life by playing back 1080p HD content with display brightness set to 8 clicks from the bottom. Battery life varies by use and configuration. See apple.com/in/batteries for more information.'''"
   ]
  },
  {
   "cell_type": "code",
   "execution_count": 60,
   "id": "d5125524",
   "metadata": {},
   "outputs": [
    {
     "data": {
      "text/plain": [
       "'Testing conducted by Apple in October 2020 using pre-production 13-inch MacBook Pro systems with Apple M1 chip, 8GB of RAM and 512GB SSD. The Apple TV app movie playback test measures battery life by playing back 1080p HD content with display brightness set to 8 clicks from the bottom. Battery life varies by use and configuration. See apple.com/in/batteries for more information.'"
      ]
     },
     "execution_count": 60,
     "metadata": {},
     "output_type": "execute_result"
    }
   ],
   "source": [
    "sw"
   ]
  },
  {
   "cell_type": "code",
   "execution_count": 61,
   "id": "879dc7fe",
   "metadata": {},
   "outputs": [
    {
     "data": {
      "text/plain": [
       "['Testing',\n",
       " 'conducted',\n",
       " 'by',\n",
       " 'Apple',\n",
       " 'in',\n",
       " 'October',\n",
       " '2020',\n",
       " 'using',\n",
       " 'pre-production',\n",
       " '13-inch',\n",
       " 'MacBook',\n",
       " 'Pro',\n",
       " 'systems',\n",
       " 'with',\n",
       " 'Apple',\n",
       " 'M1',\n",
       " 'chip,',\n",
       " '8GB',\n",
       " 'of',\n",
       " 'RAM',\n",
       " 'and',\n",
       " '512GB',\n",
       " 'SSD.',\n",
       " 'The',\n",
       " 'Apple',\n",
       " 'TV',\n",
       " 'app',\n",
       " 'movie',\n",
       " 'playback',\n",
       " 'test',\n",
       " 'measures',\n",
       " 'battery',\n",
       " 'life',\n",
       " 'by',\n",
       " 'playing',\n",
       " 'back',\n",
       " '1080p',\n",
       " 'HD',\n",
       " 'content',\n",
       " 'with',\n",
       " 'display',\n",
       " 'brightness',\n",
       " 'set',\n",
       " 'to',\n",
       " '8',\n",
       " 'clicks',\n",
       " 'from',\n",
       " 'the',\n",
       " 'bottom.',\n",
       " 'Battery',\n",
       " 'life',\n",
       " 'varies',\n",
       " 'by',\n",
       " 'use',\n",
       " 'and',\n",
       " 'configuration.',\n",
       " 'See',\n",
       " 'apple.com/in/batteries',\n",
       " 'for',\n",
       " 'more',\n",
       " 'information.']"
      ]
     },
     "execution_count": 61,
     "metadata": {},
     "output_type": "execute_result"
    }
   ],
   "source": [
    "#get the all word from the sentences by using split\n",
    "sw.split(' ')"
   ]
  },
  {
   "cell_type": "code",
   "execution_count": 62,
   "id": "0d0f523b",
   "metadata": {},
   "outputs": [
    {
     "data": {
      "text/plain": [
       "1"
      ]
     },
     "execution_count": 62,
     "metadata": {},
     "output_type": "execute_result"
    }
   ],
   "source": [
    "sw.count('from')"
   ]
  },
  {
   "cell_type": "code",
   "execution_count": 63,
   "id": "2ae4a8cf",
   "metadata": {},
   "outputs": [
    {
     "data": {
      "text/plain": [
       "360"
      ]
     },
     "execution_count": 63,
     "metadata": {},
     "output_type": "execute_result"
    }
   ],
   "source": [
    "sw.find('for')"
   ]
  },
  {
   "cell_type": "code",
   "execution_count": 64,
   "id": "a041d8ca",
   "metadata": {},
   "outputs": [],
   "source": [
    "sq = \"\"\"Testing conducted by Apple in October 2020 using pre-production 13-inch MacBook Pro systems with Apple M1 chip, 8GB of RAM and 512GB SSD. The Apple TV app movie playback test measures battery life by playing back 1080p HD content with display brightness set to 8 clicks from the bottom. Battery life varies by use and configuration.\n",
    "See apple.com/in/batteries for more information.\"\"\""
   ]
  },
  {
   "cell_type": "code",
   "execution_count": 65,
   "id": "2a47296f",
   "metadata": {},
   "outputs": [
    {
     "data": {
      "text/plain": [
       "'Testing conducted by Apple in October 2020 using pre-production 13-inch MacBook Pro systems with Apple M1 chip, 8GB of RAM and 512GB SSD. The Apple TV app movie playback test measures battery life by playing back 1080p HD content with display brightness set to 8 clicks from the bottom. Battery life varies by use and configuration.\\nSee apple.com/in/batteries for more information.'"
      ]
     },
     "execution_count": 65,
     "metadata": {},
     "output_type": "execute_result"
    }
   ],
   "source": [
    "sq\n"
   ]
  },
  {
   "cell_type": "code",
   "execution_count": 66,
   "id": "f086da91",
   "metadata": {},
   "outputs": [
    {
     "data": {
      "text/plain": [
       "'TESTING CONDUCTED BY APPLE IN OCTOBER 2020 USING PRE-PRODUCTION 13-INCH MACBOOK PRO SYSTEMS WITH APPLE M1 CHIP, 8GB OF RAM AND 512GB SSD. THE APPLE TV APP MOVIE PLAYBACK TEST MEASURES BATTERY LIFE BY PLAYING BACK 1080P HD CONTENT WITH DISPLAY BRIGHTNESS SET TO 8 CLICKS FROM THE BOTTOM. BATTERY LIFE VARIES BY USE AND CONFIGURATION. SEE APPLE.COM/IN/BATTERIES FOR MORE INFORMATION.'"
      ]
     },
     "execution_count": 66,
     "metadata": {},
     "output_type": "execute_result"
    }
   ],
   "source": [
    "sw.upper()"
   ]
  },
  {
   "cell_type": "code",
   "execution_count": 67,
   "id": "a59900f4",
   "metadata": {},
   "outputs": [
    {
     "data": {
      "text/plain": [
       "'testing conducted by apple in october 2020 using pre-production 13-inch macbook pro systems with apple m1 chip, 8gb of ram and 512gb ssd. the apple tv app movie playback test measures battery life by playing back 1080p hd content with display brightness set to 8 clicks from the bottom. battery life varies by use and configuration. see apple.com/in/batteries for more information.'"
      ]
     },
     "execution_count": 67,
     "metadata": {},
     "output_type": "execute_result"
    }
   ],
   "source": [
    "sw.lower()"
   ]
  },
  {
   "cell_type": "code",
   "execution_count": 68,
   "id": "3459fa62",
   "metadata": {},
   "outputs": [],
   "source": [
    "sw = sw.upper()"
   ]
  },
  {
   "cell_type": "code",
   "execution_count": 69,
   "id": "a4f9444b",
   "metadata": {},
   "outputs": [
    {
     "data": {
      "text/plain": [
       "'TESTING CONDUCTED BY APPLE IN OCTOBER 2020 USING PRE-PRODUCTION 13-INCH MACBOOK PRO SYSTEMS WITH APPLE M1 CHIP, 8GB OF RAM AND 512GB SSD. THE APPLE TV APP MOVIE PLAYBACK TEST MEASURES BATTERY LIFE BY PLAYING BACK 1080P HD CONTENT WITH DISPLAY BRIGHTNESS SET TO 8 CLICKS FROM THE BOTTOM. BATTERY LIFE VARIES BY USE AND CONFIGURATION. SEE APPLE.COM/IN/BATTERIES FOR MORE INFORMATION.'"
      ]
     },
     "execution_count": 69,
     "metadata": {},
     "output_type": "execute_result"
    }
   ],
   "source": [
    "sw"
   ]
  },
  {
   "cell_type": "code",
   "execution_count": 70,
   "id": "fb6f47b7",
   "metadata": {},
   "outputs": [],
   "source": [
    "s = \"sudhanshu\""
   ]
  },
  {
   "cell_type": "code",
   "execution_count": 71,
   "id": "b6258c06",
   "metadata": {},
   "outputs": [
    {
     "data": {
      "text/plain": [
       "'Sudhanshu'"
      ]
     },
     "execution_count": 71,
     "metadata": {},
     "output_type": "execute_result"
    }
   ],
   "source": [
    "s.title() #very first letter will be upper case"
   ]
  },
  {
   "cell_type": "code",
   "execution_count": 72,
   "id": "4acee4c7",
   "metadata": {},
   "outputs": [],
   "source": [
    "sw = sw.lower()"
   ]
  },
  {
   "cell_type": "code",
   "execution_count": 73,
   "id": "6878f666",
   "metadata": {},
   "outputs": [
    {
     "data": {
      "text/plain": [
       "'testing conducted by apple in october 2020 using pre-production 13-inch macbook pro systems with apple m1 chip, 8gb of ram and 512gb ssd. the apple tv app movie playback test measures battery life by playing back 1080p hd content with display brightness set to 8 clicks from the bottom. battery life varies by use and configuration. see apple.com/in/batteries for more information.'"
      ]
     },
     "execution_count": 73,
     "metadata": {},
     "output_type": "execute_result"
    }
   ],
   "source": [
    "sw"
   ]
  },
  {
   "cell_type": "code",
   "execution_count": 74,
   "id": "a7bcec91",
   "metadata": {},
   "outputs": [
    {
     "data": {
      "text/plain": [
       "'Testing Conducted By Apple In October 2020 Using Pre-Production 13-Inch Macbook Pro Systems With Apple M1 Chip, 8Gb Of Ram And 512Gb Ssd. The Apple Tv App Movie Playback Test Measures Battery Life By Playing Back 1080P Hd Content With Display Brightness Set To 8 Clicks From The Bottom. Battery Life Varies By Use And Configuration. See Apple.Com/In/Batteries For More Information.'"
      ]
     },
     "execution_count": 74,
     "metadata": {},
     "output_type": "execute_result"
    }
   ],
   "source": [
    "sw.title() #every word first letter will be upper case"
   ]
  },
  {
   "cell_type": "code",
   "execution_count": 75,
   "id": "435acbaa",
   "metadata": {},
   "outputs": [
    {
     "data": {
      "text/plain": [
       "'Testing conducted by apple in october 2020 using pre-production 13-inch macbook pro systems with apple m1 chip, 8gb of ram and 512gb ssd. the apple tv app movie playback test measures battery life by playing back 1080p hd content with display brightness set to 8 clicks from the bottom. battery life varies by use and configuration. see apple.com/in/batteries for more information.'"
      ]
     },
     "execution_count": 75,
     "metadata": {},
     "output_type": "execute_result"
    }
   ],
   "source": [
    "sw.capitalize() #the first word first letter only upper case and rest of the word all are lower case that is the major difference b/w title and capitalize"
   ]
  },
  {
   "cell_type": "code",
   "execution_count": 76,
   "id": "ab689b9c",
   "metadata": {},
   "outputs": [
    {
     "data": {
      "text/plain": [
       "'sudhanshu'"
      ]
     },
     "execution_count": 76,
     "metadata": {},
     "output_type": "execute_result"
    }
   ],
   "source": [
    "s"
   ]
  },
  {
   "cell_type": "code",
   "execution_count": 82,
   "id": "64fb6a49",
   "metadata": {},
   "outputs": [],
   "source": [
    "ss ='SuBash'"
   ]
  },
  {
   "cell_type": "code",
   "execution_count": 83,
   "id": "870f8913",
   "metadata": {},
   "outputs": [
    {
     "data": {
      "text/plain": [
       "'SuBash'"
      ]
     },
     "execution_count": 83,
     "metadata": {},
     "output_type": "execute_result"
    }
   ],
   "source": [
    "ss"
   ]
  },
  {
   "cell_type": "code",
   "execution_count": 85,
   "id": "57dfaa9a",
   "metadata": {},
   "outputs": [
    {
     "data": {
      "text/plain": [
       "'sUbASH'"
      ]
     },
     "execution_count": 85,
     "metadata": {},
     "output_type": "execute_result"
    }
   ],
   "source": [
    "ss.swapcase() #Convert uppercase characters to lowercase and lowercase characters to uppercase."
   ]
  },
  {
   "cell_type": "code",
   "execution_count": 89,
   "id": "6402605f",
   "metadata": {},
   "outputs": [
    {
     "data": {
      "text/plain": [
       "'hsaBuS'"
      ]
     },
     "execution_count": 89,
     "metadata": {},
     "output_type": "execute_result"
    }
   ],
   "source": [
    "''.join(reversed(ss)) #reveresed function wont affect the original value #why join funtion used  over here means normally reversed function will return only obj "
   ]
  },
  {
   "cell_type": "code",
   "execution_count": 90,
   "id": "abf08c43",
   "metadata": {},
   "outputs": [
    {
     "data": {
      "text/plain": [
       "<reversed at 0x1c09e00baf0>"
      ]
     },
     "execution_count": 90,
     "metadata": {},
     "output_type": "execute_result"
    }
   ],
   "source": [
    "reversed(ss)"
   ]
  },
  {
   "cell_type": "code",
   "execution_count": 92,
   "id": "27141c80",
   "metadata": {},
   "outputs": [],
   "source": [
    "s5 = '   subash       '"
   ]
  },
  {
   "cell_type": "code",
   "execution_count": 93,
   "id": "48805139",
   "metadata": {},
   "outputs": [
    {
     "data": {
      "text/plain": [
       "'   subash       '"
      ]
     },
     "execution_count": 93,
     "metadata": {},
     "output_type": "execute_result"
    }
   ],
   "source": [
    "s5"
   ]
  },
  {
   "cell_type": "code",
   "execution_count": 94,
   "id": "53e87070",
   "metadata": {},
   "outputs": [
    {
     "data": {
      "text/plain": [
       "'subash       '"
      ]
     },
     "execution_count": 94,
     "metadata": {},
     "output_type": "execute_result"
    }
   ],
   "source": [
    "s5.lstrip()"
   ]
  },
  {
   "cell_type": "code",
   "execution_count": 95,
   "id": "0e273605",
   "metadata": {},
   "outputs": [
    {
     "data": {
      "text/plain": [
       "['subash']"
      ]
     },
     "execution_count": 95,
     "metadata": {},
     "output_type": "execute_result"
    }
   ],
   "source": [
    "s5.rsplit()"
   ]
  },
  {
   "cell_type": "code",
   "execution_count": 96,
   "id": "0863bfa7",
   "metadata": {},
   "outputs": [],
   "source": [
    "s6 = '   subash       '"
   ]
  },
  {
   "cell_type": "code",
   "execution_count": 97,
   "id": "d2589d15",
   "metadata": {},
   "outputs": [
    {
     "data": {
      "text/plain": [
       "'subash'"
      ]
     },
     "execution_count": 97,
     "metadata": {},
     "output_type": "execute_result"
    }
   ],
   "source": [
    "s6.strip()"
   ]
  },
  {
   "cell_type": "code",
   "execution_count": 98,
   "id": "6cf97208",
   "metadata": {},
   "outputs": [
    {
     "data": {
      "text/plain": [
       "'s u b a s h'"
      ]
     },
     "execution_count": 98,
     "metadata": {},
     "output_type": "execute_result"
    }
   ],
   "source": [
    "#join\n",
    "' '.join(\"subash\")"
   ]
  },
  {
   "cell_type": "code",
   "execution_count": 99,
   "id": "b1d48bd7",
   "metadata": {},
   "outputs": [
    {
     "data": {
      "text/plain": [
       "'sauabaaasah'"
      ]
     },
     "execution_count": 99,
     "metadata": {},
     "output_type": "execute_result"
    }
   ],
   "source": [
    "'a'.join('subash')"
   ]
  },
  {
   "cell_type": "code",
   "execution_count": 100,
   "id": "b3e7e139",
   "metadata": {},
   "outputs": [
    {
     "data": {
      "text/plain": [
       "'s#u#b#a#s#h'"
      ]
     },
     "execution_count": 100,
     "metadata": {},
     "output_type": "execute_result"
    }
   ],
   "source": [
    "'#'.join(\"subash\")"
   ]
  },
  {
   "cell_type": "code",
   "execution_count": 101,
   "id": "d62251b9",
   "metadata": {},
   "outputs": [
    {
     "data": {
      "text/plain": [
       "'zzzzzsudhanshuzzzzzz'"
      ]
     },
     "execution_count": 101,
     "metadata": {},
     "output_type": "execute_result"
    }
   ],
   "source": [
    "#center\n",
    "s.center(20,'z') #reserved 20 width and \"z\" is the char to store in the space and put the s value in center and"
   ]
  },
  {
   "cell_type": "code",
   "execution_count": null,
   "id": "2ea95a9d",
   "metadata": {},
   "outputs": [],
   "source": []
  }
 ],
 "metadata": {
  "kernelspec": {
   "display_name": "Python 3 (ipykernel)",
   "language": "python",
   "name": "python3"
  },
  "language_info": {
   "codemirror_mode": {
    "name": "ipython",
    "version": 3
   },
   "file_extension": ".py",
   "mimetype": "text/x-python",
   "name": "python",
   "nbconvert_exporter": "python",
   "pygments_lexer": "ipython3",
   "version": "3.9.12"
  }
 },
 "nbformat": 4,
 "nbformat_minor": 5
}
